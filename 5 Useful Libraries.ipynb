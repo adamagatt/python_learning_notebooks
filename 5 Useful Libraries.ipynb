{
 "cells": [
  {
   "cell_type": "markdown",
   "metadata": {
    "colab_type": "text",
    "id": "6DUJk6mCSkte"
   },
   "source": [
    "# 5 Useful Libraries\n",
    "##### **Author: Adam Gatt**"
   ]
  },
  {
   "cell_type": "markdown",
   "metadata": {
    "colab_type": "text",
    "id": "ty11x69USsoI"
   },
   "source": [
    "## os\n",
    "\n",
    "https://docs.python.org/3/library/os.html\n",
    "\n",
    "Allows operating system tools for:\n",
    "\n",
    "* Showing and changing the working directory\n",
    "* Listing directory contents\n",
    "* Reading/setting environment variables\n",
    "* `os.path` library for file path operations, including:\n",
    " * Checking if a file/path exists\n",
    " * Building/splitting paths in an OS-indepedent way\n",
    "* and more."
   ]
  },
  {
   "cell_type": "code",
   "execution_count": 6,
   "metadata": {
    "colab": {
     "base_uri": "https://localhost:8080/",
     "height": 193
    },
    "colab_type": "code",
    "executionInfo": {
     "elapsed": 699,
     "status": "ok",
     "timestamp": 1583980950571,
     "user": {
      "displayName": "Adam Gatt",
      "photoUrl": "",
      "userId": "04763248023094175140"
     },
     "user_tz": -630
    },
    "id": "4mcNH5hfSsIu",
    "outputId": "98c7d28b-6ef0-4648-efb4-c59ae5ba8d78"
   },
   "outputs": [
    {
     "name": "stdout",
     "output_type": "stream",
     "text": [
      "Current dir: /\n",
      "\n",
      "Contents of bin: \n",
      "['bash', 'bunzip2', 'bzcat', 'bzcmp', 'bzdiff', 'bzegrep', 'bzexe', 'bzfgrep', 'bzgrep', 'bzip2', 'bzip2recover', 'bzless', 'bzmore', 'cat', 'chgrp', 'chmod', 'chown', 'cp', 'dash', 'date', 'dd', 'df', 'dir', 'dmesg', 'dnsdomainname', 'domainname', 'echo', 'egrep', 'false', 'fgrep', 'findmnt', 'fusermount', 'grep', 'gunzip', 'gzexe', 'gzip', 'hostname', 'kill', 'less', 'lessecho', 'lessfile', 'lesskey', 'lesspipe', 'ln', 'login', 'ls', 'lsblk', 'mkdir', 'mknod', 'mktemp', 'more', 'mount', 'mountpoint', 'mv', 'netstat', 'nisdomainname', 'pidof', 'ps', 'pwd', 'rbash', 'readlink', 'rm', 'rmdir', 'run-parts', 'sed', 'sh', 'sleep', 'stty', 'su', 'sync', 'tar', 'tempfile', 'touch', 'true', 'ulockmgr_server', 'umount', 'uname', 'uncompress', 'vdir', 'wdctl', 'which', 'ypdomainname', 'zcat', 'zcmp', 'zdiff', 'zegrep', 'zfgrep', 'zforce', 'zgrep', 'zless', 'zmore', 'znew', 'journalctl', 'loginctl', 'networkctl', 'systemctl', 'systemd-ask-password', 'systemd-escape', 'systemd-inhibit', 'systemd-machine-id-setup', 'systemd-notify', 'systemd-sysusers', 'systemd-tmpfiles', 'systemd-tty-ask-password-agent', 'systemd', 'ping', 'ping4', 'ping6', 'fuser', 'systemd-hwdb', 'udevadm', 'ip', 'ss']\n",
      "\n",
      "Value of CONDA_EXE env var: \n",
      "/home/adamgatt/miniconda3/bin/conda\n",
      "\n",
      "Does '/home/adamgatt/coding' exist? True\n"
     ]
    }
   ],
   "source": [
    "import os\n",
    "\n",
    "# Print the current working directory\n",
    "print(f\"Current dir: {os.getcwd()}\")\n",
    "\n",
    "# Change the current working directory\n",
    "os.chdir('/')\n",
    "\n",
    "# Print the contents of a specified directory\n",
    "print(f\"\\nContents of bin: \\n{os.listdir('bin')}\")\n",
    "\n",
    "# Fetch environment variables\n",
    "print(f\"\\nValue of CONDA_EXE env var: \\n{os.environ['CONDA_EXE']}\")\n",
    "\n",
    "filepath = os.path.join('/home', 'adamgatt', 'coding')\n",
    "print(f\"\\nDoes '{filepath}' exist? {os.path.exists(filepath)}\")"
   ]
  },
  {
   "cell_type": "markdown",
   "metadata": {
    "colab_type": "text",
    "id": "JqTOqx7bWB8d"
   },
   "source": [
    "## `datetime`\n",
    "https://docs.python.org/3/library/datetime.html\n",
    "\n",
    "You can represent datetimes using the Date object. The library also provides functionality for comparing and parsing dates, fetching the current datetime and performing calculations with the timedelta object."
   ]
  },
  {
   "cell_type": "code",
   "execution_count": 0,
   "metadata": {
    "colab": {
     "base_uri": "https://localhost:8080/",
     "height": 119
    },
    "colab_type": "code",
    "executionInfo": {
     "elapsed": 1658,
     "status": "ok",
     "timestamp": 1584583793081,
     "user": {
      "displayName": "Adam Gatt",
      "photoUrl": "",
      "userId": "04763248023094175140"
     },
     "user_tz": -630
    },
    "id": "Gd48499ZWbV6",
    "outputId": "b792cc3d-2488-477a-e56b-3133a90e8910"
   },
   "outputs": [
    {
     "name": "stdout",
     "output_type": "stream",
     "text": [
      "Current datetime is 2020-03-19 02:09:53.400973\n",
      "19\n",
      "2020-03-19T02:09:53.400973\n",
      "3\n",
      "True\n",
      "05/03/2020\n"
     ]
    }
   ],
   "source": [
    "from datetime import datetime, timedelta\n",
    "\n",
    "# Get the current date\n",
    "cur_date = datetime.now()\n",
    "print(f\"Current datetime is {cur_date}\")\n",
    "\n",
    "# Get only the day from the date\n",
    "print(cur_date.day)\n",
    "# Print in standard ISO 8601 format\n",
    "print(cur_date.isoformat())\n",
    "# Print current day of the week (where 0 = Monday)\n",
    "print(cur_date.weekday())\n",
    "\n",
    "# Can perform math on dates using a timedelta object\n",
    "last_fortnight = cur_date - timedelta(weeks=2)\n",
    "\n",
    "# Comparison of dates\n",
    "print(cur_date > last_fortnight)\n",
    "\n",
    "# Can use strftime to print in custom format, or strptime to read from a custom format\n",
    "print(last_fortnight.strftime('%d/%m/%Y'))"
   ]
  },
  {
   "cell_type": "markdown",
   "metadata": {
    "colab_type": "text",
    "id": "KPGsQ5Uf52rd"
   },
   "source": [
    "## `json`\n",
    "https://docs.python.org/3/library/json.html\n",
    "\n",
    "Convert to and from the JSON format.\n",
    "* A Python `list` is analogous to a JSON list. A Python `dict` is analogous to a JSON object.\n",
    "* `load()` and `dump()` will read/write to a file/stream or \".write()-supporting file-like object\"\n",
    "* `loads()` and `dumps()` will read/write to a specified string"
   ]
  },
  {
   "cell_type": "code",
   "execution_count": 0,
   "metadata": {
    "colab": {
     "base_uri": "https://localhost:8080/",
     "height": 207
    },
    "colab_type": "code",
    "executionInfo": {
     "elapsed": 562,
     "status": "ok",
     "timestamp": 1584584009999,
     "user": {
      "displayName": "Adam Gatt",
      "photoUrl": "",
      "userId": "04763248023094175140"
     },
     "user_tz": -630
    },
    "id": "LjPtO6_h5_zu",
    "outputId": "51ff04b9-e581-4b2d-9a7c-0b9c8fcc3011"
   },
   "outputs": [
    {
     "name": "stdout",
     "output_type": "stream",
     "text": [
      "[{'name': 'Adam', 'year_enrolled': 2010, 'courses': ['Programming', 'Databases', 'Networking']}, {'name': 'Brett', 'year_enrolled': 2012, 'courses': []}, {'name': 'Ben', 'year_enrolled': 2014, 'courses': ['Programming', 'Databases', 'Networking']}]\n",
      "\n",
      "[{\"name\": \"Adam\", \"year_enrolled\": 2010, \"courses\": [\"Programming\", \"Databases\", \"Networking\"]}, {\"name\": \"Brett\", \"year_enrolled\": 2012, \"courses\": []}, {\"name\": \"Ben\", \"year_enrolled\": 2014, \"courses\": [\"Programming\", \"Databases\", \"Networking\"]}]\n",
      "<class 'str'>\n",
      "248\n",
      "2010, \"courses\": [\"P\n",
      "\n",
      "[{'name': 'Adam', 'year_enrolled': 2010, 'courses': ['Programming', 'Databases', 'Networking']}, {'name': 'Brett', 'year_enrolled': 2012, 'courses': []}, {'name': 'Ben', 'year_enrolled': 2014, 'courses': ['Programming', 'Databases', 'Networking']}]\n",
      "<class 'list'>\n",
      "Ben\n"
     ]
    }
   ],
   "source": [
    "import json\n",
    "\n",
    "# Define a structure we want to serialise to JSON\n",
    "default_courses = ['Programming', 'Databases', 'Networking']\n",
    "student_list = [{\n",
    "    'name': 'Adam',\n",
    "    'year_enrolled': 2010,\n",
    "    'courses': default_courses\n",
    "}, {\n",
    "    'name': 'Brett',\n",
    "    'year_enrolled': 2012,\n",
    "    'courses': []\n",
    "}, {\n",
    "    'name': 'Ben',\n",
    "    'year_enrolled': 2014,\n",
    "    'courses': default_courses\n",
    "}]\n",
    "\n",
    "print(student_list)\n",
    "\n",
    "# Create a JSON-formatted string from our structure\n",
    "student_json = json.dumps(student_list)\n",
    "print()\n",
    "print(student_json)\n",
    "print(type(student_json))\n",
    "print(len(student_json))\n",
    "print(student_json[35:55])\n",
    "\n",
    "# Parse the JSON string into a Python structure we can interact with\n",
    "list_again = json.loads(student_json)\n",
    "print()\n",
    "print(list_again)\n",
    "print(type(list_again))\n",
    "print(list_again[2]['name'])"
   ]
  },
  {
   "cell_type": "code",
   "execution_count": 0,
   "metadata": {
    "colab": {
     "base_uri": "https://localhost:8080/",
     "height": 69
    },
    "colab_type": "code",
    "executionInfo": {
     "elapsed": 3685,
     "status": "ok",
     "timestamp": 1583919734640,
     "user": {
      "displayName": "Adam Gatt",
      "photoUrl": "",
      "userId": "04763248023094175140"
     },
     "user_tz": -630
    },
    "id": "6YNMk7FO8NhY",
    "outputId": "7704ae82-ff49-4f02-ba82-afa65dcc4f47"
   },
   "outputs": [
    {
     "name": "stdout",
     "output_type": "stream",
     "text": [
      "{'name': 'Ben', 'year_enrolled': 2014, 'courses': ['Cooking', 'Databases', 'Networking']}\n",
      "\n",
      "{'name': 'Ben', 'year_enrolled': 2014, 'courses': ['Programming', 'Databases', 'Networking']}\n"
     ]
    }
   ],
   "source": [
    "# 'courses' refers to the same actual list for items 0 and 2, so changing one affects the other\n",
    "student_list[0]['courses'][0] = 'Cooking'\n",
    "print(student_list[2])\n",
    "\n",
    "# When parsing a JSON string all structures are created anew, so all 'courses' refer to separate lists in memory\n",
    "print()\n",
    "list_again[0]['courses'][1] = ['Cooking']\n",
    "print(list_again[2])"
   ]
  },
  {
   "cell_type": "markdown",
   "metadata": {
    "colab_type": "text",
    "id": "SQZ41sbN9piS"
   },
   "source": [
    "## `pyyaml`\n",
    "https://pyyaml.org/wiki/PyYAMLDocumentation\n",
    "\n",
    "The `pyyaml` library allows you to serialise to and from the YAML format."
   ]
  },
  {
   "cell_type": "code",
   "execution_count": 0,
   "metadata": {
    "colab": {
     "base_uri": "https://localhost:8080/",
     "height": 241
    },
    "colab_type": "code",
    "executionInfo": {
     "elapsed": 4974,
     "status": "ok",
     "timestamp": 1584584416439,
     "user": {
      "displayName": "Adam Gatt",
      "photoUrl": "",
      "userId": "04763248023094175140"
     },
     "user_tz": -630
    },
    "id": "ZthT4qHd9u_O",
    "outputId": "74f72ef2-3208-4497-d684-4ed01dfee938"
   },
   "outputs": [
    {
     "name": "stdout",
     "output_type": "stream",
     "text": [
      "Requirement already satisfied: pyyaml in /usr/local/lib/python3.6/dist-packages (3.13)\n",
      "- courses: &id001 [Programming, Databases, Networking]\n",
      "  name: Adam\n",
      "  year_enrolled: 2010\n",
      "- courses: []\n",
      "  name: Brett\n",
      "  year_enrolled: 2012\n",
      "- courses: *id001\n",
      "  name: Ben\n",
      "  year_enrolled: 2014\n",
      "\n",
      "[{'courses': ['Programming', 'Databases', 'Networking'], 'name': 'Adam', 'year_enrolled': 2010}, {'courses': [], 'name': 'Brett', 'year_enrolled': 2012}, {'courses': ['Programming', 'Databases', 'Networking'], 'name': 'Ben', 'year_enrolled': 2014}]\n"
     ]
    }
   ],
   "source": [
    "!pip install pyyaml\n",
    "\n",
    "from yaml import dump, load\n",
    "\n",
    "student_yaml = dump(student_list)\n",
    "print(student_yaml) # Use of IDs allows shared list to remain a single object in memory\n",
    "list_from_yaml = load(student_yaml)\n",
    "print(list_from_yaml)"
   ]
  },
  {
   "cell_type": "markdown",
   "metadata": {
    "colab_type": "text",
    "id": "mVFO0WIn9lf_"
   },
   "source": [
    "## `pprint`\n",
    "_(pretty print)_\n",
    "\n",
    "https://docs.python.org/3/library/pprint.html\n",
    "\n",
    "Provides the `pprint()` function that prints out arbitrary structures with a layout that makes them easier to understand. You can also configure and create a `PrettyPrinter` object for repeated use, specifying:\n",
    "* `indent` indentation size (in spaces)\n",
    "* `width` maximum character length for each line\n",
    "* `compact` whether to show one element per line or condense to a single line where possible\n",
    "* `depth` maximum element depth to display within the function. Elements deeper than this are displayed as `...`\n",
    "* `sort_dict` (Python 3.8+) Whether keys in a dict should be displayed in alphabetical order"
   ]
  },
  {
   "cell_type": "code",
   "execution_count": 0,
   "metadata": {
    "colab": {
     "base_uri": "https://localhost:8080/",
     "height": 357
    },
    "colab_type": "code",
    "executionInfo": {
     "elapsed": 534,
     "status": "ok",
     "timestamp": 1584584772566,
     "user": {
      "displayName": "Adam Gatt",
      "photoUrl": "",
      "userId": "04763248023094175140"
     },
     "user_tz": -630
    },
    "id": "42HRDqSq_8R6",
    "outputId": "d263a23e-db07-40ff-9b26-d91609c2fd89"
   },
   "outputs": [
    {
     "name": "stdout",
     "output_type": "stream",
     "text": [
      "[{'courses': ['Programming',\n",
      "              'Databases',\n",
      "              'Networking'],\n",
      "  'name': 'Adam',\n",
      "  'year_enrolled': 2010},\n",
      " {'courses': [],\n",
      "  'name': 'Brett',\n",
      "  'year_enrolled': 2012},\n",
      " {'courses': ['Programming',\n",
      "              'Databases',\n",
      "              'Networking'],\n",
      "  'name': 'Ben',\n",
      "  'year_enrolled': 2014}]\n",
      "\n",
      "(   1,\n",
      "    2,\n",
      "    (3, 4),\n",
      "    (   5,\n",
      "        6,\n",
      "        (...)))\n"
     ]
    }
   ],
   "source": [
    "from pprint import pprint, PrettyPrinter\n",
    "pprint(student_list)\n",
    "\n",
    "\n",
    "my_structure = (1, 2, (3, 4), (5, 6, (7, 8)))\n",
    "printer = PrettyPrinter(indent=4, width=15, depth=2, compact=False)\n",
    "print()\n",
    "printer.pprint(my_structure)"
   ]
  },
  {
   "cell_type": "markdown",
   "metadata": {
    "colab_type": "text",
    "id": "VBRJ5mSSD4Ap"
   },
   "source": [
    "## `tqdm`\n",
    "_(progress bar)_\n",
    "\n",
    "https://github.com/tqdm/tqdm _(install first with `pip tqdm`)_\n",
    "\n",
    "Allows you to display and update progress bars for long operations. The progress bar will update in-place.\n",
    "* Can easily be used by wrapping `tqdm()` around the list/generator/iterable that we are progressing through.\n",
    "* When using in a notebook, use `tqdm_notebook()` instead for more consistent behaviour (and better appearance).\n",
    "* If using `tqdm` (non-notebook), avoid `print`ing or it may interfere with the update. Instead you can use `tqdm.write()` to print, with the progress bar shifting below all messages printed this way."
   ]
  },
  {
   "cell_type": "code",
   "execution_count": 0,
   "metadata": {
    "colab": {
     "base_uri": "https://localhost:8080/",
     "height": 270,
     "referenced_widgets": [
      "6606a76e6b8f4f9bba8e7fb6b9152901",
      "c594870576d14ca5bc5d78a0d6aae8b8",
      "15ac746e47354fde82c9dada4c67b442",
      "d56cc35cf1964c07b9ed4c5acba45c31",
      "9007bf8e93694b1dbf46e85efeb20712",
      "dc379eea53244f75b81de5f4b37b0540",
      "f17f26a194cc4687aba80829e0c26679",
      "e7a250c725424393a49b67a5cb5c08ce"
     ]
    },
    "colab_type": "code",
    "executionInfo": {
     "elapsed": 12638,
     "status": "ok",
     "timestamp": 1584585230246,
     "user": {
      "displayName": "Adam Gatt",
      "photoUrl": "",
      "userId": "04763248023094175140"
     },
     "user_tz": -630
    },
    "id": "yZS7gyvEFEz1",
    "outputId": "5ae7cbac-cbdd-475e-8499-f397a366b38b"
   },
   "outputs": [
    {
     "data": {
      "application/vnd.jupyter.widget-view+json": {
       "model_id": "6606a76e6b8f4f9bba8e7fb6b9152901",
       "version_major": 2,
       "version_minor": 0
      },
      "text/plain": [
       "HBox(children=(IntProgress(value=0, max=12), HTML(value='')))"
      ]
     },
     "metadata": {
      "tags": []
     },
     "output_type": "display_data"
    },
    {
     "name": "stdout",
     "output_type": "stream",
     "text": [
      "Printing 0\n",
      "Printing 1\n",
      "Printing 2\n",
      "Printing 3\n",
      "Printing 4\n",
      "Printing 5\n",
      "Printing 6\n",
      "Printing 7\n",
      "Printing 8\n",
      "Printing 9\n",
      "Printing 10\n",
      "Printing 11\n",
      "\n"
     ]
    }
   ],
   "source": [
    "from tqdm import tqdm, tqdm_notebook\n",
    "from time import sleep\n",
    "\n",
    "for x in tqdm_notebook(range(12)):\n",
    "  sleep(1)\n",
    "  print(f\"Printing {x}\")"
   ]
  },
  {
   "cell_type": "code",
   "execution_count": 0,
   "metadata": {
    "colab": {
     "base_uri": "https://localhost:8080/",
     "height": 88
    },
    "colab_type": "code",
    "executionInfo": {
     "elapsed": 2886,
     "status": "ok",
     "timestamp": 1584585636508,
     "user": {
      "displayName": "Adam Gatt",
      "photoUrl": "",
      "userId": "04763248023094175140"
     },
     "user_tz": -630
    },
    "id": "Z0RJaOXnGz8W",
    "outputId": "3661577e-c500-4db7-f9ef-106ed123958a"
   },
   "outputs": [
    {
     "name": "stderr",
     "output_type": "stream",
     "text": [
      "Assembling chess board: 100%|██████████| 16/16 [00:02<00:00,  6.62piece/s]"
     ]
    },
    {
     "name": "stdout",
     "output_type": "stream",
     "text": [
      "['white pawn', 'black pawn', 'white pawn', 'black pawn', 'white pawn', 'black pawn', 'white pawn', 'black pawn', 'white pawn', 'black pawn', 'white pawn', 'black pawn', 'white pawn', 'black pawn', 'white pawn', 'black pawn', 'white knight', 'black knight', 'white knight', 'black knight', 'white bishop', 'black bishop', 'white bishop', 'black bishop', 'white rook', 'black rook', 'white rook', 'black rook', 'white king', 'black king', 'white queen', 'black queen']\n"
     ]
    },
    {
     "name": "stderr",
     "output_type": "stream",
     "text": [
      "\n"
     ]
    }
   ],
   "source": [
    "from functools import reduce\n",
    "from tqdm import tqdm_notebook\n",
    "\n",
    "def create_white_and_black_piece(piece):\n",
    "  return ['white ' + piece, 'black ' + piece]\n",
    "\n",
    "def add_pieces_to_board(current_board, pieces):\n",
    "  sleep(0.15)\n",
    "  return current_board + pieces\n",
    "\n",
    "piece_list = ['pawn']*8 + ['knight']*2 + ['bishop']*2 + ['rook']*2 + ['king', 'queen']\n",
    "\n",
    "# tqdm can be used in a functional manner simply by wrapping it around the iterable\n",
    "board = reduce(add_pieces_to_board,\n",
    "               map(create_white_and_black_piece,\n",
    "                   tqdm(piece_list, desc='Assembling chess board', unit='piece', leave=True)),\n",
    "               []) # Begin with an empty board\n",
    "\n",
    "print(board)"
   ]
  },
  {
   "cell_type": "markdown",
   "metadata": {
    "colab_type": "text",
    "id": "xD7nRgcaSroH"
   },
   "source": [
    "## `multiprocessing`\n",
    "_(parallel processing)_\n",
    "\n",
    "Python offers the `threading` library for creating new processing \"threads\" that allow for parallel execution of code with fine-grained detail. But there is also a `multiprocessing` library which also offers parallelism but with extremely easy, higher-level interface. If you have a lot of data that needs to be processed in an identical manner, there are often performance improvements to be made simply by plugging in a multiprocessing `Pool` object into the relevant processing loop.\n",
    "\n",
    "On a technical level, the `threading` library spawns parallel threads within the same process, allowing for shared memory use but requiring careful management of such with the Global Interpreter Lock. `multiprocessing` avoids the issue by spawning entirely new subprocesses for the parallel executions. This comes at a cost of making communication between the parallel executions more restrictive, with special Queue and Pipe objects provided for this purpose. But this cost is moot for the common case of processing multiple pieces of data independently and then simply combining their results at the very end. An additional cost is that spawning new processes is slower than spawning a new thread."
   ]
  },
  {
   "cell_type": "code",
   "execution_count": 0,
   "metadata": {
    "colab": {
     "base_uri": "https://localhost:8080/",
     "height": 564
    },
    "colab_type": "code",
    "executionInfo": {
     "elapsed": 69405,
     "status": "ok",
     "timestamp": 1584587564160,
     "user": {
      "displayName": "Adam Gatt",
      "photoUrl": "",
      "userId": "04763248023094175140"
     },
     "user_tz": -630
    },
    "id": "AnUBMRqJrlkE",
    "outputId": "259edc95-86d6-4da0-b55a-40b2e0c02423"
   },
   "outputs": [
    {
     "name": "stdout",
     "output_type": "stream",
     "text": [
      "Starting to fetch record 0\n",
      "Record 0 retrieved!\n",
      "Starting to fetch record 1\n",
      "Record 1 retrieved!\n",
      "Starting to fetch record 2\n",
      "Record 2 retrieved!\n",
      "Starting to fetch record 3\n",
      "Record 3 retrieved!\n",
      "Starting to fetch record 4\n",
      "Record 4 retrieved!\n",
      "Starting to fetch record 5\n",
      "Record 5 retrieved!\n",
      "Starting to fetch record 6\n",
      "Record 6 retrieved!\n",
      "Starting to fetch record 7\n",
      "Record 7 retrieved!\n",
      "Starting to fetch record 8\n",
      "Record 8 retrieved!\n",
      "Starting to fetch record 9\n",
      "Record 9 retrieved!\n",
      "Starting to fetch record 10\n",
      "Record 10 retrieved!\n",
      "Starting to fetch record 11\n",
      "Record 11 retrieved!\n",
      "Starting to fetch record 12\n",
      "Record 12 retrieved!\n",
      "Starting to fetch record 13\n",
      "Record 13 retrieved!\n",
      "Starting to fetch record 14\n",
      "Record 14 retrieved!\n",
      "[{'id': 0, 'balance': 3000}, {'id': 1, 'balance': 3500}, {'id': 2, 'balance': 4000}, {'id': 3, 'balance': 4500}, {'id': 4, 'balance': 5000}, {'id': 5, 'balance': 5500}, {'id': 6, 'balance': 6000}, {'id': 7, 'balance': 6500}, {'id': 8, 'balance': 7000}, {'id': 9, 'balance': 7500}, {'id': 10, 'balance': 8000}, {'id': 11, 'balance': 8500}, {'id': 12, 'balance': 9000}, {'id': 13, 'balance': 9500}, {'id': 14, 'balance': 10000}]\n"
     ]
    }
   ],
   "source": [
    "# Sequential processing of data\n",
    "\n",
    "from time import sleep\n",
    "from random import uniform\n",
    "\n",
    "# We take our slow code and spin it out into a function definition\n",
    "# Fetches a record with a 3-6 second delay before returning\n",
    "def fetch_from_slow_database(record_id):\n",
    "  print(f\"Starting to fetch record {record_id}\")\n",
    "  sleep(uniform(3.0, 6.0))\n",
    "  print(f\"Record {record_id} retrieved!\")\n",
    "  return {\n",
    "      'id': record_id,\n",
    "      'balance': 3000 + record_id*500\n",
    "  }\n",
    "\n",
    "# The data to process is stored in something we can iterate over (e.g. a list, tuple, generator)\n",
    "id_list = range(15)\n",
    "\n",
    "fetched_records = [fetch_from_slow_database(id) for id in id_list]\n",
    "\n",
    "# Can see the records have been collated into the correct order\n",
    "print(fetched_records)"
   ]
  },
  {
   "cell_type": "code",
   "execution_count": 0,
   "metadata": {
    "colab": {
     "base_uri": "https://localhost:8080/",
     "height": 564
    },
    "colab_type": "code",
    "executionInfo": {
     "elapsed": 14306,
     "status": "ok",
     "timestamp": 1584586147766,
     "user": {
      "displayName": "Adam Gatt",
      "photoUrl": "",
      "userId": "04763248023094175140"
     },
     "user_tz": -630
    },
    "id": "pqNXsujOjip_",
    "outputId": "e8f636bd-d137-4ec2-e0f0-c6fa6850982d"
   },
   "outputs": [
    {
     "name": "stdout",
     "output_type": "stream",
     "text": [
      "Starting to fetch record 0\n",
      "Starting to fetch record 1\n",
      "Starting to fetch record 5\n",
      "Starting to fetch record 4\n",
      "Starting to fetch record 2\n",
      "Starting to fetch record 3\n",
      "Record 1 retrieved!\n",
      "Starting to fetch record 6\n",
      "Record 5 retrieved!\n",
      "Starting to fetch record 7\n",
      "Record 4 retrieved!\n",
      "Starting to fetch record 8\n",
      "Record 2 retrieved!\n",
      "Starting to fetch record 9\n",
      "Record 3 retrieved!\n",
      "Starting to fetch record 10\n",
      "Record 0 retrieved!\n",
      "Starting to fetch record 11\n",
      "Record 6 retrieved!\n",
      "Starting to fetch record 12\n",
      "Record 11 retrieved!\n",
      "Starting to fetch record 13\n",
      "Record 7 retrieved!\n",
      "Starting to fetch record 14\n",
      "Record 10 retrieved!\n",
      "Record 8 retrieved!\n",
      "Record 9 retrieved!\n",
      "Record 13 retrieved!\n",
      "Record 12 retrieved!\n",
      "Record 14 retrieved!\n",
      "[{'id': 0, 'balance': 3000}, {'id': 1, 'balance': 3500}, {'id': 2, 'balance': 4000}, {'id': 3, 'balance': 4500}, {'id': 4, 'balance': 5000}, {'id': 5, 'balance': 5500}, {'id': 6, 'balance': 6000}, {'id': 7, 'balance': 6500}, {'id': 8, 'balance': 7000}, {'id': 9, 'balance': 7500}, {'id': 10, 'balance': 8000}, {'id': 11, 'balance': 8500}, {'id': 12, 'balance': 9000}, {'id': 13, 'balance': 9500}, {'id': 14, 'balance': 10000}]\n"
     ]
    }
   ],
   "source": [
    "# Parallel processing, with results collated in order\n",
    "\n",
    "from multiprocessing import Pool\n",
    "from time import sleep\n",
    "from random import uniform\n",
    "\n",
    "# We take our slow code and spin it out into a function definition\n",
    "# Fetches a record with a 3-6 second delay before returning\n",
    "def fetch_from_slow_database(record_id, model_path):\n",
    "  print(f\"Starting to fetch record {record_id}\")\n",
    "  sleep(uniform(3.0, 6.0))\n",
    "  print(f\"Record {record_id} retrieved!\")\n",
    "  return {\n",
    "      'id': record_id,\n",
    "      'balance': 3000 + record_id*500\n",
    "  }\n",
    "\n",
    "# The data to process is stored in something we can iterate over (e.g. a list, tuple, generator)\n",
    "id_list = range(15)\n",
    "\n",
    "# Create the pool with a maximum of 10 concurrent workers at a time\n",
    "pool = Pool(6)\n",
    "\n",
    "# This is all it takes to perform the parallel processing\n",
    "# The second argument is the list of inputs we need to iterate through\n",
    "# The first argument is the function to feed each input to\n",
    "fetched_records = pool.map(fetch_from_slow_database, id_list)\n",
    "\n",
    "# Can see the records have been collated into the correct order\n",
    "print(fetched_records)"
   ]
  },
  {
   "cell_type": "markdown",
   "metadata": {
    "colab_type": "text",
    "id": "ihCCawdayBXm"
   },
   "source": [
    "We can use `imap` instead of `map` to treat the parallel processing as an iterator, so that each result will be returned and usable individually. Each result is made available when they are made available, and when it is their turn based on the ordering of the input data.\n",
    "\n",
    "Using multiprocessing as an iterator has the effect of supressing `print` statements in our processing function."
   ]
  },
  {
   "cell_type": "code",
   "execution_count": 0,
   "metadata": {
    "colab": {
     "base_uri": "https://localhost:8080/",
     "height": 272
    },
    "colab_type": "code",
    "executionInfo": {
     "elapsed": 14538,
     "status": "ok",
     "timestamp": 1584587612643,
     "user": {
      "displayName": "Adam Gatt",
      "photoUrl": "",
      "userId": "04763248023094175140"
     },
     "user_tz": -630
    },
    "id": "_GGthLmDxzmB",
    "outputId": "bce82229-a11e-40b2-c12c-650b32947cbd"
   },
   "outputs": [
    {
     "name": "stdout",
     "output_type": "stream",
     "text": [
      "{'id': 0, 'balance': 3000}\n",
      "{'id': 1, 'balance': 3500}\n",
      "{'id': 2, 'balance': 4000}\n",
      "{'id': 3, 'balance': 4500}\n",
      "{'id': 4, 'balance': 5000}\n",
      "{'id': 5, 'balance': 5500}\n",
      "{'id': 6, 'balance': 6000}\n",
      "{'id': 7, 'balance': 6500}\n",
      "{'id': 8, 'balance': 7000}\n",
      "{'id': 9, 'balance': 7500}\n",
      "{'id': 10, 'balance': 8000}\n",
      "{'id': 11, 'balance': 8500}\n",
      "{'id': 12, 'balance': 9000}\n",
      "{'id': 13, 'balance': 9500}\n",
      "{'id': 14, 'balance': 10000}\n"
     ]
    }
   ],
   "source": [
    "# Used as an iterator, we have access to each individual \"result\" instead\n",
    "# of a completed list of \"fetched_results\".\n",
    "for result in pool.imap(fetch_from_slow_database, id_list):\n",
    "  print(result)"
   ]
  },
  {
   "cell_type": "markdown",
   "metadata": {
    "colab_type": "text",
    "id": "PB620dQgCzju"
   },
   "source": [
    "Sometimes we don't care about the results being collated into the same order as the inputs had. This might be because:\n",
    "\n",
    "* The ordering of the input data wasn't hugely important to begin with, for example training data in an ML application\n",
    "* We want to act on processed results as soon as they are ready, such as responding to HTTP requests\n",
    "* We don't need to gather the results together at all but instead simply dump them into a data store such as files in an S3 bucket\n",
    "\n",
    "The `imap_unordered` function allows us to use our Pool object more efficiently by ignoring the ordering requirement. Instead of gathering the results together into a list, we instead use `imap_unordered` as an iterator in a `for` loop. \n",
    "\n",
    "Like `imap`, we are provided with each result individually. However, results will not wait for their \"turn\" based on the order of the input data. Instead we receive them as soon as they become available, allowing us to act on each immediately."
   ]
  },
  {
   "cell_type": "code",
   "execution_count": 0,
   "metadata": {
    "colab": {
     "base_uri": "https://localhost:8080/",
     "height": 88
    },
    "colab_type": "code",
    "executionInfo": {
     "elapsed": 12720,
     "status": "ok",
     "timestamp": 1584586941888,
     "user": {
      "displayName": "Adam Gatt",
      "photoUrl": "",
      "userId": "04763248023094175140"
     },
     "user_tz": -630
    },
    "id": "MCIFq8pGCEFo",
    "outputId": "4a8ceb03-c334-4ec5-a758-e8da4af4f39b"
   },
   "outputs": [
    {
     "name": "stderr",
     "output_type": "stream",
     "text": [
      "Fetching records: 100%|██████████| 15/15 [00:12<00:00,  1.23record/s]"
     ]
    },
    {
     "name": "stdout",
     "output_type": "stream",
     "text": [
      "[{'id': 1, 'balance': 3500}, {'id': 2, 'balance': 4000}, {'id': 5, 'balance': 5500}, {'id': 3, 'balance': 4500}, {'id': 0, 'balance': 3000}, {'id': 4, 'balance': 5000}, {'id': 6, 'balance': 6000}, {'id': 7, 'balance': 6500}, {'id': 9, 'balance': 7500}, {'id': 8, 'balance': 7000}, {'id': 10, 'balance': 8000}, {'id': 11, 'balance': 8500}, {'id': 14, 'balance': 10000}, {'id': 13, 'balance': 9500}, {'id': 12, 'balance': 9000}]\n"
     ]
    },
    {
     "name": "stderr",
     "output_type": "stream",
     "text": [
      "\n"
     ]
    }
   ],
   "source": [
    "from tqdm import tqdm\n",
    "\n",
    "record_list = []\n",
    "# We can wrap tqdm around imap or imap_unorderd to show and update progress\n",
    "# tqdm needs to be around the imap_unordered, not around id_list or else it\n",
    "# will jump to 100% progress immediately\n",
    "for record in tqdm(pool.imap_unordered(fetch_from_slow_database, id_list), total=len(id_list), unit='record', desc='Fetching records'):\n",
    "    record_list.append(record)\n",
    "\n",
    "print(record_list)"
   ]
  },
  {
   "cell_type": "code",
   "execution_count": 0,
   "metadata": {
    "colab": {
     "base_uri": "https://localhost:8080/",
     "height": 103,
     "referenced_widgets": [
      "6e95516b93ce4ffe8557151e0f26624b",
      "5f78506e73654165816bd68ddfd22043",
      "f06148ec9dcf4b83b9358186388c76d4",
      "c3d1eba42fc54fc5a53dd8236747e9b0",
      "bfe0bb0cc448426099c6d24aaa149f45",
      "334f0b60f9584a4b9020fe3a816a9837",
      "c80f5f87316946ae9f96498ed06b168f",
      "6a4f1584fe454554856c990e303398bb"
     ]
    },
    "colab_type": "code",
    "executionInfo": {
     "elapsed": 10737,
     "status": "ok",
     "timestamp": 1583922355285,
     "user": {
      "displayName": "Adam Gatt",
      "photoUrl": "",
      "userId": "04763248023094175140"
     },
     "user_tz": -630
    },
    "id": "AqyAzdZ4CjSb",
    "outputId": "959ba577-3f68-4a08-fd65-4a416d00ca52"
   },
   "outputs": [
    {
     "data": {
      "application/vnd.jupyter.widget-view+json": {
       "model_id": "6e95516b93ce4ffe8557151e0f26624b",
       "version_major": 2,
       "version_minor": 0
      },
      "text/plain": [
       "HBox(children=(IntProgress(value=0, description='Fetching records', max=15, style=ProgressStyle(description_wi…"
      ]
     },
     "metadata": {
      "tags": []
     },
     "output_type": "display_data"
    },
    {
     "name": "stdout",
     "output_type": "stream",
     "text": [
      "\n",
      "[{'id': 6, 'balance': 6000}, {'id': 3, 'balance': 4500}, {'id': 7, 'balance': 6500}, {'id': 9, 'balance': 7500}, {'id': 2, 'balance': 4000}, {'id': 8, 'balance': 7000}, {'id': 5, 'balance': 5500}, {'id': 0, 'balance': 3000}, {'id': 1, 'balance': 3500}, {'id': 4, 'balance': 5000}, {'id': 12, 'balance': 9000}, {'id': 14, 'balance': 10000}, {'id': 13, 'balance': 9500}, {'id': 11, 'balance': 8500}, {'id': 10, 'balance': 8000}]\n"
     ]
    }
   ],
   "source": [
    "from tqdm import tqdm_notebook\n",
    "\n",
    "# If we do want to gather the results together but just want the speed\n",
    "# improvement from removing the ordering requirement, then we can just\n",
    "# evaluate the imap_unordered iterator by casting to a list\n",
    "unordered_results = list(tqdm_notebook(pool.imap_unordered(fetch_from_slow_database, id_list), total=len(id_list), unit='record', desc='Fetching records'))\n",
    "\n",
    "print(unordered_results)"
   ]
  },
  {
   "cell_type": "markdown",
   "metadata": {
    "colab_type": "text",
    "id": "nFbosNeuLEI7"
   },
   "source": [
    "If we want to avoid the overhead of multiprocessing or use shared memory we can perform parallel execution at the thread level. One way to achieve this is to use the `Thread` class in the `threading` library. We then need to wait for each thread's completion with `join()` and collate results manually. A higher-level interface is provided by the `ThreadPoolExecutor` class in the `concurrent.futures` library."
   ]
  },
  {
   "cell_type": "code",
   "execution_count": 0,
   "metadata": {
    "colab": {
     "base_uri": "https://localhost:8080/",
     "height": 797
    },
    "colab_type": "code",
    "executionInfo": {
     "elapsed": 11277,
     "status": "ok",
     "timestamp": 1583923448512,
     "user": {
      "displayName": "Adam Gatt",
      "photoUrl": "",
      "userId": "04763248023094175140"
     },
     "user_tz": -630
    },
    "id": "5qIPh1XfHsql",
    "outputId": "0b0ddc89-f386-43b5-8c57-8010c36008ae"
   },
   "outputs": [
    {
     "name": "stdout",
     "output_type": "stream",
     "text": [
      "Starting to fetch record 0\n",
      "Starting to fetch record 1\n",
      "Starting to fetch record 2\n",
      "Starting to fetch record 3\n",
      "Starting to fetch record 4\n",
      "Starting to fetch record 5\n",
      "Starting to fetch record 6\n",
      "Starting to fetch record 7\n",
      "Starting to fetch record 8Starting to fetch record 9\n",
      "\n",
      "Record 6 retrieved!Thread <Future at 0x7f2bb1c22f98 state=finished returned dict> has result {'id': 6, 'balance': 6000}\n",
      "\n",
      "Starting to fetch record 10\n",
      "Record 9 retrieved!Thread <Future at 0x7f2bb1c224a8 state=finished returned dict> has result {'id': 9, 'balance': 7500}\n",
      "\n",
      "Starting to fetch record 11\n",
      "Record 2 retrieved!\n",
      "Starting to fetch record 12Thread <Future at 0x7f2bb55037f0 state=finished returned dict> has result {'id': 2, 'balance': 4000}\n",
      "\n",
      "Record 0 retrieved!Thread <Future at 0x7f2bb1c47240 state=finished returned dict> has result {'id': 0, 'balance': 3000}\n",
      "\n",
      "Starting to fetch record 13\n",
      "Record 8 retrieved!Thread <Future at 0x7f2bb1c22518 state=finished returned dict> has result {'id': 8, 'balance': 7000}\n",
      "\n",
      "Starting to fetch record 14\n",
      "Record 3 retrieved!\n",
      "Thread <Future at 0x7f2bb1c47438 state=finished returned dict> has result {'id': 3, 'balance': 4500}\n",
      "Record 7 retrieved!Thread <Future at 0x7f2bb1c476a0 state=finished returned dict> has result {'id': 7, 'balance': 6500}\n",
      "\n",
      "Record 1 retrieved!Thread <Future at 0x7f2bb1c47400 state=finished returned dict> has result {'id': 1, 'balance': 3500}\n",
      "\n",
      "Record 5 retrieved!\n",
      "Record 4 retrieved!Thread <Future at 0x7f2bb1c634e0 state=finished returned dict> has result {'id': 5, 'balance': 5500}\n",
      "\n",
      "Thread <Future at 0x7f2bb1c47e80 state=finished returned dict> has result {'id': 4, 'balance': 5000}\n",
      "Record 10 retrieved!Thread <Future at 0x7f2bb1c4e0f0 state=finished returned dict> has result {'id': 10, 'balance': 8000}\n",
      "\n",
      "Record 13 retrieved!\n",
      "Thread <Future at 0x7f2bb1c4e550 state=finished returned dict> has result {'id': 13, 'balance': 9500}\n",
      "Record 12 retrieved!Thread <Future at 0x7f2bb1c4e4a8 state=finished returned dict> has result {'id': 12, 'balance': 9000}\n",
      "\n",
      "Record 11 retrieved!\n",
      "Thread <Future at 0x7f2bb1c4e400 state=finished returned dict> has result {'id': 11, 'balance': 8500}\n",
      "Record 14 retrieved!Thread <Future at 0x7f2bb1c4e5f8 state=finished returned dict> has result {'id': 14, 'balance': 10000}\n",
      "\n"
     ]
    }
   ],
   "source": [
    "from concurrent.futures import ThreadPoolExecutor, as_completed\n",
    "\n",
    "# Provides a context manager to supply to a 'with' statement to ensure that\n",
    "# cleanup is correctly performed for us \n",
    "with ThreadPoolExecutor(max_workers=10) as pool:\n",
    "\n",
    "    # Submit each execution to the pool. The output is a thread reference we\n",
    "    # can gather into a list to check up on the threads in future. We could also\n",
    "    # use the thread reference to check if a thread is still running or cancel\n",
    "    # it if desired.\n",
    "    threads = [pool.submit(fetch_from_slow_database, input_id) for input_id in id_list]\n",
    "    \n",
    "    # as_completed will return threads as they complete\n",
    "    for thread in as_completed(threads):\n",
    "      # We call result() to fetch the result of the completed thread\n",
    "      print(f\"Thread {thread} has result {thread.result()}\")\n",
    "\n"
   ]
  },
  {
   "cell_type": "code",
   "execution_count": 0,
   "metadata": {
    "colab": {},
    "colab_type": "code",
    "id": "zgkJjAVCQIL8"
   },
   "outputs": [],
   "source": []
  }
 ],
 "metadata": {
  "colab": {
   "collapsed_sections": [],
   "name": "5 Useful Libraries.ipynb",
   "provenance": [
    {
     "file_id": "1UfTkfcxZopyalUI92o2f3TV_h8Nn_gyH",
     "timestamp": 1583895561615
    }
   ],
   "toc_visible": true
  },
  "kernelspec": {
   "display_name": "Python 3",
   "language": "python",
   "name": "python3"
  },
  "language_info": {
   "codemirror_mode": {
    "name": "ipython",
    "version": 3
   },
   "file_extension": ".py",
   "mimetype": "text/x-python",
   "name": "python",
   "nbconvert_exporter": "python",
   "pygments_lexer": "ipython3",
   "version": "3.8.5"
  },
  "widgets": {
   "application/vnd.jupyter.widget-state+json": {
    "15ac746e47354fde82c9dada4c67b442": {
     "model_module": "@jupyter-widgets/controls",
     "model_name": "IntProgressModel",
     "state": {
      "_dom_classes": [],
      "_model_module": "@jupyter-widgets/controls",
      "_model_module_version": "1.5.0",
      "_model_name": "IntProgressModel",
      "_view_count": null,
      "_view_module": "@jupyter-widgets/controls",
      "_view_module_version": "1.5.0",
      "_view_name": "ProgressView",
      "bar_style": "success",
      "description": "",
      "description_tooltip": null,
      "layout": "IPY_MODEL_dc379eea53244f75b81de5f4b37b0540",
      "max": 12,
      "min": 0,
      "orientation": "horizontal",
      "style": "IPY_MODEL_9007bf8e93694b1dbf46e85efeb20712",
      "value": 12
     }
    },
    "334f0b60f9584a4b9020fe3a816a9837": {
     "model_module": "@jupyter-widgets/base",
     "model_name": "LayoutModel",
     "state": {
      "_model_module": "@jupyter-widgets/base",
      "_model_module_version": "1.2.0",
      "_model_name": "LayoutModel",
      "_view_count": null,
      "_view_module": "@jupyter-widgets/base",
      "_view_module_version": "1.2.0",
      "_view_name": "LayoutView",
      "align_content": null,
      "align_items": null,
      "align_self": null,
      "border": null,
      "bottom": null,
      "display": null,
      "flex": null,
      "flex_flow": null,
      "grid_area": null,
      "grid_auto_columns": null,
      "grid_auto_flow": null,
      "grid_auto_rows": null,
      "grid_column": null,
      "grid_gap": null,
      "grid_row": null,
      "grid_template_areas": null,
      "grid_template_columns": null,
      "grid_template_rows": null,
      "height": null,
      "justify_content": null,
      "justify_items": null,
      "left": null,
      "margin": null,
      "max_height": null,
      "max_width": null,
      "min_height": null,
      "min_width": null,
      "object_fit": null,
      "object_position": null,
      "order": null,
      "overflow": null,
      "overflow_x": null,
      "overflow_y": null,
      "padding": null,
      "right": null,
      "top": null,
      "visibility": null,
      "width": null
     }
    },
    "5f78506e73654165816bd68ddfd22043": {
     "model_module": "@jupyter-widgets/base",
     "model_name": "LayoutModel",
     "state": {
      "_model_module": "@jupyter-widgets/base",
      "_model_module_version": "1.2.0",
      "_model_name": "LayoutModel",
      "_view_count": null,
      "_view_module": "@jupyter-widgets/base",
      "_view_module_version": "1.2.0",
      "_view_name": "LayoutView",
      "align_content": null,
      "align_items": null,
      "align_self": null,
      "border": null,
      "bottom": null,
      "display": null,
      "flex": null,
      "flex_flow": null,
      "grid_area": null,
      "grid_auto_columns": null,
      "grid_auto_flow": null,
      "grid_auto_rows": null,
      "grid_column": null,
      "grid_gap": null,
      "grid_row": null,
      "grid_template_areas": null,
      "grid_template_columns": null,
      "grid_template_rows": null,
      "height": null,
      "justify_content": null,
      "justify_items": null,
      "left": null,
      "margin": null,
      "max_height": null,
      "max_width": null,
      "min_height": null,
      "min_width": null,
      "object_fit": null,
      "object_position": null,
      "order": null,
      "overflow": null,
      "overflow_x": null,
      "overflow_y": null,
      "padding": null,
      "right": null,
      "top": null,
      "visibility": null,
      "width": null
     }
    },
    "6606a76e6b8f4f9bba8e7fb6b9152901": {
     "model_module": "@jupyter-widgets/controls",
     "model_name": "HBoxModel",
     "state": {
      "_dom_classes": [],
      "_model_module": "@jupyter-widgets/controls",
      "_model_module_version": "1.5.0",
      "_model_name": "HBoxModel",
      "_view_count": null,
      "_view_module": "@jupyter-widgets/controls",
      "_view_module_version": "1.5.0",
      "_view_name": "HBoxView",
      "box_style": "",
      "children": [
       "IPY_MODEL_15ac746e47354fde82c9dada4c67b442",
       "IPY_MODEL_d56cc35cf1964c07b9ed4c5acba45c31"
      ],
      "layout": "IPY_MODEL_c594870576d14ca5bc5d78a0d6aae8b8"
     }
    },
    "6a4f1584fe454554856c990e303398bb": {
     "model_module": "@jupyter-widgets/base",
     "model_name": "LayoutModel",
     "state": {
      "_model_module": "@jupyter-widgets/base",
      "_model_module_version": "1.2.0",
      "_model_name": "LayoutModel",
      "_view_count": null,
      "_view_module": "@jupyter-widgets/base",
      "_view_module_version": "1.2.0",
      "_view_name": "LayoutView",
      "align_content": null,
      "align_items": null,
      "align_self": null,
      "border": null,
      "bottom": null,
      "display": null,
      "flex": null,
      "flex_flow": null,
      "grid_area": null,
      "grid_auto_columns": null,
      "grid_auto_flow": null,
      "grid_auto_rows": null,
      "grid_column": null,
      "grid_gap": null,
      "grid_row": null,
      "grid_template_areas": null,
      "grid_template_columns": null,
      "grid_template_rows": null,
      "height": null,
      "justify_content": null,
      "justify_items": null,
      "left": null,
      "margin": null,
      "max_height": null,
      "max_width": null,
      "min_height": null,
      "min_width": null,
      "object_fit": null,
      "object_position": null,
      "order": null,
      "overflow": null,
      "overflow_x": null,
      "overflow_y": null,
      "padding": null,
      "right": null,
      "top": null,
      "visibility": null,
      "width": null
     }
    },
    "6e95516b93ce4ffe8557151e0f26624b": {
     "model_module": "@jupyter-widgets/controls",
     "model_name": "HBoxModel",
     "state": {
      "_dom_classes": [],
      "_model_module": "@jupyter-widgets/controls",
      "_model_module_version": "1.5.0",
      "_model_name": "HBoxModel",
      "_view_count": null,
      "_view_module": "@jupyter-widgets/controls",
      "_view_module_version": "1.5.0",
      "_view_name": "HBoxView",
      "box_style": "",
      "children": [
       "IPY_MODEL_f06148ec9dcf4b83b9358186388c76d4",
       "IPY_MODEL_c3d1eba42fc54fc5a53dd8236747e9b0"
      ],
      "layout": "IPY_MODEL_5f78506e73654165816bd68ddfd22043"
     }
    },
    "9007bf8e93694b1dbf46e85efeb20712": {
     "model_module": "@jupyter-widgets/controls",
     "model_name": "ProgressStyleModel",
     "state": {
      "_model_module": "@jupyter-widgets/controls",
      "_model_module_version": "1.5.0",
      "_model_name": "ProgressStyleModel",
      "_view_count": null,
      "_view_module": "@jupyter-widgets/base",
      "_view_module_version": "1.2.0",
      "_view_name": "StyleView",
      "bar_color": null,
      "description_width": ""
     }
    },
    "bfe0bb0cc448426099c6d24aaa149f45": {
     "model_module": "@jupyter-widgets/controls",
     "model_name": "ProgressStyleModel",
     "state": {
      "_model_module": "@jupyter-widgets/controls",
      "_model_module_version": "1.5.0",
      "_model_name": "ProgressStyleModel",
      "_view_count": null,
      "_view_module": "@jupyter-widgets/base",
      "_view_module_version": "1.2.0",
      "_view_name": "StyleView",
      "bar_color": null,
      "description_width": "initial"
     }
    },
    "c3d1eba42fc54fc5a53dd8236747e9b0": {
     "model_module": "@jupyter-widgets/controls",
     "model_name": "HTMLModel",
     "state": {
      "_dom_classes": [],
      "_model_module": "@jupyter-widgets/controls",
      "_model_module_version": "1.5.0",
      "_model_name": "HTMLModel",
      "_view_count": null,
      "_view_module": "@jupyter-widgets/controls",
      "_view_module_version": "1.5.0",
      "_view_name": "HTMLView",
      "description": "",
      "description_tooltip": null,
      "layout": "IPY_MODEL_6a4f1584fe454554856c990e303398bb",
      "placeholder": "​",
      "style": "IPY_MODEL_c80f5f87316946ae9f96498ed06b168f",
      "value": "100% 15/15 [00:09&lt;00:00,  1.72record/s]"
     }
    },
    "c594870576d14ca5bc5d78a0d6aae8b8": {
     "model_module": "@jupyter-widgets/base",
     "model_name": "LayoutModel",
     "state": {
      "_model_module": "@jupyter-widgets/base",
      "_model_module_version": "1.2.0",
      "_model_name": "LayoutModel",
      "_view_count": null,
      "_view_module": "@jupyter-widgets/base",
      "_view_module_version": "1.2.0",
      "_view_name": "LayoutView",
      "align_content": null,
      "align_items": null,
      "align_self": null,
      "border": null,
      "bottom": null,
      "display": null,
      "flex": null,
      "flex_flow": null,
      "grid_area": null,
      "grid_auto_columns": null,
      "grid_auto_flow": null,
      "grid_auto_rows": null,
      "grid_column": null,
      "grid_gap": null,
      "grid_row": null,
      "grid_template_areas": null,
      "grid_template_columns": null,
      "grid_template_rows": null,
      "height": null,
      "justify_content": null,
      "justify_items": null,
      "left": null,
      "margin": null,
      "max_height": null,
      "max_width": null,
      "min_height": null,
      "min_width": null,
      "object_fit": null,
      "object_position": null,
      "order": null,
      "overflow": null,
      "overflow_x": null,
      "overflow_y": null,
      "padding": null,
      "right": null,
      "top": null,
      "visibility": null,
      "width": null
     }
    },
    "c80f5f87316946ae9f96498ed06b168f": {
     "model_module": "@jupyter-widgets/controls",
     "model_name": "DescriptionStyleModel",
     "state": {
      "_model_module": "@jupyter-widgets/controls",
      "_model_module_version": "1.5.0",
      "_model_name": "DescriptionStyleModel",
      "_view_count": null,
      "_view_module": "@jupyter-widgets/base",
      "_view_module_version": "1.2.0",
      "_view_name": "StyleView",
      "description_width": ""
     }
    },
    "d56cc35cf1964c07b9ed4c5acba45c31": {
     "model_module": "@jupyter-widgets/controls",
     "model_name": "HTMLModel",
     "state": {
      "_dom_classes": [],
      "_model_module": "@jupyter-widgets/controls",
      "_model_module_version": "1.5.0",
      "_model_name": "HTMLModel",
      "_view_count": null,
      "_view_module": "@jupyter-widgets/controls",
      "_view_module_version": "1.5.0",
      "_view_name": "HTMLView",
      "description": "",
      "description_tooltip": null,
      "layout": "IPY_MODEL_e7a250c725424393a49b67a5cb5c08ce",
      "placeholder": "​",
      "style": "IPY_MODEL_f17f26a194cc4687aba80829e0c26679",
      "value": "100% 12/12 [00:12&lt;00:00,  1.00s/it]"
     }
    },
    "dc379eea53244f75b81de5f4b37b0540": {
     "model_module": "@jupyter-widgets/base",
     "model_name": "LayoutModel",
     "state": {
      "_model_module": "@jupyter-widgets/base",
      "_model_module_version": "1.2.0",
      "_model_name": "LayoutModel",
      "_view_count": null,
      "_view_module": "@jupyter-widgets/base",
      "_view_module_version": "1.2.0",
      "_view_name": "LayoutView",
      "align_content": null,
      "align_items": null,
      "align_self": null,
      "border": null,
      "bottom": null,
      "display": null,
      "flex": null,
      "flex_flow": null,
      "grid_area": null,
      "grid_auto_columns": null,
      "grid_auto_flow": null,
      "grid_auto_rows": null,
      "grid_column": null,
      "grid_gap": null,
      "grid_row": null,
      "grid_template_areas": null,
      "grid_template_columns": null,
      "grid_template_rows": null,
      "height": null,
      "justify_content": null,
      "justify_items": null,
      "left": null,
      "margin": null,
      "max_height": null,
      "max_width": null,
      "min_height": null,
      "min_width": null,
      "object_fit": null,
      "object_position": null,
      "order": null,
      "overflow": null,
      "overflow_x": null,
      "overflow_y": null,
      "padding": null,
      "right": null,
      "top": null,
      "visibility": null,
      "width": null
     }
    },
    "e7a250c725424393a49b67a5cb5c08ce": {
     "model_module": "@jupyter-widgets/base",
     "model_name": "LayoutModel",
     "state": {
      "_model_module": "@jupyter-widgets/base",
      "_model_module_version": "1.2.0",
      "_model_name": "LayoutModel",
      "_view_count": null,
      "_view_module": "@jupyter-widgets/base",
      "_view_module_version": "1.2.0",
      "_view_name": "LayoutView",
      "align_content": null,
      "align_items": null,
      "align_self": null,
      "border": null,
      "bottom": null,
      "display": null,
      "flex": null,
      "flex_flow": null,
      "grid_area": null,
      "grid_auto_columns": null,
      "grid_auto_flow": null,
      "grid_auto_rows": null,
      "grid_column": null,
      "grid_gap": null,
      "grid_row": null,
      "grid_template_areas": null,
      "grid_template_columns": null,
      "grid_template_rows": null,
      "height": null,
      "justify_content": null,
      "justify_items": null,
      "left": null,
      "margin": null,
      "max_height": null,
      "max_width": null,
      "min_height": null,
      "min_width": null,
      "object_fit": null,
      "object_position": null,
      "order": null,
      "overflow": null,
      "overflow_x": null,
      "overflow_y": null,
      "padding": null,
      "right": null,
      "top": null,
      "visibility": null,
      "width": null
     }
    },
    "f06148ec9dcf4b83b9358186388c76d4": {
     "model_module": "@jupyter-widgets/controls",
     "model_name": "IntProgressModel",
     "state": {
      "_dom_classes": [],
      "_model_module": "@jupyter-widgets/controls",
      "_model_module_version": "1.5.0",
      "_model_name": "IntProgressModel",
      "_view_count": null,
      "_view_module": "@jupyter-widgets/controls",
      "_view_module_version": "1.5.0",
      "_view_name": "ProgressView",
      "bar_style": "success",
      "description": "Fetching records",
      "description_tooltip": null,
      "layout": "IPY_MODEL_334f0b60f9584a4b9020fe3a816a9837",
      "max": 15,
      "min": 0,
      "orientation": "horizontal",
      "style": "IPY_MODEL_bfe0bb0cc448426099c6d24aaa149f45",
      "value": 15
     }
    },
    "f17f26a194cc4687aba80829e0c26679": {
     "model_module": "@jupyter-widgets/controls",
     "model_name": "DescriptionStyleModel",
     "state": {
      "_model_module": "@jupyter-widgets/controls",
      "_model_module_version": "1.5.0",
      "_model_name": "DescriptionStyleModel",
      "_view_count": null,
      "_view_module": "@jupyter-widgets/base",
      "_view_module_version": "1.2.0",
      "_view_name": "StyleView",
      "description_width": ""
     }
    }
   }
  }
 },
 "nbformat": 4,
 "nbformat_minor": 1
}
