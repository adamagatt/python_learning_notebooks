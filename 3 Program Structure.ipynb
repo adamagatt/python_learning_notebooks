{
 "cells": [
  {
   "cell_type": "markdown",
   "metadata": {
    "id": "Mozoaw5mAYvJ"
   },
   "source": [
    "# 3 Program Structure\n",
    "##### **Author: Adam Gatt**"
   ]
  },
  {
   "cell_type": "markdown",
   "metadata": {
    "id": "dKO0MMH4AwF_"
   },
   "source": [
    "## Control structures and alignment\n",
    "Control structures in Python end with a colon `:` and\n",
    "are followed by an indented block. You do not need brackets around the structure condition, or curly braces around the block. The block simply ends when the indentation returns.\n"
   ]
  },
  {
   "cell_type": "code",
   "execution_count": null,
   "metadata": {
    "colab": {
     "base_uri": "https://localhost:8080/",
     "height": 34
    },
    "executionInfo": {
     "elapsed": 974,
     "status": "ok",
     "timestamp": 1580816820616,
     "user": {
      "displayName": "Adam Gatt",
      "photoUrl": "",
      "userId": "00057255254496518621"
     },
     "user_tz": -630
    },
    "id": "2F9unrgjBVlL",
    "outputId": "d12f5cdd-0870-44f4-c297-bc2f457a74d7"
   },
   "outputs": [
    {
     "name": "stdout",
     "output_type": "stream",
     "text": [
      "Okay I'm done\n"
     ]
    }
   ],
   "source": [
    "friendliness_level = 2\n",
    "\n",
    "if friendliness_level > 3:\n",
    "  print('Hello there')\n",
    "\n",
    "  print(\"It's nice to meet you\") # We're still in the block\n",
    "print(\"Okay I'm done\") # We've left the block"
   ]
  },
  {
   "cell_type": "markdown",
   "metadata": {
    "id": "FVMeuvHVB1XH"
   },
   "source": [
    "## If statement\n",
    "`if` and `else` statements work as standard. Python provides an \"else if\" branch using the `elif` keyword."
   ]
  },
  {
   "cell_type": "code",
   "execution_count": null,
   "metadata": {
    "colab": {
     "base_uri": "https://localhost:8080/",
     "height": 34
    },
    "executionInfo": {
     "elapsed": 1391,
     "status": "ok",
     "timestamp": 1580817057267,
     "user": {
      "displayName": "Adam Gatt",
      "photoUrl": "",
      "userId": "00057255254496518621"
     },
     "user_tz": -630
    },
    "id": "98e0mA0VCSox",
    "outputId": "35a71221-293c-4372-c9be-e9acaf4add97"
   },
   "outputs": [
    {
     "name": "stdout",
     "output_type": "stream",
     "text": [
      "It's alright to meet you\n"
     ]
    }
   ],
   "source": [
    "friendliness_level = 3\n",
    "if friendliness_level > 5:\n",
    "  print(\"It's lovely to meet you\")\n",
    "elif friendliness_level > 2:\n",
    "  print(\"It's alright to meet you\")\n",
    "else:\n",
    "  print(\"I wish I never met you\")"
   ]
  },
  {
   "cell_type": "markdown",
   "metadata": {
    "id": "wnnTX4vhCjyP"
   },
   "source": [
    "Python offers no `switch` statement. This is apparently by design, as instead of a `switch` block you should use a long `elif` chain. It's not exactly the same, as you don't have fall-through, but this may run counter anyway to the Pythonic ideal of all code being explicit."
   ]
  },
  {
   "cell_type": "code",
   "execution_count": 1,
   "metadata": {
    "colab": {
     "base_uri": "https://localhost:8080/",
     "height": 35
    },
    "executionInfo": {
     "elapsed": 3165,
     "status": "ok",
     "timestamp": 1580864546377,
     "user": {
      "displayName": "Adam Gatt",
      "photoUrl": "",
      "userId": "00057255254496518621"
     },
     "user_tz": -630
    },
    "id": "tNXD1cCDDW6-",
    "outputId": "d99dfc7e-2275-4bb5-adb5-b2757ecdc8a2"
   },
   "outputs": [
    {
     "name": "stdout",
     "output_type": "stream",
     "text": [
      "There is no minimum age\n"
     ]
    }
   ],
   "source": [
    "rating = 'PG'\n",
    "if rating == 'G' or rating == 'PG':\n",
    "  print('There is no minimum age')\n",
    "elif rating == 'MA15+':\n",
    "  print('Minimum age is 15')\n",
    "elif rating == 'R':\n",
    "  print('Minimum age is 18')\n",
    "else:\n",
    "  print('Minimum age is 21')"
   ]
  },
  {
   "cell_type": "markdown",
   "metadata": {
    "id": "SngKxP8kECzN"
   },
   "source": [
    "(_Later edit_) Python 3.10 introduces a [match](https://www.python.org/dev/peps/pep-0622/) statement for mapping an input value to an output, although this was introduced after these notebooks were written (for Python 3.8.5).\n",
    "\n",
    "We can also provide an output based on matching a provided input by:\n",
    "1. Using a dict, or\n",
    "2. Chaining ternary expressions (more on this later)\n",
    "\n",
    "We use a dict by preparing it beforehand and then our input is used as the index. However, compared to a proper match statement this approach is limited to match clauses must be a single equivalency, with no guards, compound conditions or inequalities. Additionally the `else` case also has to be managed specially."
   ]
  },
  {
   "cell_type": "code",
   "execution_count": null,
   "metadata": {
    "colab": {
     "base_uri": "https://localhost:8080/",
     "height": 35
    },
    "executionInfo": {
     "elapsed": 830,
     "status": "ok",
     "timestamp": 1580864745621,
     "user": {
      "displayName": "Adam Gatt",
      "photoUrl": "",
      "userId": "00057255254496518621"
     },
     "user_tz": -630
    },
    "id": "7tMB7PrREaEC",
    "outputId": "7df383ac-8ae8-40a1-bd00-758e0e8e6fc0"
   },
   "outputs": [
    {
     "name": "stdout",
     "output_type": "stream",
     "text": [
      "Minimum age is 0\n"
     ]
    }
   ],
   "source": [
    "age_for_rating = {\n",
    "    'G': 0,\n",
    "    'PG': 0,\n",
    "    'MA15+': 15,\n",
    "    'R': 18,\n",
    "    'default': 21\n",
    "}\n",
    "minimum_age = age_for_rating[rating]\n",
    "print('Minimum age is {}'.format(minimum_age))\n",
    "\n",
    "# To be more safe we need:\n",
    "default_age = 21\n",
    "minimum_age = age_for_rating[rating] if (rating in age_for_rating) else default_age\n",
    "\n",
    "# Using get() is less cumbersome though\n",
    "minimum_age = age_for_rating.get(rating, age_for_rating['default'])"
   ]
  },
  {
   "cell_type": "markdown",
   "metadata": {
    "id": "Pf2kP_n1pSSg"
   },
   "source": [
    "## Ternary statement\n",
    "Python's ternary statement takes the form of `<true_case> if <condition> else <false_case>`. It evaluates to a single value and so can be used in the middle of expressions."
   ]
  },
  {
   "cell_type": "code",
   "execution_count": null,
   "metadata": {
    "colab": {
     "base_uri": "https://localhost:8080/",
     "height": 69
    },
    "executionInfo": {
     "elapsed": 1596,
     "status": "ok",
     "timestamp": 1580894716801,
     "user": {
      "displayName": "Adam Gatt",
      "photoUrl": "",
      "userId": "00057255254496518621"
     },
     "user_tz": -630
    },
    "id": "VL44SoRophU7",
    "outputId": "4d7213b7-76f5-4592-8429-9ca2650e0861"
   },
   "outputs": [
    {
     "name": "stdout",
     "output_type": "stream",
     "text": [
      "meow\n",
      "\n",
      "MEOW\n"
     ]
    }
   ],
   "source": [
    "animal = 'cat'\n",
    "sound = 'meow' \\\n",
    "  if animal == 'cat' \\\n",
    "  else 'quack'\n",
    "print(sound)\n",
    "\n",
    "print()\n",
    "louder_sound = ('meow' if (animal == 'cat') else 'quack').upper()\n",
    "print(louder_sound)"
   ]
  },
  {
   "cell_type": "markdown",
   "metadata": {
    "id": "1jEHiUWn5vQE"
   },
   "source": [
    "Ternary operators chain together especially well in Python. By doing so, we not only have another approximation for a match statement, but we have a block of logic that reads actually quite well, even without brackets."
   ]
  },
  {
   "cell_type": "code",
   "execution_count": null,
   "metadata": {
    "colab": {
     "base_uri": "https://localhost:8080/",
     "height": 34
    },
    "executionInfo": {
     "elapsed": 675,
     "status": "ok",
     "timestamp": 1582166599912,
     "user": {
      "displayName": "Adam Gatt",
      "photoUrl": "",
      "userId": "00057255254496518621"
     },
     "user_tz": -630
    },
    "id": "mq48pARq5WTk",
    "outputId": "d19dd664-817d-481a-da81-26f381bc532d"
   },
   "outputs": [
    {
     "name": "stdout",
     "output_type": "stream",
     "text": [
      "meow\n"
     ]
    }
   ],
   "source": [
    "animal = 'cat'\n",
    "print('bark' if animal == 'dog'\n",
    "  else 'meow' if animal == 'cat'\n",
    "  else 'quack' if animal == 'duck'\n",
    "  else 'neigh')"
   ]
  },
  {
   "cell_type": "markdown",
   "metadata": {
    "id": "Tw2f8OnoECY0"
   },
   "source": [
    "## For loop\n",
    "\n",
    "For loops are very flexible, and can technically be used with any \"iterable\". The vast majority of use cases involve simply looping through a list.\n",
    "\n",
    "Python fetches a new value from the list with each iteration. This means you can alter the list while you are looping through it, different from languages like MATLAB that evaluates the list first and iterates over the fixed results."
   ]
  },
  {
   "cell_type": "code",
   "execution_count": null,
   "metadata": {
    "colab": {
     "base_uri": "https://localhost:8080/",
     "height": 139
    },
    "executionInfo": {
     "elapsed": 679,
     "status": "ok",
     "timestamp": 1582770079282,
     "user": {
      "displayName": "Adam Gatt",
      "photoUrl": "",
      "userId": "00057255254496518621"
     },
     "user_tz": -630
    },
    "id": "-10a0PAiHSSG",
    "outputId": "ded8a1da-710b-45f8-bfc1-047669754492"
   },
   "outputs": [
    {
     "name": "stdout",
     "output_type": "stream",
     "text": [
      "Officer\n",
      "Officer\n",
      "Dog\n",
      "Officer\n",
      "Dog\n",
      "Dog Handler\n",
      "Dog Handler\n"
     ]
    }
   ],
   "source": [
    "police_squad = ['Officer', 'Officer', 'Dog', 'Officer', 'Dog']\n",
    "\n",
    "for member in police_squad:\n",
    "  print(member)\n",
    "\n",
    "  if member == 'Dog':\n",
    "    police_squad.append('Dog Handler')"
   ]
  },
  {
   "cell_type": "markdown",
   "metadata": {
    "id": "gOyRKdt_IAna"
   },
   "source": [
    "Because we can loop over any \"iterable\", we can loop over the many useful functions that Python provides for transforming or generating lists. Some of the more useful functions include:\n",
    "\n",
    "### enumerate(list)\n",
    "Provides each item in the list together with its index (starting from zero).\n"
   ]
  },
  {
   "cell_type": "code",
   "execution_count": null,
   "metadata": {
    "colab": {
     "base_uri": "https://localhost:8080/",
     "height": 121
    },
    "executionInfo": {
     "elapsed": 632,
     "status": "ok",
     "timestamp": 1582167326236,
     "user": {
      "displayName": "Adam Gatt",
      "photoUrl": "",
      "userId": "00057255254496518621"
     },
     "user_tz": -630
    },
    "id": "gkzjU0ozIk8_",
    "outputId": "3f47da58-2564-481a-f725-66e69cbb7435"
   },
   "outputs": [
    {
     "name": "stdout",
     "output_type": "stream",
     "text": [
      "Meera gets controller 1\n",
      "Thomas gets controller 2\n",
      "Ben gets controller 3\n",
      "Matt gets controller 4\n",
      "\n",
      "[(0, 'Meera'), (1, 'Thomas'), (2, 'Ben'), (3, 'Matt')]\n"
     ]
    }
   ],
   "source": [
    "players = ['Meera', 'Thomas', 'Ben', 'Matt']\n",
    "\n",
    "for idx, player in enumerate(players):\n",
    "  print('{} gets controller {}'.format(player, idx + 1))\n",
    "\n",
    "print()\n",
    "print(list(enumerate(players)))"
   ]
  },
  {
   "cell_type": "markdown",
   "metadata": {
    "id": "XouaCM4fJszM"
   },
   "source": [
    "## zip(list_1, list_2, ...)\n",
    "Combines two or more lists together, pairing together the elements at each index. This allows us to loop through multiple lists at the same time. If the lists are different length, then the zip ends after the shortest list.\n"
   ]
  },
  {
   "cell_type": "code",
   "execution_count": null,
   "metadata": {
    "colab": {
     "base_uri": "https://localhost:8080/",
     "height": 121
    },
    "executionInfo": {
     "elapsed": 791,
     "status": "ok",
     "timestamp": 1582167542159,
     "user": {
      "displayName": "Adam Gatt",
      "photoUrl": "",
      "userId": "00057255254496518621"
     },
     "user_tz": -630
    },
    "id": "TmZP6SjxJCRm",
    "outputId": "aaca2081-5b63-411d-e17a-e82a24dea2f2"
   },
   "outputs": [
    {
     "name": "stdout",
     "output_type": "stream",
     "text": [
      "Meera is playing as the Knight\n",
      "Thomas is playing as the None\n",
      "Ben is playing as the Ranger\n",
      "Matt is playing as the Cleric\n",
      "\n",
      "[('Meera', 'Knight'), ('Thomas', None), ('Ben', 'Ranger'), ('Matt', 'Cleric')]\n"
     ]
    }
   ],
   "source": [
    "characters = ['Knight', 'Wizard', 'Ranger', 'Cleric', 'Barbarian']\n",
    "\n",
    "for player, character in zip(players, characters):\n",
    "  print('{} is playing as the {}'.format(player, character))\n",
    "\n",
    "print()\n",
    "print(list(zip(players, characters)))"
   ]
  },
  {
   "cell_type": "markdown",
   "metadata": {
    "id": "jsV9bPXqNYAf"
   },
   "source": [
    "## range(until) or range(start, until)\n",
    "Provides a sequence of integers increasing from 0 up until the provided value (which is excluded). If two values are provided, the function will begin at the first value and range up to the second.\n"
   ]
  },
  {
   "cell_type": "code",
   "execution_count": null,
   "metadata": {
    "colab": {
     "base_uri": "https://localhost:8080/",
     "height": 69
    },
    "executionInfo": {
     "elapsed": 630,
     "status": "ok",
     "timestamp": 1582167644165,
     "user": {
      "displayName": "Adam Gatt",
      "photoUrl": "",
      "userId": "00057255254496518621"
     },
     "user_tz": -630
    },
    "id": "_0YBR10gOT43",
    "outputId": "2220025e-e557-4d9e-8325-0903b44d493a"
   },
   "outputs": [
    {
     "name": "stdout",
     "output_type": "stream",
     "text": [
      "5 is a multiple of 5\n",
      "10 is a multiple of 5\n",
      "15 is a multiple of 5\n"
     ]
    }
   ],
   "source": [
    "for i in range(20):\n",
    "  if i % 5 == 0:\n",
    "    print('{} is a multiple of 5'.format(i))"
   ]
  },
  {
   "cell_type": "markdown",
   "metadata": {
    "id": "i4gwhZ3mOmzq"
   },
   "source": [
    "### Avoid the range(len()) antipattern\n",
    "Those of us from a C-like background may be familiar with looping through an array with:\n",
    "```\n",
    "for (int i = 0; i < myList.length(); i++) {\n",
    "  // Each iteration we'll do something with myList[i]\n",
    "```\n",
    "So when building a loop that processes through a list, our first thought is to loop through the list indices we need. How do we create this list of indices to use for our for-loop? We can use the `range` function to loop from 0 up until the length of the list, and we an determine that with the `len` function. The process ends with us building something like this:\n",
    "```\n",
    "for i in range(len(my_list)):\n",
    "  print(my_list[i])\n",
    "```\n",
    "Using `range(len())` is, more often than not, an antipattern that represents unnecessary extra work. Instead of looping through indices and using them to access the items in the list, we can simply loop through the items in the list. The simplified equivalent is:\n",
    "```\n",
    "for item in my_list:\n",
    "  print(item)\n",
    "```\n",
    "The `range(len())` is simplified by simply removing it. Instead of accessing an item with `mylist[i]`, the for-loop itself will provide us with the items.\n",
    "\n",
    "If we find we actually do need to loop through the list's indices then we can always use the `enumerate` function. With that said, there aren't many useful situations where we actually require it. If we need it to use as an index into some other list, we are often better off by just `zip`ping the lists together and looping through that. "
   ]
  },
  {
   "cell_type": "code",
   "execution_count": null,
   "metadata": {
    "colab": {
     "base_uri": "https://localhost:8080/",
     "height": 69
    },
    "executionInfo": {
     "elapsed": 1344,
     "status": "ok",
     "timestamp": 1580970263348,
     "user": {
      "displayName": "Adam Gatt",
      "photoUrl": "",
      "userId": "00057255254496518621"
     },
     "user_tz": -630
    },
    "id": "QyXNDdMRplEI",
    "outputId": "21158e47-ef01-4145-a41a-e740ce6dec61"
   },
   "outputs": [
    {
     "name": "stdout",
     "output_type": "stream",
     "text": [
      "We have 3 of Wheel\n",
      "We have 8 of Differential\n",
      "We have 2 of Alternator\n"
     ]
    }
   ],
   "source": [
    "components = ['Wheel', 'Differential', 'Alternator']\n",
    "quantities = [3, 8, 2]\n",
    "\n",
    "for idx, component in enumerate(components):\n",
    "  print('We have {} of {}'.format(quantities[idx], component))"
   ]
  },
  {
   "cell_type": "code",
   "execution_count": null,
   "metadata": {
    "colab": {
     "base_uri": "https://localhost:8080/",
     "height": 87
    },
    "executionInfo": {
     "elapsed": 1664,
     "status": "ok",
     "timestamp": 1580970304317,
     "user": {
      "displayName": "Adam Gatt",
      "photoUrl": "",
      "userId": "00057255254496518621"
     },
     "user_tz": -630
    },
    "id": "cjkuQl7nqwhR",
    "outputId": "8591ccc5-f8f7-4d47-a8d9-e049c4ae00dc"
   },
   "outputs": [
    {
     "name": "stdout",
     "output_type": "stream",
     "text": [
      "[(3, 'Wheel'), (8, 'Differential'), (2, 'Alternator')]\n",
      "We have 3 of Wheel\n",
      "We have 8 of Differential\n",
      "We have 2 of Alternator\n"
     ]
    }
   ],
   "source": [
    "print(list(zip(quantities, components)))\n",
    "\n",
    "for quantity, component in zip(quantities, components):\n",
    "  print('We have {} of {}'.format(quantity, component))"
   ]
  },
  {
   "cell_type": "markdown",
   "metadata": {
    "id": "1t9n5fwiq3t0"
   },
   "source": [
    "## While loop\n",
    "Python's while loop works like you would expect. The loop iterates repeatedly until the condition evaluates to false."
   ]
  },
  {
   "cell_type": "code",
   "execution_count": null,
   "metadata": {
    "colab": {
     "base_uri": "https://localhost:8080/",
     "height": 191
    },
    "executionInfo": {
     "elapsed": 750,
     "status": "ok",
     "timestamp": 1582770331329,
     "user": {
      "displayName": "Adam Gatt",
      "photoUrl": "",
      "userId": "00057255254496518621"
     },
     "user_tz": -630
    },
    "id": "-OtFIGOOrDYk",
    "outputId": "58d16666-8292-46c3-92a0-79b8896d34ef"
   },
   "outputs": [
    {
     "name": "stdout",
     "output_type": "stream",
     "text": [
      "1\n",
      "5\n",
      "1\n",
      "5\n",
      "5\n",
      "4\n",
      "4\n",
      "3\n",
      "6\n",
      "Found my six!\n"
     ]
    }
   ],
   "source": [
    "from random import randint\n",
    "\n",
    "# Game ends once we roll a 6\n",
    "dice_roll = -1\n",
    "while dice_roll != 6:\n",
    "  dice_roll = randint(1, 6)\n",
    "  print(dice_roll)\n",
    "else:\n",
    "  print('Found my six!')"
   ]
  },
  {
   "cell_type": "markdown",
   "metadata": {
    "id": "Dh8B7aNJtqvv"
   },
   "source": [
    "## Else after while/for\n",
    "Python allows the peculiar use of an `else` case after a `while` or `for` expression. The code in this case\n",
    "* will execute when the loop has exhausted (i.e. the `for` loop runs out of items or the `while` loop condition evaluates to `False`)\n",
    "* will __not__ execute if the loop ends due to a `break` statement\n",
    "\n",
    "I have not seen it that often - I suspect it was an early feature of the language that has fallen out of use, perhaps running against the ideal of explicit code?"
   ]
  },
  {
   "cell_type": "code",
   "execution_count": 1,
   "metadata": {
    "colab": {
     "base_uri": "https://localhost:8080/"
    },
    "executionInfo": {
     "elapsed": 16,
     "status": "ok",
     "timestamp": 1630588126583,
     "user": {
      "displayName": "Adam Gatt",
      "photoUrl": "",
      "userId": "17347435371041885846"
     },
     "user_tz": -570
    },
    "id": "tU5iDCTbtrY8",
    "outputId": "1b1aad0e-f770-4e06-d4e6-6200723d9288"
   },
   "outputs": [
    {
     "name": "stdout",
     "output_type": "stream",
     "text": [
      "There is no known colour for (128, 128, 128)\n",
      "There is no known colour for (0, 0, 255)\n"
     ]
    }
   ],
   "source": [
    "known_colours = {\n",
    "    'red': (255, 0, 0),\n",
    "    'cyan': (0, 255, 255),\n",
    "    'white': (255, 255, 255),\n",
    "    'grey': (128, 128, 128),\n",
    "    'green': (0, 255, 0),\n",
    "    'dark green': (0, 128, 0)\n",
    "}\n",
    "\n",
    "def find_name_for_rgb(known_colours, candidate_rgb):\n",
    "  # Loop through all the colours we know about, attempting to match on RGB triple\n",
    "  for known_name, known_rgb in known_colours.items():\n",
    "    if known_rgb == candidate_rgb:\n",
    "      response = f\"The colour {candidate_rgb} is known as {known_name}\"\n",
    "  else:\n",
    "    response = f\"There is no known colour for {candidate_rgb}\"\n",
    "  \n",
    "  return response\n",
    "\n",
    "print(find_name_for_rgb(known_colours, (128, 128, 128)))\n",
    "print(find_name_for_rgb(known_colours, (0, 0, 255)))\n"
   ]
  },
  {
   "cell_type": "code",
   "execution_count": null,
   "metadata": {
    "id": "zb7BkXoLc_ze"
   },
   "outputs": [],
   "source": [
    "for (int i = 0; i < array.len && !found; i++) {"
   ]
  },
  {
   "cell_type": "markdown",
   "metadata": {
    "id": "5qCNEmoiryr3"
   },
   "source": [
    "## Logical operators\n",
    "Instead of symbolic operators, Python uses the full words `and`, `or` and `not` for its boolean operators. When splitting up long compound expressions, it is more Pythonic to split before a logical operator than after (so that they appear at the beginning of a line).\n",
    "\n",
    "The compound phrase `not in` can be used as the logical opposite of `in`."
   ]
  },
  {
   "cell_type": "code",
   "execution_count": null,
   "metadata": {
    "colab": {
     "base_uri": "https://localhost:8080/",
     "height": 35
    },
    "executionInfo": {
     "elapsed": 788,
     "status": "ok",
     "timestamp": 1582770556339,
     "user": {
      "displayName": "Adam Gatt",
      "photoUrl": "",
      "userId": "00057255254496518621"
     },
     "user_tz": -630
    },
    "id": "T2bzMSk6MuFd",
    "outputId": "a02787fe-0ff7-4657-9ba7-8ec4e9b3846f"
   },
   "outputs": [
    {
     "data": {
      "text/plain": [
       "[True, False, False, True, False]"
      ]
     },
     "execution_count": 12,
     "metadata": {
      "tags": []
     },
     "output_type": "execute_result"
    }
   ],
   "source": [
    "# A year is a leap year if it is a multiple of 4, unless it is also a multiple\n",
    "# of 100. But it is still a leap year if it is also a multiple of 400.\n",
    "def is_leap_year(year):\n",
    "  return (year % 4 == 0 \n",
    "    and (not (year % 100 == 0) \n",
    "         or year % 400 == 0))\n",
    "\n",
    "[is_leap_year(year) for year in [1992, 1500, 1734, 2000, 1011]]"
   ]
  },
  {
   "cell_type": "code",
   "execution_count": null,
   "metadata": {
    "colab": {
     "base_uri": "https://localhost:8080/",
     "height": 69
    },
    "executionInfo": {
     "elapsed": 1541,
     "status": "ok",
     "timestamp": 1580895787530,
     "user": {
      "displayName": "Adam Gatt",
      "photoUrl": "",
      "userId": "00057255254496518621"
     },
     "user_tz": -630
    },
    "id": "t1vpHdL5stpR",
    "outputId": "fcd123c2-8e26-48b7-80ca-cd0753141fa4"
   },
   "outputs": [
    {
     "name": "stdout",
     "output_type": "stream",
     "text": [
      "Looks like Waluigi is excluded yet again!\n",
      "Birdo is also not a fighter\n",
      "Would be cool if Crash was in Smash Bros\n"
     ]
    }
   ],
   "source": [
    "fighters_in_super_smash_bros = ['Mario', 'Link', 'Samus', 'Bowser', 'Ridley']\n",
    "\n",
    "if 'Waluigi' not in fighters_in_super_smash_bros:\n",
    "  print('Looks like Waluigi is excluded yet again!')\n",
    "\n",
    "if not ('Birdo' in fighters_in_super_smash_bros):\n",
    "  print('Birdo is also not a fighter')\n",
    "\n",
    "if not 'Crash Bandicoot' in fighters_in_super_smash_bros:\n",
    "  print('Would be cool if Crash was in Smash Bros')"
   ]
  },
  {
   "cell_type": "markdown",
   "metadata": {
    "id": "zTR3xC1Lu2d3"
   },
   "source": [
    "## Declaring and calling functions\n",
    "Functions are defined with the following structure:\n",
    "```\n",
    "def <function name>(parameters):\n",
    "  <indented code block>\n",
    "```\n",
    "Multiple parameters are separated by commas, and empty brackets `()` indicates no parameters. In the spirit of duck-typing, we don't specify types for the parameters or a return type for the function.\n",
    "\n",
    "If a function is not required to return any value, then no `void` return type is necessary, we simply omit any `return` statement. Such a function will still return a 'None' value when called. In this way, all function calls evaluate to a value."
   ]
  },
  {
   "cell_type": "code",
   "execution_count": null,
   "metadata": {
    "colab": {
     "base_uri": "https://localhost:8080/",
     "height": 86
    },
    "executionInfo": {
     "elapsed": 980,
     "status": "ok",
     "timestamp": 1580896546675,
     "user": {
      "displayName": "Adam Gatt",
      "photoUrl": "",
      "userId": "00057255254496518621"
     },
     "user_tz": -630
    },
    "id": "R8HdxvPeu1ME",
    "outputId": "d6c023ed-0812-4828-af8f-03c78686e7ab"
   },
   "outputs": [
    {
     "name": "stdout",
     "output_type": "stream",
     "text": [
      "6\n",
      "Log: Program has started\n",
      "Log: Connection established\n",
      "None\n"
     ]
    }
   ],
   "source": [
    "def add_one(x):\n",
    "  return x+1\n",
    "\n",
    "def logger(statement): # Function without a return statement will return 'None'\n",
    "  print('Log: {}'.format(statement))\n",
    "\n",
    "print(add_one(5))\n",
    "logger('Program has started')\n",
    "print(logger('Connection established'))"
   ]
  },
  {
   "cell_type": "markdown",
   "metadata": {
    "id": "B45YrsRAx70N"
   },
   "source": [
    "### Default / optional parameters\n",
    "You can provide a default value for each parameters by using the `=` operator. If a parameter has a default then it can be omitted when calling the function and the default will be used.\n",
    "\n",
    "You can make an \"optional\" parameter of sorts by providing it a default of \"None\". You can then check for the parameters existence in your function logic and act appropriately.\n",
    "\n",
    "Parameters with defaults must all appear at the end of the parameter list. If non-default parameter follows a default parameter then Python will complain."
   ]
  },
  {
   "cell_type": "code",
   "execution_count": 2,
   "metadata": {
    "colab": {
     "base_uri": "https://localhost:8080/"
    },
    "executionInfo": {
     "elapsed": 340,
     "status": "ok",
     "timestamp": 1630588194355,
     "user": {
      "displayName": "Adam Gatt",
      "photoUrl": "",
      "userId": "17347435371041885846"
     },
     "user_tz": -570
    },
    "id": "g5Y9rfyAvRi2",
    "outputId": "02199780-3c2f-4804-e477-d05e6b1edf48"
   },
   "outputs": [
    {
     "name": "stdout",
     "output_type": "stream",
     "text": [
      "{'owner': 'Adam', 'balance': 50}\n",
      "{'owner': 'Travis', 'balance': 300}\n"
     ]
    }
   ],
   "source": [
    "def create_bank_account(owner, balance=50):\n",
    "  return {\n",
    "      'owner': owner,\n",
    "      'balance': balance\n",
    "  }\n",
    "\n",
    "print(create_bank_account('Adam'))\n",
    "print(create_bank_account('Travis', 300))"
   ]
  },
  {
   "cell_type": "code",
   "execution_count": null,
   "metadata": {
    "colab": {
     "base_uri": "https://localhost:8080/",
     "height": 51
    },
    "executionInfo": {
     "elapsed": 1091,
     "status": "ok",
     "timestamp": 1580897352426,
     "user": {
      "displayName": "Adam Gatt",
      "photoUrl": "",
      "userId": "00057255254496518621"
     },
     "user_tz": -630
    },
    "id": "rjtLUvoSx2lR",
    "outputId": "de51b41a-be53-4519-ebfc-4519e8694bfe"
   },
   "outputs": [
    {
     "name": "stdout",
     "output_type": "stream",
     "text": [
      "The horse says neigh\n",
      "The animal says croak\n"
     ]
    }
   ],
   "source": [
    "def play_animal_sound(sound, animal_name=None):\n",
    "  # \"if x\" is a shorthand for writing \"if x is not None\"\n",
    "  print('The {} says {}'.format(animal_name if animal_name else 'animal', sound))\n",
    "\n",
    "play_animal_sound('neigh', 'horse')\n",
    "play_animal_sound('croak')"
   ]
  },
  {
   "cell_type": "markdown",
   "metadata": {
    "id": "glNgOgGzygIb"
   },
   "source": [
    "## Keyword arguments\n",
    "When calling a function you can explicitly assign arguments to parameters by name. This allows you to provide arguments in any order you like, as long as you use the correct parameter names."
   ]
  },
  {
   "cell_type": "code",
   "execution_count": null,
   "metadata": {
    "colab": {
     "base_uri": "https://localhost:8080/",
     "height": 235
    },
    "executionInfo": {
     "elapsed": 1124,
     "status": "error",
     "timestamp": 1580897487717,
     "user": {
      "displayName": "Adam Gatt",
      "photoUrl": "",
      "userId": "00057255254496518621"
     },
     "user_tz": -630
    },
    "id": "0wFO21IN0R-V",
    "outputId": "fdc3c2d2-214e-44ac-d8bf-a620c508583f"
   },
   "outputs": [
    {
     "name": "stdout",
     "output_type": "stream",
     "text": [
      "{'owner': 'Sebastien Wong', 'balance': 150}\n",
      "{'owner': 'Scott Sleep', 'balance': 50}\n"
     ]
    },
    {
     "ename": "TypeError",
     "evalue": "ignored",
     "output_type": "error",
     "traceback": [
      "\u001b[0;31m---------------------------------------------------------------------------\u001b[0m",
      "\u001b[0;31mTypeError\u001b[0m                                 Traceback (most recent call last)",
      "\u001b[0;32m<ipython-input-40-bdce9471999d>\u001b[0m in \u001b[0;36m<module>\u001b[0;34m()\u001b[0m\n\u001b[1;32m      1\u001b[0m \u001b[0mprint\u001b[0m\u001b[0;34m(\u001b[0m\u001b[0mcreate_bank_account\u001b[0m\u001b[0;34m(\u001b[0m\u001b[0mbalance\u001b[0m\u001b[0;34m=\u001b[0m\u001b[0;36m150\u001b[0m\u001b[0;34m,\u001b[0m \u001b[0mowner\u001b[0m\u001b[0;34m=\u001b[0m\u001b[0;34m'Sebastien Wong'\u001b[0m\u001b[0;34m)\u001b[0m\u001b[0;34m)\u001b[0m\u001b[0;34m\u001b[0m\u001b[0;34m\u001b[0m\u001b[0m\n\u001b[1;32m      2\u001b[0m \u001b[0mprint\u001b[0m\u001b[0;34m(\u001b[0m\u001b[0mcreate_bank_account\u001b[0m\u001b[0;34m(\u001b[0m\u001b[0mowner\u001b[0m\u001b[0;34m=\u001b[0m\u001b[0;34m'Scott Sleep'\u001b[0m\u001b[0;34m)\u001b[0m\u001b[0;34m)\u001b[0m\u001b[0;34m\u001b[0m\u001b[0;34m\u001b[0m\u001b[0m\n\u001b[0;32m----> 3\u001b[0;31m \u001b[0mprint\u001b[0m\u001b[0;34m(\u001b[0m\u001b[0mcreate_bank_account\u001b[0m\u001b[0;34m(\u001b[0m\u001b[0mbalance\u001b[0m\u001b[0;34m=\u001b[0m\u001b[0;36m80\u001b[0m\u001b[0;34m)\u001b[0m\u001b[0;34m)\u001b[0m\u001b[0;34m\u001b[0m\u001b[0;34m\u001b[0m\u001b[0m\n\u001b[0m",
      "\u001b[0;31mTypeError\u001b[0m: create_bank_account() missing 1 required positional argument: 'owner'"
     ]
    }
   ],
   "source": [
    "# Assigning parameters in the reverse order than in the function definition\n",
    "print(create_bank_account(balance=150, owner='Sebastien Wong'))\n",
    "\n",
    "# Assigning only the required parameter, as 'balance' is still optional\n",
    "print(create_bank_account(owner='Scott Sleep'))\n",
    "\n",
    "# The required parameter has not been provided so an error will occur\n",
    "print(create_bank_account(balance=80))"
   ]
  },
  {
   "cell_type": "markdown",
   "metadata": {
    "id": "zFB_O7OK18yl"
   },
   "source": [
    "Arguments not assigned to a keyword will simply match to parameters based on the order in the function definition. These assigned arguments are \"positional\" arguments. You can use both positional and keyword arguments when calling a function as long as you provide position arguments first."
   ]
  },
  {
   "cell_type": "code",
   "execution_count": null,
   "metadata": {
    "colab": {
     "base_uri": "https://localhost:8080/",
     "height": 52
    },
    "executionInfo": {
     "elapsed": 658,
     "status": "ok",
     "timestamp": 1582771728621,
     "user": {
      "displayName": "Adam Gatt",
      "photoUrl": "",
      "userId": "00057255254496518621"
     },
     "user_tz": -630
    },
    "id": "qqGtYCQE1INE",
    "outputId": "47717a83-f454-4679-dff8-7f0565fd9268"
   },
   "outputs": [
    {
     "name": "stdout",
     "output_type": "stream",
     "text": [
      "{'type': 'Orc', 'location': (5, 7), 'health': 30, 'magic': None}\n",
      "{'type': 'Lich', 'location': (6, 6), 'health': 5, 'magic': 10}\n"
     ]
    }
   ],
   "source": [
    "def spawn_monster(type, location, health, magic=None):\n",
    "  return {\n",
    "      'type': type,\n",
    "      'location': location,\n",
    "      'health': health,\n",
    "      'magic': magic\n",
    "      }\n",
    "\n",
    "# Only positional arguments\n",
    "print(spawn_monster('Orc', (5, 7), 30))\n",
    "\n",
    "# Positional arguments, then keyword arguments\n",
    "print(spawn_monster('Lich', (6, 6), magic=10, health=5))"
   ]
  },
  {
   "cell_type": "code",
   "execution_count": 4,
   "metadata": {
    "colab": {
     "base_uri": "https://localhost:8080/",
     "height": 131
    },
    "executionInfo": {
     "elapsed": 843,
     "status": "error",
     "timestamp": 1580898392795,
     "user": {
      "displayName": "Adam Gatt",
      "photoUrl": "",
      "userId": "00057255254496518621"
     },
     "user_tz": -630
    },
    "id": "GKH6ukEe2r7x",
    "outputId": "86389ef4-6579-46e9-cdf3-6450e0dbd824"
   },
   "outputs": [
    {
     "ename": "SyntaxError",
     "evalue": "positional argument follows keyword argument (<ipython-input-4-c3eacd64988e>, line 3)",
     "output_type": "error",
     "traceback": [
      "\u001b[0;36m  File \u001b[0;32m\"<ipython-input-4-c3eacd64988e>\"\u001b[0;36m, line \u001b[0;32m3\u001b[0m\n\u001b[0;31m    print(spawn_monster(type='Lich', (8, 10), health=5))\u001b[0m\n\u001b[0m                                     ^\u001b[0m\n\u001b[0;31mSyntaxError\u001b[0m\u001b[0;31m:\u001b[0m positional argument follows keyword argument\n"
     ]
    }
   ],
   "source": [
    "# Python won't like keyword arguments before positional,\n",
    "# even if parameter order matches the function definition\n",
    "print(spawn_monster(type='Lich', (8, 10), health=5))"
   ]
  },
  {
   "cell_type": "code",
   "execution_count": null,
   "metadata": {
    "id": "w6gmhh_y4xbG"
   },
   "outputs": [],
   "source": []
  }
 ],
 "metadata": {
  "colab": {
   "collapsed_sections": [],
   "name": "3 Program Structure.ipynb",
   "provenance": [
    {
     "file_id": "1_Ft91wCo_FurD8XRzKL0tO-dbTUp8HZY",
     "timestamp": 1583895548683
    }
   ]
  },
  "kernelspec": {
   "display_name": "Python 3",
   "language": "python",
   "name": "python3"
  },
  "language_info": {
   "codemirror_mode": {
    "name": "ipython",
    "version": 3
   },
   "file_extension": ".py",
   "mimetype": "text/x-python",
   "name": "python",
   "nbconvert_exporter": "python",
   "pygments_lexer": "ipython3",
   "version": "3.8.5"
  }
 },
 "nbformat": 4,
 "nbformat_minor": 1
}
