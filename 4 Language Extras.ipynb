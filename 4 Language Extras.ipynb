{
 "cells": [
  {
   "cell_type": "markdown",
   "metadata": {
    "colab_type": "text",
    "id": "xH4ei0wj4rSF"
   },
   "source": [
    "# 4 Language Extras\n",
    "##### **Author: Adam Gatt**"
   ]
  },
  {
   "cell_type": "markdown",
   "metadata": {
    "colab_type": "text",
    "id": "nemeK52t7DJ0"
   },
   "source": [
    "## Multiple assignment\n",
    "* You can assign to multiple variables at the same time. The multiple variables appear on the left-hand side of the assignment operator, separated by commas\n",
    "* If the right hand value is a list or tuple then it will be \"unpacked\" into the multiple left-hand variables. More on unpacking later.\n",
    "* You can use `_` in the left-hand side to \"catch\" assignment items you don't care about and effectively forget about them."
   ]
  },
  {
   "cell_type": "code",
   "execution_count": 0,
   "metadata": {
    "colab": {
     "base_uri": "https://localhost:8080/",
     "height": 69
    },
    "colab_type": "code",
    "executionInfo": {
     "elapsed": 1352,
     "status": "ok",
     "timestamp": 1583374223549,
     "user": {
      "displayName": "Adam Gatt",
      "photoUrl": "",
      "userId": "00057255254496518621"
     },
     "user_tz": -630
    },
    "id": "Asd_JrG87NJB",
    "outputId": "29db05cd-2072-4caf-95ab-23791e13333d"
   },
   "outputs": [
    {
     "name": "stdout",
     "output_type": "stream",
     "text": [
      "8\n",
      "1\n",
      "5\n"
     ]
    }
   ],
   "source": [
    "a, b, c = 1, 5, 8\n",
    "print(a)\n",
    "print(b)\n",
    "print(c)"
   ]
  },
  {
   "cell_type": "code",
   "execution_count": 0,
   "metadata": {
    "colab": {
     "base_uri": "https://localhost:8080/",
     "height": 34
    },
    "colab_type": "code",
    "executionInfo": {
     "elapsed": 924,
     "status": "ok",
     "timestamp": 1581419250032,
     "user": {
      "displayName": "Adam Gatt",
      "photoUrl": "",
      "userId": "00057255254496518621"
     },
     "user_tz": -630
    },
    "id": "zReRnQXG7Y1n",
    "outputId": "bf3a8d38-eb7c-41b4-db77-05ad1949ba76"
   },
   "outputs": [
    {
     "name": "stdout",
     "output_type": "stream",
     "text": [
      "200\n"
     ]
    }
   ],
   "source": [
    "my_money = 5\n",
    "your_money = 200\n",
    "\n",
    "# In-place swap of two variables (no temp variable required!)\n",
    "my_money, your_money = your_money, my_money\n",
    "\n",
    "print(my_money)"
   ]
  },
  {
   "cell_type": "code",
   "execution_count": 0,
   "metadata": {
    "colab": {
     "base_uri": "https://localhost:8080/",
     "height": 35
    },
    "colab_type": "code",
    "executionInfo": {
     "elapsed": 1333,
     "status": "ok",
     "timestamp": 1583374300938,
     "user": {
      "displayName": "Adam Gatt",
      "photoUrl": "",
      "userId": "00057255254496518621"
     },
     "user_tz": -630
    },
    "id": "ymUmU6g17I08",
    "outputId": "e3adf31b-eb13-4051-f6c9-42b516e43424"
   },
   "outputs": [
    {
     "name": "stdout",
     "output_type": "stream",
     "text": [
      "-34.9285\n"
     ]
    }
   ],
   "source": [
    "coords = (-34.9285, 138.6007)\n",
    "lat, lng = coords\n",
    "\n",
    "print(lat)"
   ]
  },
  {
   "cell_type": "code",
   "execution_count": 0,
   "metadata": {
    "colab": {},
    "colab_type": "code",
    "id": "JxWu4M9c--Xn"
   },
   "outputs": [],
   "source": [
    "color = [210, 128, 253]\n",
    "\n",
    "# Only interested in 2nd list item, ignore the 1st and 3rd\n",
    "_, g, _ = color"
   ]
  },
  {
   "cell_type": "markdown",
   "metadata": {
    "colab_type": "text",
    "id": "dYxWqC1u4uVn"
   },
   "source": [
    "## List unpacking operator `*`\n",
    "`*` is the \"iterable unpacking operator\". It works with lists and tuples, but also generators and any other iterables as well.\n",
    "\n",
    "It does a few useful things, related around the idea of turning a collection of elements into individual elements separated with commas. A useful shorthand is to think of it as removing the brackets around the list/tuple, i.e. it converts\n",
    "```\n",
    "[element_1, element_2, element_3, ..., element_n]\n",
    "```\n",
    "into the fragment\n",
    "```\n",
    "element_1, element_2, element_3, ..., element_n\n",
    "```\n",
    "Why would you want this? Well:\n",
    "1. You can make a new iterable that includes \"unpacked\" elements of another iterable.\n",
    "2. You can use it to \"unpack\" an iterable to provide multiple arguments in a function call.\n",
    "3. You can use it in the left-hand-side of a multiple assignment operation. Here the target will catch multiple assignment items, allowing you to extract single items of interest.\n",
    "4. You can use it in a function signature as a generic \"args\" parameter that will catch multiple positional arguments"
   ]
  },
  {
   "cell_type": "markdown",
   "metadata": {
    "colab_type": "text",
    "id": "nKlwfDOaQZHN"
   },
   "source": [
    "### You can make a new iterable that includes \"unpacked\" elements of another iterable"
   ]
  },
  {
   "cell_type": "code",
   "execution_count": 0,
   "metadata": {
    "colab": {
     "base_uri": "https://localhost:8080/",
     "height": 52
    },
    "colab_type": "code",
    "executionInfo": {
     "elapsed": 670,
     "status": "ok",
     "timestamp": 1583374854779,
     "user": {
      "displayName": "Adam Gatt",
      "photoUrl": "",
      "userId": "00057255254496518621"
     },
     "user_tz": -630
    },
    "id": "Hg9brwhHMrsQ",
    "outputId": "6e8eedca-ffe9-4be7-aa3f-cc24fa7a9e8a"
   },
   "outputs": [
    {
     "name": "stdout",
     "output_type": "stream",
     "text": [
      "((1.0, 0.5, 0), 1.0) has length 2\n",
      "(1.0, 0.5, 0, 1.0) has length 4\n"
     ]
    }
   ],
   "source": [
    "# We have an RGB triple and want to convert it into an RGBA quad with alpha channel\n",
    "rgb_value = (1.0, 0.5, 0)\n",
    "\n",
    "# This won't work. It will give us the result ((1.0, 0.5, 0), 1.0). We want a flat tuple.\n",
    "rgba_value_1 = (rgb_value, 1.0)\n",
    "\n",
    "# We can unpack the first tuple to result in (1.0, 0.5, 0, 1.0). This is equivalent to rgba_value += (1.0,)\n",
    "rgba_value_2 = (*rgb_value, 1.0)\n",
    "\n",
    "for rgba in [rgba_value_1, rgba_value_2]:\n",
    "  print(f\"{rgba} has length {len(rgba)}\")"
   ]
  },
  {
   "cell_type": "code",
   "execution_count": 0,
   "metadata": {
    "colab": {
     "base_uri": "https://localhost:8080/",
     "height": 35
    },
    "colab_type": "code",
    "executionInfo": {
     "elapsed": 662,
     "status": "ok",
     "timestamp": 1583374947724,
     "user": {
      "displayName": "Adam Gatt",
      "photoUrl": "",
      "userId": "00057255254496518621"
     },
     "user_tz": -630
    },
    "id": "wtcdgCK2P6Mp",
    "outputId": "a7dbcef6-a1e0-4497-c858-db90e144b785"
   },
   "outputs": [
    {
     "name": "stdout",
     "output_type": "stream",
     "text": [
      "(1.0, 0.5, 1.0)\n"
     ]
    }
   ],
   "source": [
    "# We can apply the unpack operator to a slice\n",
    "rgb_with_max_blue = (*rgb_value[:2], 1.0)\n",
    "print(rgb_with_max_blue)"
   ]
  },
  {
   "cell_type": "code",
   "execution_count": 0,
   "metadata": {
    "colab": {
     "base_uri": "https://localhost:8080/",
     "height": 52
    },
    "colab_type": "code",
    "executionInfo": {
     "elapsed": 606,
     "status": "ok",
     "timestamp": 1583375080494,
     "user": {
      "displayName": "Adam Gatt",
      "photoUrl": "",
      "userId": "00057255254496518621"
     },
     "user_tz": -630
    },
    "id": "AcBoFU9rOJjc",
    "outputId": "f51a380e-ee0b-4287-f392-2af1f14c3bb4"
   },
   "outputs": [
    {
     "name": "stdout",
     "output_type": "stream",
     "text": [
      "{'gold', 'bronze'}\n",
      "('bronze', 'gold', 'gold', 'gold', 'bronze')\n"
     ]
    }
   ],
   "source": [
    "# Can succintly convert from one iterable to another\n",
    "my_olympic_medals = ['bronze', 'gold', 'gold', 'gold', 'bronze']\n",
    "\n",
    "unique_medals = {*my_olympic_medals} # Equivalent of writing 'set(my_olympic_medals)'\n",
    "\n",
    "print(unique_medals)\n",
    "\n",
    "medals_as_tuple = (*my_olympic_medals,) # Trailing comma needed for single-item set definition\n",
    "print(medals_as_tuple)"
   ]
  },
  {
   "cell_type": "markdown",
   "metadata": {
    "colab_type": "text",
    "id": "BmQpbMyMQgLG"
   },
   "source": [
    "### You can use it to \"unpack\" an iterable to provide multiple arguments in a function call"
   ]
  },
  {
   "cell_type": "code",
   "execution_count": 0,
   "metadata": {
    "colab": {
     "base_uri": "https://localhost:8080/",
     "height": 35
    },
    "colab_type": "code",
    "executionInfo": {
     "elapsed": 623,
     "status": "ok",
     "timestamp": 1583375196857,
     "user": {
      "displayName": "Adam Gatt",
      "photoUrl": "",
      "userId": "00057255254496518621"
     },
     "user_tz": -630
    },
    "id": "pe5sE2v05KAy",
    "outputId": "1c6d1b54-ec0e-41b8-981d-83d8649d6873"
   },
   "outputs": [
    {
     "name": "stdout",
     "output_type": "stream",
     "text": [
      "0.6747409422235526\n"
     ]
    }
   ],
   "source": [
    "from math import atan2\n",
    "\n",
    "# NOTE: The input is two seperate positional arguments, _NOT_ a list\n",
    "def linearToRadial(x_coord, y_coord):\n",
    "  mag = (x_coord**2 + y_coord**2)**0.5\n",
    "  angle = atan2(y_coord, x_coord)\n",
    "  return (mag, angle)\n",
    "\n",
    "linear_coords = [5, 4]\n",
    "# 1) Star operator to unpack list into multiple positional arguments\n",
    "# 2) Then, for fun, multiple assignment of results into two variables \n",
    "my_mag, my_angle = linearToRadial(*linear_coords)\n",
    "\n",
    "print(my_angle)"
   ]
  },
  {
   "cell_type": "code",
   "execution_count": 0,
   "metadata": {
    "colab": {
     "base_uri": "https://localhost:8080/",
     "height": 165
    },
    "colab_type": "code",
    "executionInfo": {
     "elapsed": 717,
     "status": "error",
     "timestamp": 1581419941663,
     "user": {
      "displayName": "Adam Gatt",
      "photoUrl": "",
      "userId": "00057255254496518621"
     },
     "user_tz": -630
    },
    "id": "a89AQYrl-TMp",
    "outputId": "4837f0c8-e238-440b-9137-21dd73a6427a"
   },
   "outputs": [
    {
     "ename": "TypeError",
     "evalue": "ignored",
     "output_type": "error",
     "traceback": [
      "\u001b[0;31m---------------------------------------------------------------------------\u001b[0m",
      "\u001b[0;31mTypeError\u001b[0m                                 Traceback (most recent call last)",
      "\u001b[0;32m<ipython-input-15-31741df50d8d>\u001b[0m in \u001b[0;36m<module>\u001b[0;34m()\u001b[0m\n\u001b[0;32m----> 1\u001b[0;31m \u001b[0mmy_mag\u001b[0m\u001b[0;34m,\u001b[0m \u001b[0mmy_angle\u001b[0m \u001b[0;34m=\u001b[0m \u001b[0mlinearToRadial\u001b[0m\u001b[0;34m(\u001b[0m\u001b[0mlinear_coords\u001b[0m\u001b[0;34m)\u001b[0m\u001b[0;34m\u001b[0m\u001b[0;34m\u001b[0m\u001b[0m\n\u001b[0m",
      "\u001b[0;31mTypeError\u001b[0m: linearToRadial() missing 1 required positional argument: 'y_coord'"
     ]
    }
   ],
   "source": [
    "# Doesn't work without star operator. The input is mapped to the first parameter, leaving the second unmapped\n",
    "my_mag, my_angle = linearToRadial(linear_coords)"
   ]
  },
  {
   "cell_type": "markdown",
   "metadata": {
    "colab_type": "text",
    "id": "tbG2qMdqQmY9"
   },
   "source": [
    "### You can use it in the left-hand-side of a multiple assignment operation"
   ]
  },
  {
   "cell_type": "code",
   "execution_count": 0,
   "metadata": {
    "colab": {
     "base_uri": "https://localhost:8080/",
     "height": 52
    },
    "colab_type": "code",
    "executionInfo": {
     "elapsed": 611,
     "status": "ok",
     "timestamp": 1583375303848,
     "user": {
      "displayName": "Adam Gatt",
      "photoUrl": "",
      "userId": "00057255254496518621"
     },
     "user_tz": -630
    },
    "id": "dmeRQnmv5w__",
    "outputId": "16783da8-ccbc-4651-85df-4f30539662f9"
   },
   "outputs": [
    {
     "name": "stdout",
     "output_type": "stream",
     "text": [
      "Sebastien\n",
      "['Travis', 'Thomas', 'Ben', 'Barnaby']\n"
     ]
    }
   ],
   "source": [
    "queue = ['Sebastien', 'Travis', 'Thomas', 'Ben', 'Barnaby']\n",
    "first_customer, *remaining_customers = queue\n",
    "print(first_customer)\n",
    "print(remaining_customers)"
   ]
  },
  {
   "cell_type": "code",
   "execution_count": 0,
   "metadata": {
    "colab": {
     "base_uri": "https://localhost:8080/",
     "height": 52
    },
    "colab_type": "code",
    "executionInfo": {
     "elapsed": 631,
     "status": "ok",
     "timestamp": 1583375376378,
     "user": {
      "displayName": "Adam Gatt",
      "photoUrl": "",
      "userId": "00057255254496518621"
     },
     "user_tz": -630
    },
    "id": "Uf0Y4avS60f0",
    "outputId": "500ae7ea-894f-4988-e85e-6723cff26dd4"
   },
   "outputs": [
    {
     "name": "stdout",
     "output_type": "stream",
     "text": [
      "1\n",
      "25\n"
     ]
    }
   ],
   "source": [
    "squares = (1, 4, 9, 16, 25)\n",
    "\n",
    "# Second LHS operand has * to wild-card accumulate items in the middle and _ to effectively ignore them\n",
    "first, *_, last = squares\n",
    "\n",
    "print(first)\n",
    "print(last)"
   ]
  },
  {
   "cell_type": "markdown",
   "metadata": {
    "colab_type": "text",
    "id": "x0GfmUF_QukF"
   },
   "source": [
    "### You can use it in a function signature as a generic \"args\" parameter that will catch multiple positional arguments"
   ]
  },
  {
   "cell_type": "code",
   "execution_count": 0,
   "metadata": {
    "colab": {
     "base_uri": "https://localhost:8080/",
     "height": 35
    },
    "colab_type": "code",
    "executionInfo": {
     "elapsed": 596,
     "status": "ok",
     "timestamp": 1583375522896,
     "user": {
      "displayName": "Adam Gatt",
      "photoUrl": "",
      "userId": "00057255254496518621"
     },
     "user_tz": -630
    },
    "id": "oFMz9N-eCvVL",
    "outputId": "d00488a3-dc41-44a3-bf0c-e41cff4d842f"
   },
   "outputs": [
    {
     "name": "stdout",
     "output_type": "stream",
     "text": [
      "There are 0 cats\n"
     ]
    }
   ],
   "source": [
    "# Using the star operator in a function signature to accept an arbitrary number of arguments\n",
    "def named_item_summation(item_name, *quantities):\n",
    "  print(f\"There are {sum(quantities)} {item_name}s\")\n",
    "\n",
    "# Assigned more arguments than named parameters, as \"*quantities\" will catch multiple\n",
    "named_item_summation('cat', 5, 8, 6, 2, 8)"
   ]
  },
  {
   "cell_type": "markdown",
   "metadata": {
    "colab_type": "text",
    "id": "GXNnAm9oAHov"
   },
   "source": [
    "## Dict unpacking operator `**`\n",
    "`**` is the \"dict unpacking operator\". It works very similarly to the iterable unpacking operator, but consider it as unpacking 'key: value' pairs instead of single elements.\n",
    "1. You can use it to unpack a dict into the definition of another dict\n",
    "1. When unpacking a dict, they can be mapped to function keyword arguments.\n",
    "2. When used in a function signature you can catch arguments, but in this case they will be keyword arguments instead of positional arguments"
   ]
  },
  {
   "cell_type": "code",
   "execution_count": 2,
   "metadata": {
    "colab": {
     "base_uri": "https://localhost:8080/",
     "height": 72
    },
    "colab_type": "code",
    "executionInfo": {
     "elapsed": 648,
     "status": "ok",
     "timestamp": 1583375915791,
     "user": {
      "displayName": "Adam Gatt",
      "photoUrl": "",
      "userId": "00057255254496518621"
     },
     "user_tz": -630
    },
    "id": "p9Kgn25rRQuy",
    "outputId": "67f7c98f-4bec-427c-b713-7996b17d461a"
   },
   "outputs": [
    {
     "name": "stdout",
     "output_type": "stream",
     "text": [
      "{'scrum master': 'Adam', 'product owner': 'Sebastien', 'development team': ['Adam', 'Andy', 'Anthony', 'Barnaby', 'Frank', 'Meera', 'Sebastien', 'Travis']}\n",
      "{'scrum master': 'Adam', 'product owner': 'Sebastien', 'development team': ['Adam', 'Andy', 'Anthony', 'Barnaby', 'Frank', 'Meera', 'Sebastien', 'Travis'], 'scrum lawyer': 'Sue'}\n"
     ]
    }
   ],
   "source": [
    "scrum_team = {\n",
    "    'scrum master': 'Adam',\n",
    "    'product owner': 'Sebastien',\n",
    "    'development team': ['Adam', 'Andy', 'Anthony', 'Barnaby', 'Frank', 'Meera', 'Sebastien', 'Travis']\n",
    "}\n",
    "\n",
    "# By company policy, all scrum teams must now include a Scrum Lawyer\n",
    "new_scrum_team = {\n",
    "    **scrum_team,\n",
    "    'scrum lawyer': 'Sue'\n",
    "}\n",
    "\n",
    "print(scrum_team)\n",
    "print(new_scrum_team)"
   ]
  },
  {
   "cell_type": "code",
   "execution_count": 3,
   "metadata": {
    "colab": {
     "base_uri": "https://localhost:8080/",
     "height": 55
    },
    "colab_type": "code",
    "executionInfo": {
     "elapsed": 656,
     "status": "ok",
     "timestamp": 1583376026246,
     "user": {
      "displayName": "Adam Gatt",
      "photoUrl": "",
      "userId": "00057255254496518621"
     },
     "user_tz": -630
    },
    "id": "ChdeKszoSEhj",
    "outputId": "a42d21fb-f0fe-4a76-9570-a6c1b3800915"
   },
   "outputs": [
    {
     "name": "stdout",
     "output_type": "stream",
     "text": [
      "{'scrum master': 'Travis', 'product owner': 'Sebastien', 'development team': ['Adam', 'Andy', 'Anthony', 'Barnaby', 'Frank', 'Meera', 'Sebastien', 'Travis']}\n"
     ]
    }
   ],
   "source": [
    "# Actually, we can unpack a dict and then overwrite some of the unpacked keys.\n",
    "# This effectively allows us to perform a precise modification of a dictionary.\n",
    "scrum_team_2 = {\n",
    "    **scrum_team,\n",
    "    'scrum master': 'Travis'\n",
    "}\n",
    "\n",
    "print(scrum_team_2) "
   ]
  },
  {
   "cell_type": "markdown",
   "metadata": {},
   "source": [
    "What is the advantage of this over assigning into the dict, such as `scrum_team['scrum_master'] = 'Travis'`?\n",
    "1. We are not modifying the original dict in any way, but rather creating a new, modified dict (we may still need the original, unmodified scrum_team later on).\n",
    "2. This allows for the \"functional\" style, which encourages immutability of data.\n",
    "3. We phrase scrum_team_2 as a full definition in one step instead of a copy operation and then a modification. This results in an improvement in readability (I reckon)."
   ]
  },
  {
   "cell_type": "code",
   "execution_count": 6,
   "metadata": {
    "colab": {
     "base_uri": "https://localhost:8080/",
     "height": 121
    },
    "colab_type": "code",
    "executionInfo": {
     "elapsed": 641,
     "status": "ok",
     "timestamp": 1583376560095,
     "user": {
      "displayName": "Adam Gatt",
      "photoUrl": "",
      "userId": "00057255254496518621"
     },
     "user_tz": -630
    },
    "id": "3pI6vCCv_y0P",
    "outputId": "ef47da5d-4fb2-4d2f-cbdf-cec622bf7ab7"
   },
   "outputs": [
    {
     "name": "stdout",
     "output_type": "stream",
     "text": [
      "The game was played between: Port Adelaide and North Melbourne\n",
      "It was held in 2009 at night\n",
      "\n",
      "The game was played between: Port Adelaide and North Melbourne\n",
      "It was held in 2009 at night\n",
      "The umpire was John Simpson\n"
     ]
    }
   ],
   "source": [
    "def print_match_summary(teams, year_played, match_time, umpire=None):\n",
    "  print(f\"The game was played between: {' and '.join(teams)}\")\n",
    "  print(f\"It was held in {year_played} at {match_time}\")\n",
    "  if umpire:\n",
    "    print(f\"The umpire was {umpire}\")\n",
    "\n",
    "match_details = {\n",
    "    'teams': ['Port Adelaide', 'North Melbourne'],\n",
    "    'year_played': 2009,\n",
    "    'match_time': 'night'\n",
    "}\n",
    "\n",
    "print_match_summary(**match_details)\n",
    "\n",
    "print()\n",
    "# Can still supply keyword args manually to supplement the dict\n",
    "print_match_summary(**match_details, umpire='John Simpson')\n"
   ]
  },
  {
   "cell_type": "code",
   "execution_count": 0,
   "metadata": {
    "colab": {
     "base_uri": "https://localhost:8080/",
     "height": 51
    },
    "colab_type": "code",
    "executionInfo": {
     "elapsed": 590,
     "status": "ok",
     "timestamp": 1583376646679,
     "user": {
      "displayName": "Adam Gatt",
      "photoUrl": "",
      "userId": "00057255254496518621"
     },
     "user_tz": -630
    },
    "id": "fywg3XAeFkFH",
    "outputId": "e06503ac-d060-4f83-d860-5f0550f257aa"
   },
   "outputs": [
    {
     "name": "stdout",
     "output_type": "stream",
     "text": [
      "{'stage': 'dev', 'account': 'adam', 'version': 1.0}\n",
      "serverless deploy stage=dev account=adam version=1.0\n"
     ]
    }
   ],
   "source": [
    "def run_os_command(command, **switches):\n",
    "  print(switches)\n",
    "  cmd_string = command + ''.join(f\" {switch}={value}\" for switch, value in switches.items())\n",
    "  print(cmd_string)\n",
    "\n",
    "# All unmatched keyword arguments are funneled into \"**switches\"\n",
    "run_os_command(command='serverless deploy', stage='dev', account='adam', version=1.0)"
   ]
  },
  {
   "cell_type": "markdown",
   "metadata": {
    "colab_type": "text",
    "id": "leUuJyFKHdg3"
   },
   "source": [
    "## `try`/`except` statement\n",
    "Some statements or operators will cause an error to occur. If you expect this, you can handle it ahead of time to prevent it from crashing the program.\n",
    "* The risky code is put into the `try` block.\n",
    "* The `except` block contains your error handling code. This is the same as the `catch` keyword in other languages."
   ]
  },
  {
   "cell_type": "code",
   "execution_count": 0,
   "metadata": {
    "colab": {
     "base_uri": "https://localhost:8080/",
     "height": 104
    },
    "colab_type": "code",
    "executionInfo": {
     "elapsed": 640,
     "status": "ok",
     "timestamp": 1583376913726,
     "user": {
      "displayName": "Adam Gatt",
      "photoUrl": "",
      "userId": "00057255254496518621"
     },
     "user_tz": -630
    },
    "id": "SmechRhJHy5w",
    "outputId": "7f483054-f32e-40cc-8989-3c4340a6a6b2"
   },
   "outputs": [
    {
     "name": "stdout",
     "output_type": "stream",
     "text": [
      "The inverse of 2 is 0.5\n",
      "The inverse of 10 is 0.1\n",
      "We can't calculate the inverse of 0\n",
      "The inverse of -1 is -1.0\n",
      "The inverse of 8 is 0.125\n"
     ]
    }
   ],
   "source": [
    "values = [2, 10, 0, -1, 8]\n",
    "for value in values:\n",
    "  try:\n",
    "    print(f\"The inverse of {value} is {1/value}\")\n",
    "  except:\n",
    "    print(f\"We can't calculate the inverse of {value}\")"
   ]
  },
  {
   "cell_type": "code",
   "execution_count": 0,
   "metadata": {
    "colab": {},
    "colab_type": "code",
    "id": "fy_FZRWIosBb"
   },
   "outputs": [],
   "source": [
    "try:\n",
    "  riskyFunction()\n",
    "except Exception as ex:\n",
    "  print(ex)"
   ]
  },
  {
   "cell_type": "code",
   "execution_count": 0,
   "metadata": {
    "colab": {
     "base_uri": "https://localhost:8080/",
     "height": 277
    },
    "colab_type": "code",
    "executionInfo": {
     "elapsed": 931,
     "status": "ok",
     "timestamp": 1581423201426,
     "user": {
      "displayName": "Adam Gatt",
      "photoUrl": "",
      "userId": "00057255254496518621"
     },
     "user_tz": -630
    },
    "id": "tvID4zhiFoPM",
    "outputId": "63038323-813d-4fe5-c678-d3d0855ead90"
   },
   "outputs": [
    {
     "name": "stdout",
     "output_type": "stream",
     "text": [
      "\n",
      "The inverse of 2 is 0.5\n",
      "The log of 2 is 0.6931471805599453\n",
      "\n",
      "The inverse of 10 is 0.1\n",
      "The log of 10 is 2.302585092994046\n",
      "\n",
      "We tried to divide by zero!\n",
      "division by zero\n",
      "\n",
      "The inverse of -1 is -1.0\n",
      "An unexpected error occured\n",
      "\n",
      "The inverse of 8 is 0.125\n",
      "The log of 8 is 2.0794415416798357\n"
     ]
    }
   ],
   "source": [
    "# We can chain multiple except blocks to handle different errors in different ways\n",
    "from math import log\n",
    "\n",
    "values = [2, 10, 0, -1, 8]\n",
    "for value in values:\n",
    "  try:\n",
    "    print()\n",
    "    print(f\"The inverse of {value} is {1/value}\")\n",
    "    print(f\"The log of {value} is {log(value)}\")\n",
    "  # 1) We can specify a type of error to catch for this block\n",
    "  # 2) We can also assign the error to a variable and make use of it\n",
    "  except ZeroDivisionError as err:\n",
    "    print('We tried to divide by zero!')\n",
    "    print(err)\n",
    "  # All other errors will be picked up by this block\n",
    "  except:\n",
    "    print('An unexpected error occured')\n"
   ]
  },
  {
   "cell_type": "markdown",
   "metadata": {
    "colab_type": "text",
    "id": "EO4U5jadLEQQ"
   },
   "source": [
    "## `With` statement\n",
    "The `with` operator is used throughout Python to handle the [resource management problem](https://en.wikipedia.org/wiki/Resource_management_(computing)), encountered when you have operations that require you to\n",
    "1. acquire a resource\n",
    "2. perform your logic, and then\n",
    "3. release the resource when you're done with it\n",
    "\n",
    "This pattern is more common than you might realise. Examples include opening/closing a file, acquiring/releasing a mutex or connecting/disconnecting to a database. Bascially whenever you find yourself performing initial set-up and then running a `.close()` function afterwards (or `.commit()`, `.flush()`, `.release()` etc).\n",
    "\n",
    "Python offers the `with` statement for this purpose. It's structure is:\n",
    "```\n",
    "with <context manager> as <variable>:\n",
    "  < code block that can make use of the context manager >\n",
    "```\n",
    "\n",
    "You supply it with a \"context manager\", and then Python will ensure it is set up at the start of the block and cleaned up at the end. This avoids the common issue where you forget to release the resource (due to complicated program logic, deep function call stacks, unexpected errors etc) and so your writes aren't committed or your program becomes locked."
   ]
  },
  {
   "cell_type": "code",
   "execution_count": 0,
   "metadata": {
    "colab": {},
    "colab_type": "code",
    "id": "7KOr6WMTLA5v"
   },
   "outputs": [],
   "source": [
    "# Example adapted from https://www.geeksforgeeks.org/with-statement-in-python/\n",
    "  \n",
    "# 1) File handling without using with statement \n",
    "file = open('my message.txt', 'w') \n",
    "file.write('hello world !') \n",
    "file.close() \n",
    "  \n",
    "# 2) File handling using with statement\n",
    "# We will never run the risk of forgetting to close the file\n",
    "with open('my message.txt', 'w') as file: \n",
    "    file.write('hello world !') "
   ]
  },
  {
   "cell_type": "markdown",
   "metadata": {
    "colab_type": "text",
    "id": "bAGPrWW7OCNW"
   },
   "source": [
    "Any object can be a context manager as long as it implements the required functions `__init__()`, `__enter__()` and `__exit__()`. So if you have a lot of regular code that involves cleanup of a resource that isn't already a context manager, we can usually write a context manager that wraps around it. \n",
    "\n",
    "Below is an example of a context manager that\n",
    "1. creates a \"bot\" with a specified name\n",
    "2. announces its creation and destruction, and\n",
    "3. provides a function for issuing statements under the bot's name\n",
    "\n",
    "You can ignore `class`, `object` and `self` for now, they'll be covered more in the Object Oriented Programming module.\n",
    "\n"
   ]
  },
  {
   "cell_type": "code",
   "execution_count": 0,
   "metadata": {
    "colab": {
     "base_uri": "https://localhost:8080/",
     "height": 69
    },
    "colab_type": "code",
    "executionInfo": {
     "elapsed": 1699,
     "status": "ok",
     "timestamp": 1583979542225,
     "user": {
      "displayName": "Adam Gatt",
      "photoUrl": "",
      "userId": "04763248023094175140"
     },
     "user_tz": -630
    },
    "id": "B9MmjEpNOLKf",
    "outputId": "4189fc2c-400b-4c9a-faa7-2862aa8db199"
   },
   "outputs": [
    {
     "name": "stdout",
     "output_type": "stream",
     "text": [
      "Bot [WarningBot] has entered the channel\n",
      "WarningBot says: The building is on fire! This is not a drill!\n",
      "Bot [WarningBot] has left the channel\n"
     ]
    }
   ],
   "source": [
    "class Chatbot(object):\n",
    "  def __init__(self, bot_name):\n",
    "    self.bot_name = bot_name\n",
    "    print(f\"Bot [{bot_name}] has entered the channel\")\n",
    "\n",
    "  def __enter__(self):\n",
    "    return self\n",
    "  \n",
    "  def __exit__(self, type, value, traceback):\n",
    "    print(f\"Bot [{self.bot_name}] has left the channel\")\n",
    "  \n",
    "  def say(self, statement):\n",
    "    print(f\"{self.bot_name} says: {statement}\")\n",
    "\n",
    "\n",
    "with Chatbot('WarningBot') as my_bot:\n",
    "  my_bot.say('The building is on fire! This is not a drill!')"
   ]
  },
  {
   "cell_type": "markdown",
   "metadata": {
    "colab_type": "text",
    "id": "wQ1goUtRHUid"
   },
   "source": [
    "# Function cache\n",
    "A cache is a structure that stores computed results so that you can quickly fetch them in future instead of needing to compute them again. If you have a function that takes a (relatively) long time to calculate its results, and if it is often called with the same parameters, then you can often speed up performance considerably by adding a cache.\n",
    "\n",
    "Python offers this through the `@lru_cache` decorator. A decorator is a line that you can add before a function definition to easily add on extra functionality to it. In implementation, a decorator is a sort of meta-function that takes the target function and wraps new functionality around it, but the specifics don't need to be fully known to make use of them.\n",
    "\n",
    "`@lru-cache` will store and remember the results to recent calls to the recent function. When the function is called in future with the same parameters, the cached value is simply looked up and returned instead of actually calling the function again. This makes the cache unsuitable for functions that have \"side effects\", i.e. are expected to perform more functionality than simply returning a value (such as printing to a screen, writing a log, editing a file, changing a global variable, etc).\n",
    "\n",
    "You can specify a maximum cache size to use with `maxsize`. If you do then the Least Recently Used policy will be used, replacing the oldest cached values when space needs to be freed up for new results. Alternatively you can specify `maxsize=None` to have a cache that grows without limit, remembering the results for all parameters. "
   ]
  },
  {
   "cell_type": "code",
   "execution_count": 0,
   "metadata": {
    "colab": {
     "base_uri": "https://localhost:8080/",
     "height": 86
    },
    "colab_type": "code",
    "executionInfo": {
     "elapsed": 22184,
     "status": "ok",
     "timestamp": 1583980732097,
     "user": {
      "displayName": "Adam Gatt",
      "photoUrl": "",
      "userId": "04763248023094175140"
     },
     "user_tz": -630
    },
    "id": "WfsuNztoOmlw",
    "outputId": "37e872cb-9b19-44ed-fdd0-7e63da3e354e"
   },
   "outputs": [
    {
     "name": "stdout",
     "output_type": "stream",
     "text": [
      "102334155\n",
      "21.509242423999922 seconds elapsed\n",
      "CPU times: user 21.4 s, sys: 2.88 ms, total: 21.4 s\n",
      "Wall time: 21.5 s\n"
     ]
    }
   ],
   "source": [
    "\n",
    "%%time\n",
    "#Thanks Ben!\n",
    "\n",
    "from timeit import default_timer as timer\n",
    "\n",
    "def fibonacci(n):\n",
    "  return 1 if n <= 2 else fibonacci(n-1) + fibonacci(n-2)\n",
    "\n",
    "start = timer()\n",
    "print(fibonacci(40))\n",
    "print(f\"{timer()-start} seconds elapsed\")"
   ]
  },
  {
   "cell_type": "code",
   "execution_count": 0,
   "metadata": {
    "colab": {
     "base_uri": "https://localhost:8080/",
     "height": 51
    },
    "colab_type": "code",
    "executionInfo": {
     "elapsed": 619,
     "status": "ok",
     "timestamp": 1583980050788,
     "user": {
      "displayName": "Adam Gatt",
      "photoUrl": "",
      "userId": "04763248023094175140"
     },
     "user_tz": -630
    },
    "id": "hxYFyDO1PvYw",
    "outputId": "94180bb5-a292-490f-e1c1-293038b8e1c8"
   },
   "outputs": [
    {
     "name": "stdout",
     "output_type": "stream",
     "text": [
      "102334155\n",
      "0.0014896289999342116 seconds elapsed\n"
     ]
    }
   ],
   "source": [
    "from timeit import default_timer as timer\n",
    "from functools import lru_cache\n",
    "\n",
    "# Decorators are applied before the function definition after a \"@\" character\n",
    "@lru_cache(maxsize=None)\n",
    "def fibonacci(n):\n",
    "  return 1 if n <= 2 else fibonacci(n-1) + fibonacci(n-2)\n",
    "\n",
    "start = timer()\n",
    "print(fibonacci(40))\n",
    "print(f\"{timer()-start} seconds elapsed\")"
   ]
  },
  {
   "cell_type": "code",
   "execution_count": 0,
   "metadata": {
    "colab": {
     "base_uri": "https://localhost:8080/",
     "height": 138
    },
    "colab_type": "code",
    "executionInfo": {
     "elapsed": 10832,
     "status": "ok",
     "timestamp": 1583980296444,
     "user": {
      "displayName": "Adam Gatt",
      "photoUrl": "",
      "userId": "04763248023094175140"
     },
     "user_tz": -630
    },
    "id": "jQO8hJUdPBJo",
    "outputId": "251e8d44-41d1-470d-f6d8-01461dcd3a87"
   },
   "outputs": [
    {
     "name": "stdout",
     "output_type": "stream",
     "text": [
      "Logging connection to database to fetch customer 5\n",
      "Record fetched\n",
      "Meera\n",
      "Logging connection to database to fetch customer 3\n",
      "Record fetched\n",
      "Travis\n",
      "Meera\n"
     ]
    }
   ],
   "source": [
    "from functools import lru_cache\n",
    "from time import sleep\n",
    "\n",
    "@lru_cache(maxsize=10)\n",
    "def slow_database_read(customer_id):\n",
    "  print(f\"Logging connection to database to fetch customer {customer_id}\")\n",
    "  customers = {1: 'Adam', 3: 'Travis', 5: 'Meera'}\n",
    "  sleep(5)\n",
    "  print(f\"Record fetched\")\n",
    "  return customers[customer_id]\n",
    "\n",
    "print(slow_database_read(5))\n",
    "print(slow_database_read(3))\n",
    "\n",
    "# Side effects from function call (print, sleep) won't occur as the function\n",
    "# body will not actually be executed (cached value is simply returned)\n",
    "print(slow_database_read(5))"
   ]
  },
  {
   "cell_type": "code",
   "execution_count": 0,
   "metadata": {
    "colab": {},
    "colab_type": "code",
    "id": "vJSyF9UWlQ1q"
   },
   "outputs": [],
   "source": []
  }
 ],
 "metadata": {
  "colab": {
   "collapsed_sections": [],
   "name": "4 Language Extras.ipynb",
   "provenance": [
    {
     "file_id": "1beXrITrvAV2Phke0HSSqi8d-Y-CSjqPD",
     "timestamp": 1583895554524
    }
   ]
  },
  "kernelspec": {
   "display_name": "Python 3",
   "language": "python",
   "name": "python3"
  },
  "language_info": {
   "codemirror_mode": {
    "name": "ipython",
    "version": 3
   },
   "file_extension": ".py",
   "mimetype": "text/x-python",
   "name": "python",
   "nbconvert_exporter": "python",
   "pygments_lexer": "ipython3",
   "version": "3.8.5"
  }
 },
 "nbformat": 4,
 "nbformat_minor": 1
}
