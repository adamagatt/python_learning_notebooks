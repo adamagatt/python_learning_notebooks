{
 "cells": [
  {
   "cell_type": "markdown",
   "metadata": {
    "id": "IQlfBIFK8Yi9"
   },
   "source": [
    "# 2 Variables and Data Types\n",
    "##### **Author: Adam Gatt**"
   ]
  },
  {
   "cell_type": "markdown",
   "metadata": {
    "id": "pT4OQrjS8YjA"
   },
   "source": [
    "## Variables\n",
    "Variables in Python can be assigned without an explicit declaration of type or size. They can be re-assigned at any time, even to values of other data types. "
   ]
  },
  {
   "cell_type": "code",
   "execution_count": null,
   "metadata": {
    "colab": {
     "base_uri": "https://localhost:8080/",
     "height": 69
    },
    "executionInfo": {
     "elapsed": 796,
     "status": "ok",
     "timestamp": 1578869308050,
     "user": {
      "displayName": "Adam Gatt",
      "photoUrl": "",
      "userId": "00057255254496518621"
     },
     "user_tz": -630
    },
    "id": "a0bYMj1-8YjB",
    "outputId": "77f00e25-4f20-49d4-c236-281091a489a9"
   },
   "outputs": [
    {
     "name": "stdout",
     "output_type": "stream",
     "text": [
      "1.234\n",
      "Hello World\n",
      "[10, 20, 30, 50, 100]\n"
     ]
    }
   ],
   "source": [
    "# my_var begins as a floating point number\n",
    "my_var = 1.234\n",
    "print(my_var)\n",
    "\n",
    "# Now we use it to hold a string\n",
    "my_var = 'Hello World'\n",
    "print(my_var)\n",
    "\n",
    "# Now we use it to hold a list\n",
    "my_var = [10, 20, 30, 50, 100]\n",
    "print(my_var)"
   ]
  },
  {
   "cell_type": "markdown",
   "metadata": {
    "id": "vvNhhoaE8YjF"
   },
   "source": [
    "The basic data types of Python can be found here (https://www.tutorialsteacher.com/python/python-data-types) and include floating point numbers, integers, complex numbers, strings, tuples, lists, sets, dicts (dictionaries / maps), objects, functions and others.\n",
    "\n",
    "You can find the data type of any variable by calling `type()`"
   ]
  },
  {
   "cell_type": "code",
   "execution_count": null,
   "metadata": {
    "colab": {
     "base_uri": "https://localhost:8080/",
     "height": 34
    },
    "executionInfo": {
     "elapsed": 818,
     "status": "ok",
     "timestamp": 1580955563615,
     "user": {
      "displayName": "Adam Gatt",
      "photoUrl": "",
      "userId": "00057255254496518621"
     },
     "user_tz": -630
    },
    "id": "96s_uGkrSS_o",
    "outputId": "e789329a-f816-40f1-d00e-08b78113022b"
   },
   "outputs": [
    {
     "data": {
      "text/plain": [
       "True"
      ]
     },
     "execution_count": 5,
     "metadata": {
      "tags": []
     },
     "output_type": "execute_result"
    }
   ],
   "source": [
    "type(4/2) == float"
   ]
  },
  {
   "cell_type": "code",
   "execution_count": null,
   "metadata": {
    "colab": {
     "base_uri": "https://localhost:8080/",
     "height": 155
    },
    "executionInfo": {
     "elapsed": 1451,
     "status": "ok",
     "timestamp": 1580293408420,
     "user": {
      "displayName": "Adam Gatt",
      "photoUrl": "",
      "userId": "00057255254496518621"
     },
     "user_tz": -630
    },
    "id": "jRyCI_D58YjG",
    "outputId": "e6ee3d58-8983-4ff4-db4c-6be30b5fe9f4"
   },
   "outputs": [
    {
     "name": "stdout",
     "output_type": "stream",
     "text": [
      "Data type of 5 is <class 'int'>\n",
      "Data type of 5.0 is <class 'float'>\n",
      "Data type of 2.5 is <class 'float'>\n",
      "Data type of 2 is <class 'int'>\n",
      "Data type of Hello is <class 'str'>\n",
      "Data type of False is <class 'bool'>\n",
      "Data type of [1, 2, 3] is <class 'list'>\n",
      "Data type of <function addOne at 0x7f9c555a6f28> is <class 'function'>\n"
     ]
    }
   ],
   "source": [
    "def addOne(x):\n",
    "  return x+1\n",
    "\n",
    "my_list = [\n",
    "    5,\n",
    "    5.0,\n",
    "    5/2, # Python uses floating point division by default, even when inputs are int\n",
    "    5//2, # Integer division can be used with //\n",
    "    'Hello',\n",
    "    False,\n",
    "    [1, 2, 3],\n",
    "    addOne\n",
    "]\n",
    "\n",
    "for entry in my_list:\n",
    "    print('Data type of {} is {}'.format(entry, type(entry)))"
   ]
  },
  {
   "cell_type": "markdown",
   "metadata": {
    "id": "XwkV8kLd8YjI"
   },
   "source": [
    "## None\n",
    "Python uses a special 'None' type as a null-reference (a variable has no contents at all).\n",
    "* You can test if a variable is None by using the syntax `is None` or `is not None`\n",
    "* Variables only exist if they have been defined previosly. This counts for checking `if None`, so you can't use a null check to determine if the variable exists at all."
   ]
  },
  {
   "cell_type": "code",
   "execution_count": null,
   "metadata": {
    "colab": {
     "base_uri": "https://localhost:8080/",
     "height": 269
    },
    "executionInfo": {
     "elapsed": 1505,
     "status": "error",
     "timestamp": 1580293511047,
     "user": {
      "displayName": "Adam Gatt",
      "photoUrl": "",
      "userId": "00057255254496518621"
     },
     "user_tz": -630
    },
    "id": "K3FLBf6i8YjJ",
    "outputId": "ed509232-5b18-41b5-a37e-115f01226020"
   },
   "outputs": [
    {
     "name": "stdout",
     "output_type": "stream",
     "text": [
      "None\n",
      "<class 'NoneType'>\n",
      "True\n",
      "False\n"
     ]
    },
    {
     "ename": "NameError",
     "evalue": "ignored",
     "output_type": "error",
     "traceback": [
      "\u001b[0;31m---------------------------------------------------------------------------\u001b[0m",
      "\u001b[0;31mNameError\u001b[0m                                 Traceback (most recent call last)",
      "\u001b[0;32m<ipython-input-3-de676ae3cd5e>\u001b[0m in \u001b[0;36m<module>\u001b[0;34m()\u001b[0m\n\u001b[1;32m      4\u001b[0m \u001b[0mprint\u001b[0m\u001b[0;34m(\u001b[0m\u001b[0mnone_test_1\u001b[0m \u001b[0;32mis\u001b[0m \u001b[0;32mNone\u001b[0m\u001b[0;34m)\u001b[0m\u001b[0;34m\u001b[0m\u001b[0;34m\u001b[0m\u001b[0m\n\u001b[1;32m      5\u001b[0m \u001b[0mprint\u001b[0m\u001b[0;34m(\u001b[0m\u001b[0mnone_test_1\u001b[0m \u001b[0;32mis\u001b[0m \u001b[0;32mnot\u001b[0m \u001b[0;32mNone\u001b[0m\u001b[0;34m)\u001b[0m\u001b[0;34m\u001b[0m\u001b[0;34m\u001b[0m\u001b[0m\n\u001b[0;32m----> 6\u001b[0;31m \u001b[0mprint\u001b[0m\u001b[0;34m(\u001b[0m\u001b[0mnone_test_2\u001b[0m \u001b[0;32mis\u001b[0m \u001b[0;32mNone\u001b[0m\u001b[0;34m)\u001b[0m \u001b[0;31m# Should throw an error as none_test_2 was not defined\u001b[0m\u001b[0;34m\u001b[0m\u001b[0;34m\u001b[0m\u001b[0m\n\u001b[0m",
      "\u001b[0;31mNameError\u001b[0m: name 'none_test_2' is not defined"
     ]
    }
   ],
   "source": [
    "none_test_1 = None\n",
    "print(none_test_1)\n",
    "print(type(none_test_1))\n",
    "print(none_test_1 is None)\n",
    "print(none_test_1 is not None)\n",
    "print(none_test_2 is None) # Should throw an error as none_test_2 was not defined"
   ]
  },
  {
   "cell_type": "markdown",
   "metadata": {
    "id": "dl6705ny8YjL"
   },
   "source": [
    "## Duck Typing\n",
    "Python performs no checks to see if a variable is suitable for an attempted operation. It doesn't check whether the variable is suitable for a given operator or has a required function, it simply attempts the operation and sees what happens - if the result is an error then so be it. Python believes that _\"If it walks like a duck and it quacks like a duck, then it must be a duck\"_."
   ]
  },
  {
   "cell_type": "code",
   "execution_count": null,
   "metadata": {
    "id": "QmE5BbMT8YjM"
   },
   "outputs": [],
   "source": [
    "from numpy import array\n",
    "\n",
    "my_int = 10\n",
    "my_str = 'abc'\n",
    "my_array = array([[1, 2, 3], [4, 5, 6]])\n",
    "my_set = {'Red', 'Green', 'Yellow', 'Orange'}"
   ]
  },
  {
   "cell_type": "code",
   "execution_count": null,
   "metadata": {
    "colab": {
     "base_uri": "https://localhost:8080/",
     "height": 269
    },
    "executionInfo": {
     "elapsed": 867,
     "status": "error",
     "timestamp": 1580293604081,
     "user": {
      "displayName": "Adam Gatt",
      "photoUrl": "",
      "userId": "00057255254496518621"
     },
     "user_tz": -630
    },
    "id": "qhMJYjcr8YjN",
    "outputId": "d76ad555-3f4a-43cf-d339-2ece70b70dfa"
   },
   "outputs": [
    {
     "name": "stdout",
     "output_type": "stream",
     "text": [
      "30\n",
      "abcabcabc\n",
      "[[ 3  6  9]\n",
      " [12 15 18]]\n"
     ]
    },
    {
     "ename": "TypeError",
     "evalue": "ignored",
     "output_type": "error",
     "traceback": [
      "\u001b[0;31m---------------------------------------------------------------------------\u001b[0m",
      "\u001b[0;31mTypeError\u001b[0m                                 Traceback (most recent call last)",
      "\u001b[0;32m<ipython-input-5-4651d78d4bc3>\u001b[0m in \u001b[0;36m<module>\u001b[0;34m()\u001b[0m\n\u001b[1;32m      2\u001b[0m \u001b[0mprint\u001b[0m\u001b[0;34m(\u001b[0m\u001b[0mmy_str\u001b[0m \u001b[0;34m*\u001b[0m \u001b[0;36m3\u001b[0m\u001b[0;34m)\u001b[0m\u001b[0;34m\u001b[0m\u001b[0;34m\u001b[0m\u001b[0m\n\u001b[1;32m      3\u001b[0m \u001b[0mprint\u001b[0m\u001b[0;34m(\u001b[0m\u001b[0mmy_array\u001b[0m \u001b[0;34m*\u001b[0m \u001b[0;36m3\u001b[0m\u001b[0;34m)\u001b[0m\u001b[0;34m\u001b[0m\u001b[0;34m\u001b[0m\u001b[0m\n\u001b[0;32m----> 4\u001b[0;31m \u001b[0mprint\u001b[0m\u001b[0;34m(\u001b[0m\u001b[0mmy_set\u001b[0m \u001b[0;34m*\u001b[0m \u001b[0;36m3\u001b[0m\u001b[0;34m)\u001b[0m\u001b[0;34m\u001b[0m\u001b[0;34m\u001b[0m\u001b[0m\n\u001b[0m",
      "\u001b[0;31mTypeError\u001b[0m: unsupported operand type(s) for *: 'set' and 'int'"
     ]
    }
   ],
   "source": [
    "print(my_int * 3)\n",
    "print(my_str * 3)\n",
    "print(my_array * 3)\n",
    "print(my_set * 3)"
   ]
  },
  {
   "cell_type": "code",
   "execution_count": null,
   "metadata": {
    "colab": {
     "base_uri": "https://localhost:8080/",
     "height": 235
    },
    "executionInfo": {
     "elapsed": 638,
     "status": "error",
     "timestamp": 1580293605643,
     "user": {
      "displayName": "Adam Gatt",
      "photoUrl": "",
      "userId": "00057255254496518621"
     },
     "user_tz": -630
    },
    "id": "KKh_mwAH8YjP",
    "outputId": "9f5ffb41-d949-4d3e-ee9c-c52f0dee02b3"
   },
   "outputs": [
    {
     "name": "stdout",
     "output_type": "stream",
     "text": [
      "4\n",
      "3\n"
     ]
    },
    {
     "ename": "TypeError",
     "evalue": "ignored",
     "output_type": "error",
     "traceback": [
      "\u001b[0;31m---------------------------------------------------------------------------\u001b[0m",
      "\u001b[0;31mTypeError\u001b[0m                                 Traceback (most recent call last)",
      "\u001b[0;32m<ipython-input-6-23b669816bcc>\u001b[0m in \u001b[0;36m<module>\u001b[0;34m()\u001b[0m\n\u001b[1;32m      1\u001b[0m \u001b[0mprint\u001b[0m\u001b[0;34m(\u001b[0m\u001b[0mlen\u001b[0m\u001b[0;34m(\u001b[0m\u001b[0mmy_set\u001b[0m\u001b[0;34m)\u001b[0m\u001b[0;34m)\u001b[0m\u001b[0;34m\u001b[0m\u001b[0;34m\u001b[0m\u001b[0m\n\u001b[1;32m      2\u001b[0m \u001b[0mprint\u001b[0m\u001b[0;34m(\u001b[0m\u001b[0mlen\u001b[0m\u001b[0;34m(\u001b[0m\u001b[0mmy_str\u001b[0m\u001b[0;34m)\u001b[0m\u001b[0;34m)\u001b[0m\u001b[0;34m\u001b[0m\u001b[0;34m\u001b[0m\u001b[0m\n\u001b[0;32m----> 3\u001b[0;31m \u001b[0mprint\u001b[0m\u001b[0;34m(\u001b[0m\u001b[0mlen\u001b[0m\u001b[0;34m(\u001b[0m\u001b[0mmy_int\u001b[0m\u001b[0;34m)\u001b[0m\u001b[0;34m)\u001b[0m\u001b[0;34m\u001b[0m\u001b[0;34m\u001b[0m\u001b[0m\n\u001b[0m",
      "\u001b[0;31mTypeError\u001b[0m: object of type 'int' has no len()"
     ]
    }
   ],
   "source": [
    "print(len(my_set))\n",
    "print(len(my_str))\n",
    "print(len(my_int))"
   ]
  },
  {
   "cell_type": "markdown",
   "metadata": {
    "id": "LFZPrzHL8YjR"
   },
   "source": [
    "## Strings\n",
    "* Represent a sequence of characters\n",
    "* Python does not have a base \"character\" type\n",
    "* Strings can be enclosed with either `'` or `\"` characters. Enclose in one style if your string needs to include the other as an actual character.\n",
    "* Can concatenate strings with `+`\n",
    "* Can retrieve a substring by providing indices (Python indices **begin from 0**, like C and unlike MATLAB)\n",
    "* Useful functions: `len()`, `replace()`, `strip()`, `upper()`, `lower()`, `split()`, `join()`, `format()`"
   ]
  },
  {
   "cell_type": "code",
   "execution_count": null,
   "metadata": {
    "colab": {
     "base_uri": "https://localhost:8080/",
     "height": 34
    },
    "executionInfo": {
     "elapsed": 821,
     "status": "ok",
     "timestamp": 1580956062635,
     "user": {
      "displayName": "Adam Gatt",
      "photoUrl": "",
      "userId": "00057255254496518621"
     },
     "user_tz": -630
    },
    "id": "gKSy42yhUvtM",
    "outputId": "c7dd67b4-3d90-487b-be17-de93698cf78b"
   },
   "outputs": [
    {
     "data": {
      "text/plain": [
       "True"
      ]
     },
     "execution_count": 7,
     "metadata": {
      "tags": []
     },
     "output_type": "execute_result"
    }
   ],
   "source": [
    "'hat' == \"hat\""
   ]
  },
  {
   "cell_type": "code",
   "execution_count": null,
   "metadata": {
    "colab": {
     "base_uri": "https://localhost:8080/",
     "height": 51
    },
    "executionInfo": {
     "elapsed": 831,
     "status": "ok",
     "timestamp": 1580956128263,
     "user": {
      "displayName": "Adam Gatt",
      "photoUrl": "",
      "userId": "00057255254496518621"
     },
     "user_tz": -630
    },
    "id": "jpIFbkMs2v1j",
    "outputId": "1289d2c4-56a1-4912-acff-cb3eb6d26c1b"
   },
   "outputs": [
    {
     "name": "stdout",
     "output_type": "stream",
     "text": [
      "This is Adam's hat\n",
      "Meera said \"give me the hat\" \n"
     ]
    }
   ],
   "source": [
    "item = 'hat'\n",
    "\n",
    "print(\"This is Adam's \" + item)\n",
    "\n",
    "print('Meera said \"give me the {}\" '.format(item))"
   ]
  },
  {
   "cell_type": "code",
   "execution_count": null,
   "metadata": {
    "colab": {
     "base_uri": "https://localhost:8080/",
     "height": 69
    },
    "executionInfo": {
     "elapsed": 786,
     "status": "ok",
     "timestamp": 1580956626560,
     "user": {
      "displayName": "Adam Gatt",
      "photoUrl": "",
      "userId": "00057255254496518621"
     },
     "user_tz": -630
    },
    "id": "O-fexxFS8YjR",
    "outputId": "fcdb3be5-08a7-4112-db01-468236505244"
   },
   "outputs": [
    {
     "name": "stdout",
     "output_type": "stream",
     "text": [
      "    Hello to you, John\n",
      "hello to you, john\n",
      "18\n"
     ]
    }
   ],
   "source": [
    "your_name = 'John'\n",
    "full_string = '    Hello to you, ' + your_name\n",
    "cleaned_string = full_string.strip().lower()\n",
    "\n",
    "\n",
    "print(full_string)\n",
    "print(cleaned_string)\n",
    "print(len(cleaned_string))"
   ]
  },
  {
   "cell_type": "code",
   "execution_count": null,
   "metadata": {
    "colab": {
     "base_uri": "https://localhost:8080/",
     "height": 103
    },
    "executionInfo": {
     "elapsed": 817,
     "status": "ok",
     "timestamp": 1580956672723,
     "user": {
      "displayName": "Adam Gatt",
      "photoUrl": "",
      "userId": "00057255254496518621"
     },
     "user_tz": -630
    },
    "id": "Il7dq35F8YjT",
    "outputId": "dcdd66cb-fd6a-4c02-88f9-00228b695956"
   },
   "outputs": [
    {
     "name": "stdout",
     "output_type": "stream",
     "text": [
      "to you\n",
      "hello\n",
      ", john\n",
      ", john\n",
      ", john\n"
     ]
    }
   ],
   "source": [
    "print(cleaned_string[6:12]) # Starts from first index and ends just before second index\n",
    "print(cleaned_string[:5]) # Omit the first index to begin from 0\n",
    "print(cleaned_string[12:]) # Omit the second index to continue to the end\n",
    "print(cleaned_string[-6:]) # Use a negative index to count backwards from the end of the string"
   ]
  },
  {
   "cell_type": "code",
   "execution_count": null,
   "metadata": {
    "colab": {
     "base_uri": "https://localhost:8080/",
     "height": 34
    },
    "executionInfo": {
     "elapsed": 753,
     "status": "ok",
     "timestamp": 1580956829997,
     "user": {
      "displayName": "Adam Gatt",
      "photoUrl": "",
      "userId": "00057255254496518621"
     },
     "user_tz": -630
    },
    "id": "wKcCXMIDXqwm",
    "outputId": "35850089-7ca1-47bc-c240-3997e4b03313"
   },
   "outputs": [
    {
     "data": {
      "text/plain": [
       "['a', 'b', 'c']"
      ]
     },
     "execution_count": 17,
     "metadata": {
      "tags": []
     },
     "output_type": "execute_result"
    }
   ],
   "source": [
    "'a b    c'.split()"
   ]
  },
  {
   "cell_type": "code",
   "execution_count": null,
   "metadata": {
    "colab": {
     "base_uri": "https://localhost:8080/",
     "height": 103
    },
    "executionInfo": {
     "elapsed": 881,
     "status": "ok",
     "timestamp": 1580956965937,
     "user": {
      "displayName": "Adam Gatt",
      "photoUrl": "",
      "userId": "00057255254496518621"
     },
     "user_tz": -630
    },
    "id": "NAOL9GHM8YjV",
    "outputId": "ae43a415-9f3e-47ea-ac01-5ab26c9ede3a"
   },
   "outputs": [
    {
     "name": "stdout",
     "output_type": "stream",
     "text": [
      "hello-to-you,-john\n",
      "Joy-to-the-world\n",
      "['hello', 'to', 'you,', 'john']\n",
      "['hello to you', 'john']\n",
      "I am working on Mon/Tue/Fri\n"
     ]
    }
   ],
   "source": [
    "print(cleaned_string.replace(' ', '-'))\n",
    "print('Joy to the world'.replace(' ', '-')) # Can call functions on string literals\n",
    "print(cleaned_string.split())\n",
    "print(cleaned_string.split(', ')) # Can provide a parameter to split around a custom substring\n",
    "\n",
    "days_to_work = ['Mon', 'Tue', 'Fri']\n",
    "print(f\"I am working on {'/'.join(days_to_work)}\")"
   ]
  },
  {
   "cell_type": "markdown",
   "metadata": {
    "id": "T_MW3p237nL5"
   },
   "source": [
    "### String formatting\n",
    "So far I have been showing the `.format()` function for placing values into strings (\"formatting\" or \"interpolation\"). You use it by including one or more placeholders `{}` and supplying the inserted values in the `format()` function.\n",
    "```\n",
    "name = 'Adam'\n",
    "'There are {} characters in {}'.format(len(name), name)\n",
    "```\n",
    "\n",
    "You can specify which value to insert using positional or keyword indices. Examples below stolen from https://learnxinyminutes.com/docs/python3/.\n",
    "\n",
    "```\n",
    "\"{0} be nimble, {0} be quick, {0} jump over the {1}\".format(\"Jack\", \"candle stick\")\n",
    "```\n",
    "\n",
    "```\n",
    "\"{name} wants to eat {food}\".format(name=\"Bob\", food=\"lasagna\")\n",
    "```\n",
    "\n",
    "You can also format using f-strings or formatted string literals (in Python 3.6+). These can include arbitrary Python expressions in each placeholder.\n",
    "```\n",
    "name = \"Reiko\"\n",
    "f\"{name} is {len(name)} characters long.\" # => \"Reiko is 5 characters long.\"\n",
    "```"
   ]
  },
  {
   "cell_type": "markdown",
   "metadata": {
    "id": "O50bu4mw8YjX"
   },
   "source": [
    "## Lists\n",
    "* A list is a sequence of values.\n",
    "* Lists do not need to have a set size when they are declared or used (unlike arrays/vectors). They can grow and shrink over time if needed.\n",
    "* The values in a list can be of any data type (even other lists), and do not even have to have the same data type.\n",
    "* Lists can be concatenated and indexed in the same way as with strings.\n",
    "* Useful functions: `len()`, `append()`, `extend()`, `insert()`, `copy()`"
   ]
  },
  {
   "cell_type": "code",
   "execution_count": 2,
   "metadata": {
    "colab": {
     "base_uri": "https://localhost:8080/",
     "height": 103
    },
    "executionInfo": {
     "elapsed": 923,
     "status": "ok",
     "timestamp": 1580294274120,
     "user": {
      "displayName": "Adam Gatt",
      "photoUrl": "",
      "userId": "00057255254496518621"
     },
     "user_tz": -630
    },
    "id": "7wy-lXkq8YjX",
    "outputId": "95c4876b-0e70-4e5d-9183-d4b914747dcb"
   },
   "outputs": [
    {
     "name": "stdout",
     "output_type": "stream",
     "text": [
      "['Jan', 'Feb', 'Mar', 'Apr', 'Jun', 'Jul', 'Aug', 'Sep']\n",
      "['Jan', 'Feb', 'Mar', 'Apr', 'May', 'Jun', 'Jul', 'Aug', 'Sep']\n",
      "['Jan', 'Feb', 'Mar', 'Apr', 'May', 'Jun', 'Jul', 'Aug', 'Sep', 'Oct', 'Nov', 'Dec']\n",
      "['Jan', 'Feb', 'Mar', 'Apr', 'May', 'Jun', 'Jul', 'Aug', 'Sep', 'Oct', 'Nov', 'Dec']\n",
      "12\n"
     ]
    }
   ],
   "source": [
    "months = ['Jan', 'Feb', 'Mar', 'Apr', 'Jun', 'Jul', 'Aug', 'Sep']\n",
    "print(months)\n",
    "\n",
    "months.insert(4, 'May') # Whoops! Forgot May (5th month is index 4)\n",
    "print(months)\n",
    "\n",
    "exciting_new_months = ['Oct', 'Nov', 'Dec']\n",
    "print(months + exciting_new_months)\n",
    "\n",
    "months.extend(exciting_new_months) # In-place concatenation of a list of extra values\n",
    "print(months)\n",
    "print(len(months))"
   ]
  },
  {
   "cell_type": "markdown",
   "metadata": {
    "tags": []
   },
   "source": [
    "We can retrieve a particular element from a list by specifying a (zero-based) index within square brackets, the same as shown with strings above:\n",
    "> `my_list[index]`\n",
    "\n",
    "We can also retrieve a range of contiguous elements by specifying the start (inclusive) and end (exclusive) indices, separated with a colon:\n",
    "> `my_list[start_index:end_index]`"
   ]
  },
  {
   "cell_type": "code",
   "execution_count": 3,
   "metadata": {
    "id": "nIaemqx-8YjZ",
    "outputId": "3287c4b7-c9a8-49a9-c09c-5ede59f24293"
   },
   "outputs": [
    {
     "name": "stdout",
     "output_type": "stream",
     "text": [
      "Apr\n",
      "['Apr', 'May', 'Jun', 'Jul']\n",
      "['Sep', 'Oct', 'Nov', 'Dec']\n",
      "['Jan', 'Feb', 'Mar', 'Apr', 'May', 'Jun', 'Jul', 'Aug', 'Sep', 'Oct', 'Nov', 'Dec']\n",
      "['Jan', 'Mar', 'May', 'Jul', 'Sep', 'Nov']\n",
      "['Jan', 'Mar', 'May', 'Jul', 'Sep', 'Nov']\n"
     ]
    }
   ],
   "source": [
    "print(months[3]) # What is the fourth month?\n",
    "print(months[3:7]) # Months from index 3 (fourth month) to before index 7\n",
    "print(months[-4:]) # Retrieve the last four months\n",
    "print(months[0:12]) # Index 0 to len just retrieves the entire list\n",
    "print(months[0:12:2]) # You can include a third value as a step size for your sub-list\n",
    "print(months[::2]) # And in fact we can omit the first two values to use default start and end"
   ]
  },
  {
   "cell_type": "markdown",
   "metadata": {},
   "source": [
    "Lists are held as references, like objects and unlike primitive values. Assigning an existing list variable to another variable will result in two references to the same list. Modifications to either variable will be apparent to both variables.\n",
    "\n",
    "If we want the second variable to have its own independent list then we can use the `copy()` method on the list."
   ]
  },
  {
   "cell_type": "code",
   "execution_count": null,
   "metadata": {
    "colab": {
     "base_uri": "https://localhost:8080/",
     "height": 277
    },
    "executionInfo": {
     "elapsed": 939,
     "status": "ok",
     "timestamp": 1580294722954,
     "user": {
      "displayName": "Adam Gatt",
      "photoUrl": "",
      "userId": "00057255254496518621"
     },
     "user_tz": -630
    },
    "id": "qk9nEr1g8Yjb",
    "outputId": "0c0b3bb4-6ce4-43c1-f063-fb4444ef4e65"
   },
   "outputs": [
    {
     "name": "stdout",
     "output_type": "stream",
     "text": [
      "\n",
      "--- 1 ---\n",
      "['Notebook', 'Pen', 'Dell Laptop']\n",
      "\n",
      "--- 2 ---\n",
      "['Notebook', 'Quill', 'Dell Laptop']\n",
      "['Notebook', 'Quill', 'Dell Laptop']\n",
      "\n",
      "--- 3 ---\n",
      "['Notebook', 'Quill', 'MacBook']\n",
      "['Notebook', 'Quill', 'Dell Laptop']\n",
      "\n",
      "--- 3 ---\n",
      "['Notebook', 'Quill', 'MacBook']\n",
      "['Notebook', 'Quill', 'Dell Laptop']\n"
     ]
    }
   ],
   "source": [
    "adam_items = ['Notebook', 'Pen', 'Dell Laptop']\n",
    "travis_items = adam_items\n",
    "print('\\n--- 1 ---')\n",
    "print(travis_items)\n",
    "\n",
    "travis_items[1] = 'Quill'\n",
    "print('\\n--- 2 ---')\n",
    "print(travis_items)\n",
    "print(adam_items)\n",
    "\n",
    "# Clone the list instead of creating a second reference to the same list \n",
    "seb_items = adam_items.copy()\n",
    "seb_items[2] = 'MacBook'\n",
    "print('\\n--- 3 ---')\n",
    "print(seb_items)\n",
    "print(adam_items)\n",
    "\n",
    "# Take a \"slice\" that covers the entire list as a short-cut to copying it\n",
    "anthony_items = adam_items[:]\n",
    "anthony_items[2] = 'MacBook'\n",
    "print('\\n--- 3 ---')\n",
    "print(anthony_items)\n",
    "print(adam_items)"
   ]
  },
  {
   "cell_type": "code",
   "execution_count": null,
   "metadata": {
    "id": "7YttlpOE8Yjd",
    "outputId": "48d4df13-d4f7-4e40-b3e1-9400e2febb0b"
   },
   "outputs": [
    {
     "name": "stdout",
     "output_type": "stream",
     "text": [
      "[3, 'Hello', <class 'datetime.datetime'>, [1, 2, 3]]\n",
      "4\n"
     ]
    }
   ],
   "source": [
    "# Crazy example with different data types in one list\n",
    "import datetime\n",
    "my_list = [3, 'Hello', datetime.datetime, [1, 2, 3]]\n",
    "\n",
    "print(my_list)\n",
    "print(len(my_list)) # Length is 4 because the last element, although a list itself, is still a single item"
   ]
  },
  {
   "cell_type": "markdown",
   "metadata": {
    "id": "c8Qm-zn28Yjf"
   },
   "source": [
    "## Sets\n",
    "* A set is **unique** collection of values\n",
    "* A set literal looks like: `{value_1, value_2, value_3, ...}`\n",
    "* Useful functions: `union()`, `difference()`"
   ]
  },
  {
   "cell_type": "code",
   "execution_count": null,
   "metadata": {
    "colab": {
     "base_uri": "https://localhost:8080/",
     "height": 51
    },
    "executionInfo": {
     "elapsed": 796,
     "status": "ok",
     "timestamp": 1580958023158,
     "user": {
      "displayName": "Adam Gatt",
      "photoUrl": "",
      "userId": "00057255254496518621"
     },
     "user_tz": -630
    },
    "id": "8S1Xxf2V8Yjf",
    "outputId": "26988f70-7393-41b0-8be0-a688e18eb0d9"
   },
   "outputs": [
    {
     "name": "stdout",
     "output_type": "stream",
     "text": [
      "{'c', 'd', 'b', 'a'}\n",
      "{'c', 'b', 'a'}\n"
     ]
    }
   ],
   "source": [
    "my_set = {'a', 'a', 'b', 'd', 'c', 'd'}\n",
    "print(my_set)\n",
    "\n",
    "to_exclude = {'d', 'e', 'f'}\n",
    "print(my_set.difference(to_exclude))"
   ]
  },
  {
   "cell_type": "code",
   "execution_count": null,
   "metadata": {
    "colab": {
     "base_uri": "https://localhost:8080/",
     "height": 34
    },
    "executionInfo": {
     "elapsed": 751,
     "status": "ok",
     "timestamp": 1580958164778,
     "user": {
      "displayName": "Adam Gatt",
      "photoUrl": "",
      "userId": "00057255254496518621"
     },
     "user_tz": -630
    },
    "id": "7EZ3id1BcO21",
    "outputId": "ff0bd285-1a61-4a48-89e6-5c2b0eddf359"
   },
   "outputs": [
    {
     "name": "stdout",
     "output_type": "stream",
     "text": [
      "None\n"
     ]
    }
   ],
   "source": [
    "sorted_list = sorted(list(my_set))\n",
    "\n",
    "mutated_list = list(my_set)\n",
    "mutated_list.sort()"
   ]
  },
  {
   "cell_type": "code",
   "execution_count": null,
   "metadata": {
    "colab": {
     "base_uri": "https://localhost:8080/",
     "height": 86
    },
    "executionInfo": {
     "elapsed": 1355,
     "status": "ok",
     "timestamp": 1582164580214,
     "user": {
      "displayName": "Adam Gatt",
      "photoUrl": "",
      "userId": "00057255254496518621"
     },
     "user_tz": -630
    },
    "id": "Pf7Z_GvQWd_D",
    "outputId": "73794102-5db5-4bf4-c9a0-6d8adce8b438"
   },
   "outputs": [
    {
     "name": "stdout",
     "output_type": "stream",
     "text": [
      "union = {1, 2, 3, 4, 6, 8}\n",
      "intersection = {2, 4}\n",
      "difference = {1, 3}\n",
      "symmetric difference = {1, 3, 6, 8}\n"
     ]
    }
   ],
   "source": [
    "# Set arithmetic operators\n",
    "set_a = {1, 2, 3, 4}\n",
    "set_b = {2, 4, 6, 8}\n",
    "\n",
    "print(f\"union = {set_a | set_b}\")\n",
    "print(f\"intersection = {set_a & set_b}\")\n",
    "print(f\"difference = {set_a - set_b}\")\n",
    "print(f\"symmetric difference = {set_a ^ set_b}\")"
   ]
  },
  {
   "cell_type": "markdown",
   "metadata": {
    "id": "GTrk2ZiP6OHP"
   },
   "source": [
    "## Dicts (dictionaries)\n",
    "* A dict is a collection of key-value pairs, with each key holding a value\n",
    "* This is similar to a Map or a Javascript object, or a struct without a fixed schema\n",
    "* A dict literal looks like `{key_1: value_1, key_2: value_2, key_3: value_3, ...}`\n",
    "* You can set or retrieve a value in a dict by using its key as the index\n",
    "* Keys in a dict are unique\n",
    "* You can check the presence of a key by using `in`\n",
    "* You can delete an entry from a dict by using the `del` operator\n",
    "* Useful functions: `keys()`, `values()`, `items()`, `update()`, `dict()`"
   ]
  },
  {
   "cell_type": "code",
   "execution_count": null,
   "metadata": {
    "colab": {
     "base_uri": "https://localhost:8080/",
     "height": 69
    },
    "executionInfo": {
     "elapsed": 1045,
     "status": "ok",
     "timestamp": 1580294879209,
     "user": {
      "displayName": "Adam Gatt",
      "photoUrl": "",
      "userId": "00057255254496518621"
     },
     "user_tz": -630
    },
    "id": "JtFjRBXz8Yjh",
    "outputId": "9f943f0e-4062-4a04-fda9-06a21060b5a0"
   },
   "outputs": [
    {
     "name": "stdout",
     "output_type": "stream",
     "text": [
      "Magrok\n",
      "Value of health is 20\n",
      "{'name': 'Magrok', 'class': 'Druid', 'health': 20}\n"
     ]
    }
   ],
   "source": [
    "character_sheet = {\n",
    "    'name': 'Magrok',\n",
    "    'class': 'Barbarian',\n",
    "    'health': 20\n",
    "}\n",
    "\n",
    "# Indexing an item using the string literal 'name' as the key\n",
    "print(character_sheet['name'])\n",
    "\n",
    "# Indexing an item using the value of another variable\n",
    "stat_to_display = 'health'\n",
    "print('Value of {} is {}'.format(stat_to_display, character_sheet[stat_to_display]))\n",
    "\n",
    "# Can change a value by indexing into its key\n",
    "character_sheet['class'] = 'Druid'\n",
    "print(character_sheet)"
   ]
  },
  {
   "cell_type": "code",
   "execution_count": null,
   "metadata": {
    "colab": {
     "base_uri": "https://localhost:8080/",
     "height": 103
    },
    "executionInfo": {
     "elapsed": 1034,
     "status": "ok",
     "timestamp": 1580295090264,
     "user": {
      "displayName": "Adam Gatt",
      "photoUrl": "",
      "userId": "00057255254496518621"
     },
     "user_tz": -630
    },
    "id": "8WcQ5yTZ6ejh",
    "outputId": "8e8782a6-27d6-49cc-899b-e70dc56be627"
   },
   "outputs": [
    {
     "name": "stdout",
     "output_type": "stream",
     "text": [
      "{'name': 'Magrok', 'class': 'Druid', 'health': 20, 'items': ['Sword', 'Cloak', 'Potion'], 'petrified': True}\n",
      "dict_keys(['name', 'class', 'health', 'items', 'petrified'])\n",
      "Is health in my sheet? True\n",
      "Have I forgotten my name? True\n",
      "{}\n"
     ]
    }
   ],
   "source": [
    "# update() adds the contents of one dict into another\n",
    "character_sheet.update({\n",
    "    'petrified': True,\n",
    "    'items': ['Sword', 'Cloak', 'Potion']\n",
    "})\n",
    "\n",
    "print(character_sheet)\n",
    "print(character_sheet.keys())\n",
    "\n",
    "print('Is health in my sheet? {}'.format('health' in character_sheet))\n",
    "\n",
    "del character_sheet['name']\n",
    "print('Have I forgotten my name? {}'.format('name' not in character_sheet))"
   ]
  },
  {
   "cell_type": "code",
   "execution_count": null,
   "metadata": {
    "colab": {
     "base_uri": "https://localhost:8080/",
     "height": 34
    },
    "executionInfo": {
     "elapsed": 1038,
     "status": "ok",
     "timestamp": 1580295270082,
     "user": {
      "displayName": "Adam Gatt",
      "photoUrl": "",
      "userId": "00057255254496518621"
     },
     "user_tz": -630
    },
    "id": "S3lUWt2e8AVe",
    "outputId": "d9638e72-4e97-46e5-8c5d-cf7242ce8268"
   },
   "outputs": [
    {
     "name": "stdout",
     "output_type": "stream",
     "text": [
      "{}\n"
     ]
    }
   ],
   "source": [
    "# You can create an empty dictionary with dict()\n",
    "print(dict())"
   ]
  },
  {
   "cell_type": "markdown",
   "metadata": {
    "id": "jxJUFVNO0Ix9"
   },
   "source": [
    "## Tuples\n",
    "A tuple represents two or more values presented together at the same time. Whereas a list represents a series of items, a tuple is conceptually closer to a single, compound item. Examples might be\n",
    "* A (latitude, longitude) pair\n",
    "* An (x, y, z) position\n",
    "* A (red, green, blue, alpha) colour value\n",
    "\n",
    "Tuples have an assumed ordering to its components. If labels are required to make them understandable then a `dict` is likely a better choice.\n",
    "\n",
    "* Tuples are indexed in the same way as strings and lists\n",
    "* Useful functions: `len()`, `count()`\n",
    "\n",
    "Brackets are tricky because they are also used for sub-expressions in Python, e.g. `x = (1 + 4) * 5`. If you want a tuple with a single component then you must include a trailing comma after it.\n",
    "* `my_name = ('Adam') # Evaluates to 'Adam'`\n",
    "* `my_name_in_a_tuple = ('Adam',) # Evaluates to ('Adam',)`"
   ]
  },
  {
   "cell_type": "code",
   "execution_count": null,
   "metadata": {
    "colab": {
     "base_uri": "https://localhost:8080/",
     "height": 34
    },
    "executionInfo": {
     "elapsed": 628,
     "status": "ok",
     "timestamp": 1582165098466,
     "user": {
      "displayName": "Adam Gatt",
      "photoUrl": "",
      "userId": "00057255254496518621"
     },
     "user_tz": -630
    },
    "id": "dM6Bc9z06rgQ",
    "outputId": "7d339c3b-379e-49e8-b18c-8d4c782164dc"
   },
   "outputs": [
    {
     "name": "stdout",
     "output_type": "stream",
     "text": [
      "Magnitude is 5.0, angle is 36.86989764584402 degrees\n"
     ]
    }
   ],
   "source": [
    "from math import atan2, pi\n",
    "\n",
    "def linear_to_radial(x_y_coordinate):\n",
    "  # Unpack tuple into separate variables. More on this in a later module.\n",
    "  x, y = x_y_coordinate\n",
    "  # ** is Python's \"raise to the power\" operation\n",
    "  magnitude = ((x**2) + (y**2))**0.5\n",
    "  angle = atan2(y, x)\n",
    "  return (magnitude, angle)\n",
    "  # To be more explicit, we could return a dict {'magnitude': magnitude, 'angle': angle}\n",
    "\n",
    "linear_coord = (4, 3)\n",
    "radial_coord = linear_to_radial(linear_coord)\n",
    "print('Magnitude is {}, angle is {} degrees'.format(radial_coord[0], radial_coord[1]*180/pi))"
   ]
  },
  {
   "cell_type": "code",
   "execution_count": null,
   "metadata": {
    "colab": {
     "base_uri": "https://localhost:8080/",
     "height": 34
    },
    "executionInfo": {
     "elapsed": 807,
     "status": "ok",
     "timestamp": 1582165110276,
     "user": {
      "displayName": "Adam Gatt",
      "photoUrl": "",
      "userId": "00057255254496518621"
     },
     "user_tz": -630
    },
    "id": "QnzpLO8v7atc",
    "outputId": "f80fdac5-4c22-4bf1-dc14-d273ab1d7865"
   },
   "outputs": [
    {
     "data": {
      "text/plain": [
       "(12.041594578792296, 0.08314123188844123)"
      ]
     },
     "execution_count": 6,
     "metadata": {
      "tags": []
     },
     "output_type": "execute_result"
    }
   ],
   "source": [
    "# Fails as we want 1 input that is a tuple, not 2 seperate coordinate inputs\n",
    "radial_coord_2 = linear_to_radial((12, 1))\n",
    "radial_coord_2"
   ]
  },
  {
   "cell_type": "markdown",
   "metadata": {
    "id": "nRma2mhh0G0n"
   },
   "source": [
    "Tuples are immutable by nature. They conceptually represent a single value and so you shouldn't be able to mess around with its internal components by changing a value or adding on to it. The alternative is to create another tuple based on the first, but with the required changes.\n",
    "\n",
    "Tuples have no `copy()` but you can slice `[:]` for same effect. But since tuples are immutable there is little value in doing so."
   ]
  },
  {
   "cell_type": "code",
   "execution_count": 1,
   "metadata": {
    "colab": {
     "base_uri": "https://localhost:8080/",
     "height": 198
    },
    "executionInfo": {
     "elapsed": 508,
     "status": "error",
     "timestamp": 1632227563121,
     "user": {
      "displayName": "Adam Gatt",
      "photoUrl": "https://lh3.googleusercontent.com/a/default-user=s64",
      "userId": "17347435371041885846"
     },
     "user_tz": -570
    },
    "id": "D7_meDRb3zH3",
    "outputId": "35912f20-87b0-4960-8ead-937f702577ae"
   },
   "outputs": [
    {
     "ename": "TypeError",
     "evalue": "ignored",
     "output_type": "error",
     "traceback": [
      "\u001b[0;31m---------------------------------------------------------------------------\u001b[0m",
      "\u001b[0;31mTypeError\u001b[0m                                 Traceback (most recent call last)",
      "\u001b[0;32m<ipython-input-1-185d155722e9>\u001b[0m in \u001b[0;36m<module>\u001b[0;34m()\u001b[0m\n\u001b[1;32m      2\u001b[0m \u001b[0;34m\u001b[0m\u001b[0m\n\u001b[1;32m      3\u001b[0m \u001b[0;31m# Whoops, our blue value should be 255. Let's try to fix it.\u001b[0m\u001b[0;34m\u001b[0m\u001b[0;34m\u001b[0m\u001b[0;34m\u001b[0m\u001b[0m\n\u001b[0;32m----> 4\u001b[0;31m \u001b[0mwhite_with_mistake\u001b[0m\u001b[0;34m[\u001b[0m\u001b[0;36m2\u001b[0m\u001b[0;34m]\u001b[0m \u001b[0;34m=\u001b[0m \u001b[0;36m255\u001b[0m\u001b[0;34m\u001b[0m\u001b[0;34m\u001b[0m\u001b[0m\n\u001b[0m",
      "\u001b[0;31mTypeError\u001b[0m: 'tuple' object does not support item assignment"
     ]
    }
   ],
   "source": [
    "white_with_mistake = (255, 255, 128)\n",
    "\n",
    "# Whoops, our blue value should be 255. Let's try to fix it.\n",
    "white_with_mistake[2] = 255"
   ]
  },
  {
   "cell_type": "code",
   "execution_count": 2,
   "metadata": {
    "colab": {
     "base_uri": "https://localhost:8080/"
    },
    "executionInfo": {
     "elapsed": 659,
     "status": "ok",
     "timestamp": 1632227567663,
     "user": {
      "displayName": "Adam Gatt",
      "photoUrl": "https://lh3.googleusercontent.com/a/default-user=s64",
      "userId": "17347435371041885846"
     },
     "user_tz": -570
    },
    "id": "CnYGROP-6kq2",
    "outputId": "77180951-cb51-4e91-eabb-6b7136a150df"
   },
   "outputs": [
    {
     "name": "stdout",
     "output_type": "stream",
     "text": [
      "(255, 255, 255)\n"
     ]
    }
   ],
   "source": [
    "# We fix by making a new tuple with the same values and a correction\n",
    "white = (white_with_mistake[0], white_with_mistake[1], 255)\n",
    "print(white)"
   ]
  },
  {
   "cell_type": "code",
   "execution_count": 3,
   "metadata": {
    "colab": {
     "base_uri": "https://localhost:8080/"
    },
    "executionInfo": {
     "elapsed": 506,
     "status": "ok",
     "timestamp": 1632227570377,
     "user": {
      "displayName": "Adam Gatt",
      "photoUrl": "https://lh3.googleusercontent.com/a/default-user=s64",
      "userId": "17347435371041885846"
     },
     "user_tz": -570
    },
    "id": "KUffLYv76zO4",
    "outputId": "53b0c100-4113-4720-920a-8061136fff9c"
   },
   "outputs": [
    {
     "name": "stdout",
     "output_type": "stream",
     "text": [
      "(255, 255, 255)\n"
     ]
    }
   ],
   "source": [
    "'''\n",
    "We can save space by taking a slice of the first two components and \"unpacking\"\n",
    "it with *. More on unpacking in a later module.\n",
    "'''\n",
    "white = (*white_with_mistake[:2], 255)\n",
    "print(white)"
   ]
  },
  {
   "cell_type": "code",
   "execution_count": 4,
   "metadata": {
    "colab": {
     "base_uri": "https://localhost:8080/",
     "height": 181
    },
    "executionInfo": {
     "elapsed": 14,
     "status": "error",
     "timestamp": 1632227573306,
     "user": {
      "displayName": "Adam Gatt",
      "photoUrl": "https://lh3.googleusercontent.com/a/default-user=s64",
      "userId": "17347435371041885846"
     },
     "user_tz": -570
    },
    "id": "6WNtxrTI6DdC",
    "outputId": "690baf0b-727a-4a94-a8e0-563fc8ec7622"
   },
   "outputs": [
    {
     "ename": "TypeError",
     "evalue": "ignored",
     "output_type": "error",
     "traceback": [
      "\u001b[0;31m---------------------------------------------------------------------------\u001b[0m",
      "\u001b[0;31mTypeError\u001b[0m                                 Traceback (most recent call last)",
      "\u001b[0;32m<ipython-input-4-2651de90ff19>\u001b[0m in \u001b[0;36m<module>\u001b[0;34m()\u001b[0m\n\u001b[1;32m      1\u001b[0m \u001b[0;31m# Let's add an alpha channel\u001b[0m\u001b[0;34m\u001b[0m\u001b[0;34m\u001b[0m\u001b[0;34m\u001b[0m\u001b[0m\n\u001b[0;32m----> 2\u001b[0;31m \u001b[0mwhite\u001b[0m\u001b[0;34m[\u001b[0m\u001b[0;36m3\u001b[0m\u001b[0;34m]\u001b[0m \u001b[0;34m=\u001b[0m \u001b[0;34m(\u001b[0m\u001b[0;36m0.5\u001b[0m\u001b[0;34m,\u001b[0m\u001b[0;34m)\u001b[0m\u001b[0;34m\u001b[0m\u001b[0;34m\u001b[0m\u001b[0m\n\u001b[0m",
      "\u001b[0;31mTypeError\u001b[0m: 'tuple' object does not support item assignment"
     ]
    }
   ],
   "source": [
    "# Let's add an alpha channel\n",
    "white[3] = (0.5,)"
   ]
  },
  {
   "cell_type": "code",
   "execution_count": 5,
   "metadata": {
    "colab": {
     "base_uri": "https://localhost:8080/"
    },
    "executionInfo": {
     "elapsed": 13,
     "status": "ok",
     "timestamp": 1632227577711,
     "user": {
      "displayName": "Adam Gatt",
      "photoUrl": "https://lh3.googleusercontent.com/a/default-user=s64",
      "userId": "17347435371041885846"
     },
     "user_tz": -570
    },
    "id": "PaflX8xS39sR",
    "outputId": "6ce70e93-1d3a-41cc-8914-71a7bf1c304d"
   },
   "outputs": [
    {
     "name": "stdout",
     "output_type": "stream",
     "text": [
      "(255, 255, 255, 0.5)\n"
     ]
    }
   ],
   "source": [
    "# Let's add an alpha channel\n",
    "white += (0.5,)\n",
    "print(white)\n",
    "\n",
    "# Why did this work? We are not changing the original tuple. The result of the\n",
    "# concatenation is a new tuple. We then reassign our variable to the new tuple."
   ]
  },
  {
   "cell_type": "code",
   "execution_count": null,
   "metadata": {
    "colab": {
     "base_uri": "https://localhost:8080/",
     "height": 51
    },
    "executionInfo": {
     "elapsed": 793,
     "status": "ok",
     "timestamp": 1580816046253,
     "user": {
      "displayName": "Adam Gatt",
      "photoUrl": "",
      "userId": "00057255254496518621"
     },
     "user_tz": -630
    },
    "id": "8RZe-Z8L5RFd",
    "outputId": "0f36c5f9-fcd1-480f-9bd6-19930b6df5ac"
   },
   "outputs": [
    {
     "name": "stdout",
     "output_type": "stream",
     "text": [
      "('a', 'b', [1, 2, 3])\n",
      "('a', 'b', [1, 2, 3, 4])\n"
     ]
    }
   ],
   "source": [
    "'''\n",
    "Tuples themselves are immutable but their contents are not guaranteed to be\n",
    "if they are references.\n",
    "'''\n",
    "my_list = [1, 2, 3]\n",
    "tuple_1 = ('a', 'b', my_list)\n",
    "print(tuple_1)\n",
    "my_list.append(4)\n",
    "print(tuple_1)"
   ]
  },
  {
   "cell_type": "code",
   "execution_count": null,
   "metadata": {
    "colab": {
     "base_uri": "https://localhost:8080/",
     "height": 51
    },
    "executionInfo": {
     "elapsed": 657,
     "status": "ok",
     "timestamp": 1580816063357,
     "user": {
      "displayName": "Adam Gatt",
      "photoUrl": "",
      "userId": "00057255254496518621"
     },
     "user_tz": -630
    },
    "id": "w7ZdAO5x-N6F",
    "outputId": "42df9161-603c-4d14-9503-1a24d3937a99"
   },
   "outputs": [
    {
     "name": "stdout",
     "output_type": "stream",
     "text": [
      "('a', 'b', 5)\n",
      "('a', 'b', 5)\n"
     ]
    }
   ],
   "source": [
    "my_value = 5\n",
    "tuple_2 = ('a', 'b', my_value)\n",
    "print(tuple_2)\n",
    "my_value += 2\n",
    "print(tuple_2)"
   ]
  },
  {
   "cell_type": "code",
   "execution_count": null,
   "metadata": {
    "colab": {
     "base_uri": "https://localhost:8080/",
     "height": 86
    },
    "executionInfo": {
     "elapsed": 803,
     "status": "ok",
     "timestamp": 1582165799192,
     "user": {
      "displayName": "Adam Gatt",
      "photoUrl": "",
      "userId": "00057255254496518621"
     },
     "user_tz": -630
    },
    "id": "N2uoASuq-hrR",
    "outputId": "9364da69-9592-4bac-b93d-26b5e492d1c3"
   },
   "outputs": [
    {
     "name": "stdout",
     "output_type": "stream",
     "text": [
      "('a', 'b', [1, 2, 3])\n",
      "('a', 'b', [1, 2, 3, 4])\n",
      "('a', 'b', [1, 2, 3, 4])\n",
      "('a', 'b', [1, 2, 3, 4, 8])\n"
     ]
    }
   ],
   "source": [
    "'''\n",
    "Always best to learn by experimenting. There can be some unexpected behaviour\n",
    "in how Python works behind the scenes.\n",
    "'''\n",
    "my_list = [1, 2, 3]\n",
    "tuple_3 = ('a', 'b', my_list)\n",
    "print(tuple_3)\n",
    "\n",
    "my_list += [4] # my_list is [1, 2, 3, 4]\n",
    "print(tuple_3)\n",
    "\n",
    "my_list = my_list + [5, 6, 7] # my_list is [1, 2, 3, 4, 5, 6, 7]\n",
    "print(tuple_3)\n",
    "\n",
    "my_new_list = tuple_3[2]\n",
    "my_new_list += [8]\n",
    "print(tuple_3)"
   ]
  },
  {
   "cell_type": "code",
   "execution_count": null,
   "metadata": {
    "id": "Aq8rSUz_-9C7"
   },
   "outputs": [],
   "source": []
  }
 ],
 "metadata": {
  "colab": {
   "collapsed_sections": [
    "T_MW3p237nL5"
   ],
   "name": "2 Variables and Data Types.ipynb",
   "provenance": [
    {
     "file_id": "1Bi1O2-f8k6KFyNdROoIr-aXNxBn8C46S",
     "timestamp": 1583895420831
    }
   ]
  },
  "kernelspec": {
   "display_name": "Python 3",
   "language": "python",
   "name": "python3"
  },
  "language_info": {
   "codemirror_mode": {
    "name": "ipython",
    "version": 3
   },
   "file_extension": ".py",
   "mimetype": "text/x-python",
   "name": "python",
   "nbconvert_exporter": "python",
   "pygments_lexer": "ipython3",
   "version": "3.8.5"
  }
 },
 "nbformat": 4,
 "nbformat_minor": 4
}
