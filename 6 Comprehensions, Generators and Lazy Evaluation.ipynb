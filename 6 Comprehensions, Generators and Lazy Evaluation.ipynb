{
 "cells": [
  {
   "cell_type": "markdown",
   "metadata": {
    "id": "xH4ei0wj4rSF"
   },
   "source": [
    "# 6 Comprehensions, Generators and Lazy Evaluation\n",
    "##### **Author: Adam Gatt**"
   ]
  },
  {
   "cell_type": "markdown",
   "metadata": {
    "id": "eyd050mwaphu"
   },
   "source": [
    "## Comprehensions\n",
    "\n",
    "Python allows for the explicit definition of lists, sets and dicts using \"comprehensions\". Rather than an explicit listing of the items in the collection, it is instead a formula of how to construct the collection."
   ]
  },
  {
   "cell_type": "markdown",
   "metadata": {
    "id": "Zliag5DcUcpv"
   },
   "source": [
    "### List Comprehensions\n",
    "These take the form of:\n",
    "```\n",
    "[<expression> for <item> in <iterable>]\n",
    "```\n",
    "You can filter whether items should be processed with:\n",
    "```\n",
    "[<expression> for <item> in <iterable> if <condition>]\n",
    "```\n",
    "You can break the elements into individual lines for readability, e.g.\n",
    "\n"
   ]
  },
  {
   "cell_type": "code",
   "execution_count": null,
   "metadata": {
    "colab": {
     "base_uri": "https://localhost:8080/",
     "height": 34
    },
    "executionInfo": {
     "elapsed": 1542,
     "status": "ok",
     "timestamp": 1590635614994,
     "user": {
      "displayName": "Adam Gatt",
      "photoUrl": "",
      "userId": "00057255254496518621"
     },
     "user_tz": -570
    },
    "id": "0tuyV4fOWPRN",
    "outputId": "4dbaeef5-3ad8-43e8-fdfa-167c20b80127"
   },
   "outputs": [
    {
     "name": "stdout",
     "output_type": "stream",
     "text": [
      "[1, 9, 25, 49, 81]\n"
     ]
    }
   ],
   "source": [
    "odd_squares = [\n",
    "  x**2\n",
    "  for x in range(10)\n",
    "  if x%2 == 1\n",
    "]\n",
    "\n",
    "print(odd_squares)"
   ]
  },
  {
   "cell_type": "markdown",
   "metadata": {
    "id": "RsAFmoRSWUvW"
   },
   "source": [
    "What if you don't want your condition to filter out items, but instead just treat them differently? Then you can work the condition into the expression computation, e.g.:\n",
    "```\n",
    "[<expression_1> if <condition> else <expression_2> for <item> in <iterable>]\n",
    "```"
   ]
  },
  {
   "cell_type": "code",
   "execution_count": null,
   "metadata": {
    "colab": {
     "base_uri": "https://localhost:8080/",
     "height": 34
    },
    "executionInfo": {
     "elapsed": 1856,
     "status": "ok",
     "timestamp": 1582886029041,
     "user": {
      "displayName": "Adam Gatt",
      "photoUrl": "",
      "userId": "00057255254496518621"
     },
     "user_tz": -630
    },
    "id": "3XJ5nCzTW1lt",
    "outputId": "0f4a10fd-0a34-44cb-ef35-c61cbd6ccdd8"
   },
   "outputs": [
    {
     "name": "stdout",
     "output_type": "stream",
     "text": [
      "[0, -1, 2, -3, 4, -5, 6, -7, 8, -9]\n"
     ]
    }
   ],
   "source": [
    "odds_should_be_negative = [\n",
    "  (x if x%2==0 else -x)\n",
    "  for x in range(10)\n",
    "]\n",
    "\n",
    "print(odds_should_be_negative)"
   ]
  },
  {
   "cell_type": "markdown",
   "metadata": {
    "id": "uUk3AaDVSgr0"
   },
   "source": [
    "This works because you can use any expression in the comprehension. If you have some complex handling to perform then it's probably better to offload the computation to a separate function than to have a big ternary operator chain ruining the readability of your comprehension."
   ]
  },
  {
   "cell_type": "code",
   "execution_count": null,
   "metadata": {
    "colab": {
     "base_uri": "https://localhost:8080/",
     "height": 34
    },
    "executionInfo": {
     "elapsed": 1383,
     "status": "ok",
     "timestamp": 1583036078238,
     "user": {
      "displayName": "Adam Gatt",
      "photoUrl": "",
      "userId": "00057255254496518621"
     },
     "user_tz": -630
    },
    "id": "nSCtxnT6V39t",
    "outputId": "1ea6b81a-a63a-43c3-ee38-74db23598248"
   },
   "outputs": [
    {
     "name": "stdout",
     "output_type": "stream",
     "text": [
      "1, 2, fizz, 4, buzz, fizz, 7, 8, fizz, buzz, 11, fizz, 13, 14, fizzbuzz, 16, 17, fizz, 19\n"
     ]
    }
   ],
   "source": [
    "def fizzbuzz(x):\n",
    "  return ('fizzbuzz' if x%3==0 and x%5==0\n",
    "  else 'fizz' if x%3==0\n",
    "  else 'buzz' if x%5==0\n",
    "  else str(x))\n",
    "\n",
    "print(', '.join([fizzbuzz(x) for x in range(1, 20)]))"
   ]
  },
  {
   "cell_type": "markdown",
   "metadata": {
    "id": "FVG5Y7oDXIcY"
   },
   "source": [
    "### Set Comprehensions\n",
    "These work the same as list comprehensions but the results will be cast as a set. The most important property of this is that the result will not contain duplicates."
   ]
  },
  {
   "cell_type": "code",
   "execution_count": null,
   "metadata": {
    "colab": {
     "base_uri": "https://localhost:8080/",
     "height": 102
    },
    "executionInfo": {
     "elapsed": 853,
     "status": "ok",
     "timestamp": 1590636025463,
     "user": {
      "displayName": "Adam Gatt",
      "photoUrl": "",
      "userId": "00057255254496518621"
     },
     "user_tz": -570
    },
    "id": "UpfjC-9mXdOB",
    "outputId": "62870b34-4f6a-4804-cf52-cc86189ceaec"
   },
   "outputs": [
    {
     "name": "stdout",
     "output_type": "stream",
     "text": [
      "dict_values(['Republic', 'Republic', 'Constitutional Monarchy', 'Absolute Monarchy', 'Constitutional Monarchy', 'Absolute Monarchy'])\n",
      "\n",
      "{'Republic', 'Absolute Monarchy', 'Constitutional Monarchy'}\n",
      "\n",
      "{'Absolute Monarchy', 'Constitutional Monarchy'}\n"
     ]
    }
   ],
   "source": [
    "governments_by_country = {\n",
    "    'France': 'Republic',\n",
    "    'Mexico': 'Republic',\n",
    "    'Australia': 'Constitutional Monarchy',\n",
    "    'Brunei': 'Absolute Monarchy',\n",
    "    'Norway': 'Constitutional Monarchy',\n",
    "    'Saudi Arabia': 'Absolute Monarchy'\n",
    "}\n",
    "\n",
    "# What sorts of governments do we know about? Calling values() will have duplicates\n",
    "print(governments_by_country.values())\n",
    "\n",
    "# A set comprehension will not include duplicates in its response\n",
    "print()\n",
    "print({government for government in governments_by_country.values()})\n",
    "\n",
    "# With no special processing or filtering, the above is equivalent to\n",
    "# \"set(government_by_country.values())\"\n",
    "\n",
    "# I only want to know about types of monarchies\n",
    "print()\n",
    "print({\n",
    "    government\n",
    "    for government in governments_by_country.values()\n",
    "    if 'Monarchy' in government\n",
    "})"
   ]
  },
  {
   "cell_type": "markdown",
   "metadata": {
    "id": "Kuw_EhaobmK6"
   },
   "source": [
    "### Dict Comprehensions\n",
    "You can even build a dict with a comprehension. Just like how dicts and sets both use curly braces, dict and set comprehensions both use curly braces as well. A dict comprehension is indicated by the `key: value` format of its expression."
   ]
  },
  {
   "cell_type": "code",
   "execution_count": null,
   "metadata": {
    "colab": {
     "base_uri": "https://localhost:8080/",
     "height": 34
    },
    "executionInfo": {
     "elapsed": 709,
     "status": "ok",
     "timestamp": 1590636377492,
     "user": {
      "displayName": "Adam Gatt",
      "photoUrl": "",
      "userId": "00057255254496518621"
     },
     "user_tz": -570
    },
    "id": "ULkB2HKfitLJ",
    "outputId": "d2dbddbc-4ae2-4e80-df11-a0b69d51edf2"
   },
   "outputs": [
    {
     "name": "stdout",
     "output_type": "stream",
     "text": [
      "{'CHEMISTRY': ['Oxidisation', 'Catalysts'], 'PHYSICS': ['Magnetism', 'Motion', 'Gravity'], 'BIOLOGY': ['Osmosis']}\n"
     ]
    }
   ],
   "source": [
    "# Example: Inverting a dictionary to swap keys and values\n",
    "class_by_lesson = {\n",
    "    'Magnetism': 'Physics',\n",
    "    'Osmosis': 'Biology',\n",
    "    'Motion': 'Physics',\n",
    "    'Gravity': 'Physics',\n",
    "    'Oxidisation': 'Chemistry',\n",
    "    'Catalysts': 'Chemistry'\n",
    "}\n",
    "\n",
    "# Unique values will be the keys of our inverted dictionary\n",
    "unique_classes = set(class_by_lesson.values())\n",
    "\n",
    "# Dict comprehension has an expression format of <key>: <value>\n",
    "# Both the key and the value can be expressions that evaluate to something\n",
    "# Here the key is forced to upper case, and the value is itself a comprehension (list)\n",
    "lessons_by_class = {\n",
    "    class_name.upper(): [\n",
    "      lesson\n",
    "      for lesson in class_by_lesson.keys()\n",
    "      if class_by_lesson[lesson]==class_name\n",
    "    ]\n",
    "    for class_name in unique_classes\n",
    "}\n",
    "\n",
    "print(lessons_by_class)"
   ]
  },
  {
   "cell_type": "markdown",
   "metadata": {
    "id": "9uaOsDJCkgtQ"
   },
   "source": [
    "### Tuple Comprehensions\n",
    "Tuples are iterables and have their own brackets `()`, so can we make a tuple comprehension? Yes, but unfortunately not in the way we would expect. We might expect the same format as a list comprehension but with parenthesis `()` instead of square brackets, but actually, this phrasing is already in use for the creation of \"generators\" (see later in this notebook).\n",
    "\n",
    "Instead, we have to create a list comprehension and then call the `tuple()` function to convert it."
   ]
  },
  {
   "cell_type": "code",
   "execution_count": null,
   "metadata": {
    "colab": {
     "base_uri": "https://localhost:8080/",
     "height": 102
    },
    "executionInfo": {
     "elapsed": 782,
     "status": "ok",
     "timestamp": 1590636658128,
     "user": {
      "displayName": "Adam Gatt",
      "photoUrl": "",
      "userId": "00057255254496518621"
     },
     "user_tz": -570
    },
    "id": "zIAvVj5QlENo",
    "outputId": "8ca9fe52-74a0-472c-a3a0-bef6d241b30e"
   },
   "outputs": [
    {
     "name": "stdout",
     "output_type": "stream",
     "text": [
      "<generator object <genexpr> at 0x7faf4d2a42b0>\n",
      "\n",
      "(87, 89, 66)\n",
      "\n",
      "(87, 89, 66)\n"
     ]
    }
   ],
   "source": [
    "# Can we use the expected syntax to make a tuple comprehension?\n",
    "student_scores = (60, 25, 87, 89, 54, 66)\n",
    "passing_scores = (score for score in student_scores if score > 65)\n",
    "\n",
    "# No! We've created a generator, whatever that is.\n",
    "print(passing_scores)\n",
    "\n",
    "# We need to use a list comprehension and convert to a tuple\n",
    "passing_scores = tuple([score for score in student_scores if score > 65])\n",
    "print()\n",
    "print(passing_scores)\n",
    "\n",
    "# Actually, we can leave out the square brackets entirely too. How is this\n",
    "# allowed? Well, we are creating what's called a \"generator expression\" and\n",
    "# using it as the argument to the tuple() function. Generators will be\n",
    "# covered later in this notebook.\n",
    "passing_scores = tuple(score for score in student_scores if score > 65)\n",
    "print()\n",
    "print(passing_scores)"
   ]
  },
  {
   "cell_type": "markdown",
   "metadata": {
    "id": "WwYNumg3dBcP"
   },
   "source": [
    "## Higher-level comprehensions"
   ]
  },
  {
   "cell_type": "markdown",
   "metadata": {
    "id": "ELKqxr9qfSBq"
   },
   "source": [
    "Comprehensions can often be used to replace a simple for-loop, with some filtering and mapping of results thrown in if needed. Can we also use a comprehension to simulate a nested for-loop (i.e. a for-loop within another for-loop)? \n",
    "\n",
    "Yes! We can do this with a second-level comprehension. This takes the format of:\n",
    "```\n",
    "[<expression> for <inner iterable> in <outer iterable> for <item> in <inner iterable>]\n",
    "```\n",
    "Or, perhaps more readably:\n",
    "```\n",
    "[\n",
    "  <expression>\n",
    "  for <inner iterable> in <outer iterable>\n",
    "  for <item> in <inner iterable>\n",
    "]\n",
    "```\n",
    "This will have the effect of \"flattening\" out the nested structure of our outer iterable."
   ]
  },
  {
   "cell_type": "code",
   "execution_count": null,
   "metadata": {
    "colab": {
     "base_uri": "https://localhost:8080/",
     "height": 54
    },
    "executionInfo": {
     "elapsed": 833,
     "status": "ok",
     "timestamp": 1582888783905,
     "user": {
      "displayName": "Adam Gatt",
      "photoUrl": "",
      "userId": "00057255254496518621"
     },
     "user_tz": -630
    },
    "id": "G4zb3miEg3jl",
    "outputId": "c656bcc7-a4df-4dda-ae95-9f6bae3db698"
   },
   "outputs": [
    {
     "name": "stdout",
     "output_type": "stream",
     "text": [
      "['Treat for Rex', 'Treat for Mittens', 'Treat for Fido', 'Treat for Felix', 'Treat for Garfield', 'Treat for Sylvester']\n"
     ]
    }
   ],
   "source": [
    "pet_names = [['Rex', 'Mittens'], ['Fido'], ['Felix', 'Garfield', 'Sylvester']]\n",
    "\n",
    "print([\n",
    "  f\"Treat for {name}\"\n",
    "  for inner_list in pet_names\n",
    "  for name in inner_list\n",
    "])"
   ]
  },
  {
   "cell_type": "markdown",
   "metadata": {
    "id": "7RCuVPdRhk7b"
   },
   "source": [
    "This phrasing is a little unintuitive. No doubt the readability would be improved if the \"for\" clauses were in the opposite order. You need to just know the understanding that you begin with the outer-most iteration and then proceed inwards. With this approach, you can have a third- or even higher-level comprehension as high as you want.\n",
    "```\n",
    "[\n",
    "  <expression>\n",
    "  for <iterable n-1> in <iterable n>\n",
    "  for <iterable n-2> in <iterable n-1>\n",
    "  ...\n",
    "  for <iterable 1> in <iterable 2>\n",
    "  for <item> in <iterable 1>\n",
    "]\n",
    "```"
   ]
  },
  {
   "cell_type": "code",
   "execution_count": null,
   "metadata": {
    "colab": {
     "base_uri": "https://localhost:8080/",
     "height": 51
    },
    "executionInfo": {
     "elapsed": 750,
     "status": "ok",
     "timestamp": 1590637177919,
     "user": {
      "displayName": "Adam Gatt",
      "photoUrl": "",
      "userId": "00057255254496518621"
     },
     "user_tz": -570
    },
    "id": "4jvk7FYqcDun",
    "outputId": "7d8b3608-b445-4da7-bc88-0eba79e167cc"
   },
   "outputs": [
    {
     "name": "stdout",
     "output_type": "stream",
     "text": [
      "\n",
      "{'Blue', 'Red', 'White', 'Green'}\n"
     ]
    }
   ],
   "source": [
    "# An example with dicts and sets\n",
    "\n",
    "flag_colours_by_country = {\n",
    "    'Australia': {'Red', 'Blue', 'White'},\n",
    "    'France': {'Blue', 'Red', 'White'},\n",
    "    'Norway': {'White', 'Red', 'Blue'},\n",
    "    'Saudi Arabia': {'Green', 'White'}\n",
    "}\n",
    "\n",
    "# What are all the colours present in these flags?\n",
    "known_colours = {\n",
    "  colour # Expression\n",
    "  for flag_colours in flag_colours_by_country.values() # Outer loop\n",
    "  for colour in flag_colours # Inner loop\n",
    "}\n",
    "\n",
    "print()\n",
    "print(known_colours)\n"
   ]
  },
  {
   "cell_type": "markdown",
   "metadata": {
    "id": "2YysCYEidc6A"
   },
   "source": [
    "Can't we achieve this by iterating through each set of colours and unpacking them all into the same comprehension? Unfortunately Python doesn't allow unpacking into a comprehension, and PEPs have been considered on this issue but have been considered as unacceptably ambiguous to parse."
   ]
  },
  {
   "cell_type": "code",
   "execution_count": null,
   "metadata": {
    "colab": {
     "base_uri": "https://localhost:8080/",
     "height": 131
    },
    "executionInfo": {
     "elapsed": 1045,
     "status": "error",
     "timestamp": 1582888174787,
     "user": {
      "displayName": "Adam Gatt",
      "photoUrl": "",
      "userId": "00057255254496518621"
     },
     "user_tz": -630
    },
    "id": "jeXjhwt5dH_s",
    "outputId": "25b5f654-ad93-424c-fcde-dbca73b14165"
   },
   "outputs": [
    {
     "ename": "SyntaxError",
     "evalue": "ignored",
     "output_type": "error",
     "traceback": [
      "\u001b[0;36m  File \u001b[0;32m\"<ipython-input-14-abe624d72015>\"\u001b[0;36m, line \u001b[0;32m1\u001b[0m\n\u001b[0;31m    print({*colours for colours in flag_colours_by_country.values()})\u001b[0m\n\u001b[0m          ^\u001b[0m\n\u001b[0;31mSyntaxError\u001b[0m\u001b[0;31m:\u001b[0m iterable unpacking cannot be used in comprehension\n"
     ]
    }
   ],
   "source": [
    "print({*colours for colours in flag_colours_by_country.values()})"
   ]
  },
  {
   "cell_type": "markdown",
   "metadata": {
    "id": "Zj2SQIGrd8ba"
   },
   "source": [
    "Yet we can achieve this if we unpack them into the definition of a regular \"set literal\""
   ]
  },
  {
   "cell_type": "code",
   "execution_count": null,
   "metadata": {
    "colab": {
     "base_uri": "https://localhost:8080/",
     "height": 34
    },
    "executionInfo": {
     "elapsed": 1128,
     "status": "ok",
     "timestamp": 1582887966618,
     "user": {
      "displayName": "Adam Gatt",
      "photoUrl": "",
      "userId": "00057255254496518621"
     },
     "user_tz": -630
    },
    "id": "oB-A-rSXdhuA",
    "outputId": "de288be0-8693-4098-b000-4c5f21e08fb4"
   },
   "outputs": [
    {
     "name": "stdout",
     "output_type": "stream",
     "text": [
      "{'Blue', 'White', 'Red', 'Green'}\n"
     ]
    }
   ],
   "source": [
    "known_colours = {\n",
    "  *flag_colours_by_country['Australia'],\n",
    "  *flag_colours_by_country['France'],\n",
    "  *flag_colours_by_country['Norway'],\n",
    "  *flag_colours_by_country['Saudi Arabia']\n",
    "}\n",
    "\n",
    "print(known_colours)"
   ]
  },
  {
   "cell_type": "markdown",
   "metadata": {
    "id": "7AiU1OxTnp1X"
   },
   "source": [
    "## Generators\n",
    "\n",
    "A generator is a way to compute items in a sequence, similar to list comprehensions. But generators are different in that they only compute each value at the moment when it is called upon.\n",
    "\n",
    "Whereas a list comprehension will compute the entire sequence upon creation, a generator is created without computing anything. Instead, when the next value is requested from the generator, that value is computed right at that moment and provided. This is known as **Lazy Evaluation**.\n",
    "\n",
    "Because of this behaviour:\n",
    "\n",
    "* Generators never waste time computing elements that are not used\n",
    "* Generators can provide each element as soon as they are available, instead of waiting for the entire sequence to be computed before any elements are provided\n",
    "* A generator may provide items indefinitely, effectively representing an infinite sequence.\n",
    "* Generators are not required to have a known or fixed length before processing has begun.\n",
    "* Generators are only required to proceed through their sequence of items once. If a generator runs out of items and then is iterated through again, it is __exhausted__ and will provide no new items."
   ]
  },
  {
   "cell_type": "markdown",
   "metadata": {
    "id": "oeKVb6pMG8qY"
   },
   "source": [
    "### Generator Expressions\n",
    "One way to create a generator is through a \"generator expression\". These look the same as a list comprehension but with round brackets `()`.\n",
    "\n",
    "*Note: Looking like comprehensions you may be tempted to call them \"Generator Comprehensions\", but know that their proper name is \"Generator Expressions\".*"
   ]
  },
  {
   "cell_type": "code",
   "execution_count": null,
   "metadata": {
    "id": "62ruM-x3oHWq"
   },
   "outputs": [],
   "source": [
    "from time import sleep\n",
    "\n",
    "def slow_square(x):\n",
    "  sleep(2)\n",
    "  return x**2"
   ]
  },
  {
   "cell_type": "code",
   "execution_count": null,
   "metadata": {
    "colab": {
     "base_uri": "https://localhost:8080/",
     "height": 34
    },
    "executionInfo": {
     "elapsed": 11479,
     "status": "ok",
     "timestamp": 1591845164624,
     "user": {
      "displayName": "Adam Gatt",
      "photoUrl": "",
      "userId": "00057255254496518621"
     },
     "user_tz": -570
    },
    "id": "yAilTVWCE3Xw",
    "outputId": "f5680204-d990-4a1b-bd61-708725530b0b"
   },
   "outputs": [
    {
     "name": "stdout",
     "output_type": "stream",
     "text": [
      "[0, 1, 4, 9, 16]\n"
     ]
    }
   ],
   "source": [
    "# List comprehension is evaluated once its defined\n",
    "as_list = [slow_square(x) for x in range(5)]\n",
    "print(as_list)"
   ]
  },
  {
   "cell_type": "code",
   "execution_count": null,
   "metadata": {
    "colab": {
     "base_uri": "https://localhost:8080/",
     "height": 101
    },
    "executionInfo": {
     "elapsed": 1241,
     "status": "ok",
     "timestamp": 1591845171144,
     "user": {
      "displayName": "Adam Gatt",
      "photoUrl": "",
      "userId": "00057255254496518621"
     },
     "user_tz": -570
    },
    "id": "7y7MtxzEE8Z2",
    "outputId": "c2c34da0-4893-42a7-ea57-2be35721f58b"
   },
   "outputs": [
    {
     "name": "stdout",
     "output_type": "stream",
     "text": [
      "0\n",
      "1\n",
      "4\n",
      "9\n",
      "16\n"
     ]
    }
   ],
   "source": [
    "# Once the list is created we can iterate quickly\n",
    "for square in as_list:\n",
    "  print(square)"
   ]
  },
  {
   "cell_type": "code",
   "execution_count": null,
   "metadata": {
    "colab": {
     "base_uri": "https://localhost:8080/",
     "height": 34
    },
    "executionInfo": {
     "elapsed": 1284,
     "status": "ok",
     "timestamp": 1591845182441,
     "user": {
      "displayName": "Adam Gatt",
      "photoUrl": "",
      "userId": "00057255254496518621"
     },
     "user_tz": -570
    },
    "id": "6lQp9nWSE4Yj",
    "outputId": "31e4b073-3803-498a-b1dd-2b9a34c5054c"
   },
   "outputs": [
    {
     "name": "stdout",
     "output_type": "stream",
     "text": [
      "<generator object <genexpr> at 0x7f624e7b2d58>\n"
     ]
    }
   ],
   "source": [
    "# The generator expression doesn't evaluate any values upon definition, creation is very quick\n",
    "as_generator = (slow_square(x) for x in range(5))\n",
    "print(as_generator)"
   ]
  },
  {
   "cell_type": "code",
   "execution_count": null,
   "metadata": {
    "colab": {
     "base_uri": "https://localhost:8080/",
     "height": 101
    },
    "executionInfo": {
     "elapsed": 10692,
     "status": "ok",
     "timestamp": 1591845218407,
     "user": {
      "displayName": "Adam Gatt",
      "photoUrl": "",
      "userId": "00057255254496518621"
     },
     "user_tz": -570
    },
    "id": "0_MQ-0k2E_AI",
    "outputId": "32eaf45d-72d9-4adf-f2fe-2602cf418df7"
   },
   "outputs": [
    {
     "name": "stdout",
     "output_type": "stream",
     "text": [
      "0\n",
      "1\n",
      "4\n",
      "9\n",
      "16\n"
     ]
    }
   ],
   "source": [
    "# But the values are evaluated when fetched from the generator\n",
    "for square in as_generator:\n",
    "  print(square)"
   ]
  },
  {
   "cell_type": "markdown",
   "metadata": {
    "id": "DhMF6rGAJBfn"
   },
   "source": [
    "#### As arguments to function calls\n",
    "Generator expressions are identified by the brackets `()` surrounding them. Function calls also require the use of these round brackets. You might think that supplying a generator expression to a function would result in these brackets appearing doubled up:\n",
    "\n",
    "`my_function((<generator expression>))`\n",
    "\n",
    "But Python provides a little shortcut allowing you to use only a single set of brackets, which has a slightly neater appearance in my opinion."
   ]
  },
  {
   "cell_type": "code",
   "execution_count": null,
   "metadata": {
    "colab": {
     "base_uri": "https://localhost:8080/",
     "height": 68
    },
    "executionInfo": {
     "elapsed": 653,
     "status": "ok",
     "timestamp": 1590638157665,
     "user": {
      "displayName": "Adam Gatt",
      "photoUrl": "",
      "userId": "00057255254496518621"
     },
     "user_tz": -570
    },
    "id": "xJoEP_KiKPtD",
    "outputId": "5bfb15ac-ae60-4a40-8e77-4751bac09ad1"
   },
   "outputs": [
    {
     "name": "stdout",
     "output_type": "stream",
     "text": [
      "44\n",
      "\n",
      "44\n"
     ]
    }
   ],
   "source": [
    "fibonacci = [1, 1, 2, 3, 5, 8, 13, 21, 34]\n",
    "\n",
    "# Generator expression inside of a function call results in doubled brackets\n",
    "sum_of_odd_fibonacci = sum((x for x in fibonacci if x%2==1))\n",
    "print(sum_of_odd_fibonacci)\n",
    "\n",
    "# Python allows us to use a single set as a shortcut\n",
    "sum_of_odd_fibonacci = sum(x for x in fibonacci if x%2==1)\n",
    "print()\n",
    "print(sum_of_odd_fibonacci)"
   ]
  },
  {
   "cell_type": "code",
   "execution_count": null,
   "metadata": {
    "colab": {
     "base_uri": "https://localhost:8080/",
     "height": 34
    },
    "executionInfo": {
     "elapsed": 888,
     "status": "ok",
     "timestamp": 1590583757698,
     "user": {
      "displayName": "Adam Gatt",
      "photoUrl": "",
      "userId": "00057255254496518621"
     },
     "user_tz": -570
    },
    "id": "_OjEvxl1Kuh5",
    "outputId": "661ce30d-e296-494c-a6a6-e44e9d860649"
   },
   "outputs": [
    {
     "data": {
      "text/plain": [
       "'France * Mexico * Brunei * Norway'"
      ]
     },
     "execution_count": 7,
     "metadata": {
      "tags": []
     },
     "output_type": "execute_result"
    }
   ],
   "source": [
    "' * '.join(name for name in governments_by_country.keys() if len(name) <=6)"
   ]
  },
  {
   "cell_type": "markdown",
   "metadata": {
    "id": "B2rGpo9SHCfF"
   },
   "source": [
    "### Generator Function\n",
    "The second way to define a generator is with a \"generator function\". These are essentially created like regular functions but instead of using `return` for the intended output, you use the `yield` keyword instead. The output from calling the function is a generator object.\n",
    "\n",
    "In these functions, `yield` isn't the last line, like \"return\" often is. When the created generator is iterated over, execution will pause at the `yield` statement to provide a value and then will pick up from that same place when execution resumes.\n",
    "\n",
    "Generator functions have an advantage over generator expressions in that we can preserve some state between iterations. There will be an example of this later."
   ]
  },
  {
   "cell_type": "code",
   "execution_count": null,
   "metadata": {
    "colab": {
     "base_uri": "https://localhost:8080/",
     "height": 50
    },
    "executionInfo": {
     "elapsed": 700,
     "status": "ok",
     "timestamp": 1591845491330,
     "user": {
      "displayName": "Adam Gatt",
      "photoUrl": "",
      "userId": "00057255254496518621"
     },
     "user_tz": -570
    },
    "id": "1rdhE3ZGGvaM",
    "outputId": "4d83f36f-6e13-4ae8-e7bf-2a99dee83b72"
   },
   "outputs": [
    {
     "name": "stdout",
     "output_type": "stream",
     "text": [
      "<function squares_less_than at 0x7f624e7bc6a8>\n",
      "<generator object squares_less_than at 0x7f624e7b2bf8>\n"
     ]
    }
   ],
   "source": [
    "# \"yield\" instead of \"return\" = generator function\n",
    "def squares_less_than(upper_bound):\n",
    "  x = 0\n",
    "  while x**2 < upper_bound:\n",
    "    yield x**2\n",
    "    x += 1\n",
    "\n",
    "# \"squares_less_than\" is a function, like all functions\n",
    "print(squares_less_than)\n",
    "\n",
    "# When we call it, there is no evaluated result. Instead it\n",
    "# returns a generator that we can then ask for values by\n",
    "# iterating over it\n",
    "my_output = squares_less_than(30)\n",
    "print(my_output)"
   ]
  },
  {
   "cell_type": "code",
   "execution_count": null,
   "metadata": {
    "colab": {
     "base_uri": "https://localhost:8080/",
     "height": 51
    },
    "executionInfo": {
     "elapsed": 651,
     "status": "ok",
     "timestamp": 1584443321017,
     "user": {
      "displayName": "Adam Gatt",
      "photoUrl": "",
      "userId": "04763248023094175140"
     },
     "user_tz": -630
    },
    "id": "tbibmmBrLmJy",
    "outputId": "0c757c66-17e5-4fb4-d443-8d8f5ab3e80b"
   },
   "outputs": [
    {
     "name": "stdout",
     "output_type": "stream",
     "text": [
      "[0, 1, 4, 9, 16, 25]\n",
      "55\n"
     ]
    }
   ],
   "source": [
    "# How do I get the generator to provide its computed values? We\n",
    "# can use it with anything that accepts an iterable. One example\n",
    "# is list(), which creates a list out of the submitted iterable.\n",
    "print(list(my_output))\n",
    "\n",
    "# sum() also operates on iterables and so will cause evaluation\n",
    "print(sum(squares_less_than(30)))"
   ]
  },
  {
   "cell_type": "code",
   "execution_count": null,
   "metadata": {
    "colab": {
     "base_uri": "https://localhost:8080/",
     "height": 103
    },
    "executionInfo": {
     "elapsed": 701,
     "status": "ok",
     "timestamp": 1584443307733,
     "user": {
      "displayName": "Adam Gatt",
      "photoUrl": "",
      "userId": "04763248023094175140"
     },
     "user_tz": -630
    },
    "id": "SKPmX2IwLi18",
    "outputId": "bbd3ffc4-97c1-404c-db44-d584296fc96a"
   },
   "outputs": [
    {
     "name": "stdout",
     "output_type": "stream",
     "text": [
      "0 is less than 20\n",
      "1 is less than 20\n",
      "4 is less than 20\n",
      "9 is less than 20\n",
      "16 is less than 20\n"
     ]
    }
   ],
   "source": [
    "# And of course we can run a for-loop on an iterable\n",
    "for square in squares_less_than(20):\n",
    "  print(f\"{square} is less than 20\")"
   ]
  },
  {
   "cell_type": "code",
   "execution_count": null,
   "metadata": {
    "colab": {
     "base_uri": "https://localhost:8080/",
     "height": 51
    },
    "executionInfo": {
     "elapsed": 692,
     "status": "ok",
     "timestamp": 1584443463500,
     "user": {
      "displayName": "Adam Gatt",
      "photoUrl": "",
      "userId": "04763248023094175140"
     },
     "user_tz": -630
    },
    "id": "rTQSLadmGdbs",
    "outputId": "674bcf8c-57bd-4afb-935c-bacf6ae697f8"
   },
   "outputs": [
    {
     "name": "stdout",
     "output_type": "stream",
     "text": [
      "285\n",
      "285\n"
     ]
    }
   ],
   "source": [
    "# Generator expressions can also be used on functions that\n",
    "# accept iterables\n",
    "sums_1 = sum((x**2 for x in range(10)))\n",
    "print(sums_1)\n",
    "\n",
    "# As a shortcut, one set of brackets can actually be omitted,\n",
    "# allowing us to write the generator directly into the function\n",
    "sums_2 = sum(x**2 for x in range(10))\n",
    "print(sums_2)"
   ]
  },
  {
   "cell_type": "code",
   "execution_count": null,
   "metadata": {
    "colab": {
     "base_uri": "https://localhost:8080/",
     "height": 34
    },
    "executionInfo": {
     "elapsed": 1163,
     "status": "ok",
     "timestamp": 1584443632802,
     "user": {
      "displayName": "Adam Gatt",
      "photoUrl": "",
      "userId": "04763248023094175140"
     },
     "user_tz": -630
    },
    "id": "8AjKat3mMAyR",
    "outputId": "ffe61d8c-09bd-4847-b64f-8992b882eeff"
   },
   "outputs": [
    {
     "data": {
      "text/plain": [
       "8"
      ]
     },
     "execution_count": 26,
     "metadata": {
      "tags": []
     },
     "output_type": "execute_result"
    }
   ],
   "source": [
    "animals = ['cat', 'horse', 'elephant', 'mouse']\n",
    "max(len(word) for word in animals)"
   ]
  },
  {
   "cell_type": "markdown",
   "metadata": {
    "id": "wExLiMlvM9kU"
   },
   "source": [
    "### Use: Avoid need to evaluate entire list"
   ]
  },
  {
   "cell_type": "code",
   "execution_count": null,
   "metadata": {
    "colab": {
     "base_uri": "https://localhost:8080/",
     "height": 235
    },
    "executionInfo": {
     "elapsed": 34449,
     "status": "ok",
     "timestamp": 1591846036195,
     "user": {
      "displayName": "Adam Gatt",
      "photoUrl": "",
      "userId": "00057255254496518621"
     },
     "user_tz": -570
    },
    "id": "FjmIyRNxNZaZ",
    "outputId": "ff7af736-1293-4fc6-ac98-9b36d15647e6"
   },
   "outputs": [
    {
     "name": "stdout",
     "output_type": "stream",
     "text": [
      "1\n",
      "1\n",
      "2\n",
      "3\n",
      "5\n",
      "8\n",
      "13\n",
      "21\n",
      "34\n",
      "55\n",
      "89\n",
      "144\n",
      "That's large enough\n"
     ]
    }
   ],
   "source": [
    "def fibonacci(x):\n",
    "  return 1 if x <= 2 else fibonacci(x-1)+fibonacci(x-2)\n",
    "\n",
    "# This list comprehension will compute the entire list\n",
    "# before even the first iteration occurs\n",
    "for x in [fibonacci(x) for x in range(1, 40)]:\n",
    "  print(x)\n",
    "  if x > 100:\n",
    "    print(\"That's large enough\")\n",
    "    break"
   ]
  },
  {
   "cell_type": "code",
   "execution_count": null,
   "metadata": {
    "colab": {
     "base_uri": "https://localhost:8080/",
     "height": 235
    },
    "executionInfo": {
     "elapsed": 639,
     "status": "ok",
     "timestamp": 1591846052397,
     "user": {
      "displayName": "Adam Gatt",
      "photoUrl": "",
      "userId": "00057255254496518621"
     },
     "user_tz": -570
    },
    "id": "T6TEkUFEOJRR",
    "outputId": "1ca8c76d-2792-4c6e-a940-96655b1f0dc4"
   },
   "outputs": [
    {
     "name": "stdout",
     "output_type": "stream",
     "text": [
      "1\n",
      "1\n",
      "2\n",
      "3\n",
      "5\n",
      "8\n",
      "13\n",
      "21\n",
      "34\n",
      "55\n",
      "89\n",
      "144\n",
      "That's large enough\n"
     ]
    }
   ],
   "source": [
    "# This generator expression will only compute each value before\n",
    "# its iteration. The very costly calculations near the end of the\n",
    "# range are never computed as the loop is exited before we reach them\n",
    "for x in (fibonacci(x) for x in range(1, 40)):\n",
    "  print(x)\n",
    "  if x > 100:\n",
    "    print(\"That's large enough\")\n",
    "    break"
   ]
  },
  {
   "cell_type": "markdown",
   "metadata": {
    "id": "ZmlUv4_-NGJl"
   },
   "source": [
    "### Use: Infinite processing\n",
    "If an generator function does not have a condition that will cause it to exhaust, then it will continue to iterate forever. A generator expression might also iterate forever if it is defined from a source that is infinite.Examples can be found in the `itertools` module, which provides a number of functions and iterators for efficient looping. The difference between generators and iterators can be subtle and we will touch on it later.\n",
    "\n",
    "Examples of infinite iterators are count(), cycle() and repeat(). If you attempt to cast them to a list or use in a comprehension then they will continue returning items forever and the operation will not finish. Likewise, a generator computed from these sources will continue forever under those operations."
   ]
  },
  {
   "cell_type": "code",
   "execution_count": null,
   "metadata": {
    "colab": {
     "base_uri": "https://localhost:8080/",
     "height": 34
    },
    "executionInfo": {
     "elapsed": 570,
     "status": "ok",
     "timestamp": 1591846231903,
     "user": {
      "displayName": "Adam Gatt",
      "photoUrl": "",
      "userId": "00057255254496518621"
     },
     "user_tz": -570
    },
    "id": "u0IZj6L8O6YN",
    "outputId": "cbe88485-194a-483c-aec9-130d2b84ec54"
   },
   "outputs": [
    {
     "data": {
      "text/plain": [
       "[2, 4, 6, 8, 10, 12, 14, 16, 18, 20]"
      ]
     },
     "execution_count": 12,
     "metadata": {
      "tags": []
     },
     "output_type": "execute_result"
    }
   ],
   "source": [
    "from itertools import count, islice\n",
    "\n",
    "# count() is an infinite source of natural numbers, but we can\n",
    "# safely use it in a generator\n",
    "evens = (x for x in count(1) if x%2 == 0)\n",
    "\n",
    "# islice() allows us to take a slice of any iterator, here we\n",
    "# use it to fetch the first 10 items from our \"evens\" generator\n",
    "list(islice(evens, 10))"
   ]
  },
  {
   "cell_type": "code",
   "execution_count": null,
   "metadata": {
    "colab": {
     "base_uri": "https://localhost:8080/",
     "height": 387
    },
    "executionInfo": {
     "elapsed": 47664,
     "status": "error",
     "timestamp": 1591846310035,
     "user": {
      "displayName": "Adam Gatt",
      "photoUrl": "",
      "userId": "00057255254496518621"
     },
     "user_tz": -570
    },
    "id": "NNtX8fIzPlPn",
    "outputId": "b8ef0514-b367-4fa1-fff9-7e76806ab39a"
   },
   "outputs": [
    {
     "ename": "KeyboardInterrupt",
     "evalue": "ignored",
     "output_type": "error",
     "traceback": [
      "\u001b[0;31m---------------------------------------------------------------------------\u001b[0m",
      "\u001b[0;31mKeyboardInterrupt\u001b[0m                         Traceback (most recent call last)",
      "\u001b[0;32m/usr/local/lib/python3.6/dist-packages/IPython/core/interactiveshell.py\u001b[0m in \u001b[0;36mrun_code\u001b[0;34m(self, code_obj, result)\u001b[0m\n\u001b[1;32m   2881\u001b[0m                 \u001b[0;31m#rprint('Running code', repr(code_obj)) # dbg\u001b[0m\u001b[0;34m\u001b[0m\u001b[0;34m\u001b[0m\u001b[0;34m\u001b[0m\u001b[0m\n\u001b[0;32m-> 2882\u001b[0;31m                 \u001b[0mexec\u001b[0m\u001b[0;34m(\u001b[0m\u001b[0mcode_obj\u001b[0m\u001b[0;34m,\u001b[0m \u001b[0mself\u001b[0m\u001b[0;34m.\u001b[0m\u001b[0muser_global_ns\u001b[0m\u001b[0;34m,\u001b[0m \u001b[0mself\u001b[0m\u001b[0;34m.\u001b[0m\u001b[0muser_ns\u001b[0m\u001b[0;34m)\u001b[0m\u001b[0;34m\u001b[0m\u001b[0;34m\u001b[0m\u001b[0m\n\u001b[0m\u001b[1;32m   2883\u001b[0m             \u001b[0;32mfinally\u001b[0m\u001b[0;34m:\u001b[0m\u001b[0;34m\u001b[0m\u001b[0;34m\u001b[0m\u001b[0m\n",
      "\u001b[0;32m<ipython-input-13-ba9901be69ca>\u001b[0m in \u001b[0;36m<module>\u001b[0;34m()\u001b[0m\n\u001b[1;32m      2\u001b[0m \u001b[0;31m# a generator expression?\u001b[0m\u001b[0;34m\u001b[0m\u001b[0;34m\u001b[0m\u001b[0;34m\u001b[0m\u001b[0m\n\u001b[0;32m----> 3\u001b[0;31m \u001b[0mevens\u001b[0m \u001b[0;34m=\u001b[0m \u001b[0;34m[\u001b[0m\u001b[0mx\u001b[0m \u001b[0;32mfor\u001b[0m \u001b[0mx\u001b[0m \u001b[0;32min\u001b[0m \u001b[0mcount\u001b[0m\u001b[0;34m(\u001b[0m\u001b[0;36m1\u001b[0m\u001b[0;34m)\u001b[0m \u001b[0;32mif\u001b[0m \u001b[0mx\u001b[0m\u001b[0;34m%\u001b[0m\u001b[0;36m2\u001b[0m \u001b[0;34m==\u001b[0m \u001b[0;36m0\u001b[0m\u001b[0;34m]\u001b[0m\u001b[0;34m\u001b[0m\u001b[0;34m\u001b[0m\u001b[0m\n\u001b[0m\u001b[1;32m      4\u001b[0m \u001b[0;34m\u001b[0m\u001b[0m\n",
      "\u001b[0;32m<ipython-input-13-ba9901be69ca>\u001b[0m in \u001b[0;36m<listcomp>\u001b[0;34m(.0)\u001b[0m\n\u001b[1;32m      2\u001b[0m \u001b[0;31m# a generator expression?\u001b[0m\u001b[0;34m\u001b[0m\u001b[0;34m\u001b[0m\u001b[0;34m\u001b[0m\u001b[0m\n\u001b[0;32m----> 3\u001b[0;31m \u001b[0mevens\u001b[0m \u001b[0;34m=\u001b[0m \u001b[0;34m[\u001b[0m\u001b[0mx\u001b[0m \u001b[0;32mfor\u001b[0m \u001b[0mx\u001b[0m \u001b[0;32min\u001b[0m \u001b[0mcount\u001b[0m\u001b[0;34m(\u001b[0m\u001b[0;36m1\u001b[0m\u001b[0;34m)\u001b[0m \u001b[0;32mif\u001b[0m \u001b[0mx\u001b[0m\u001b[0;34m%\u001b[0m\u001b[0;36m2\u001b[0m \u001b[0;34m==\u001b[0m \u001b[0;36m0\u001b[0m\u001b[0;34m]\u001b[0m\u001b[0;34m\u001b[0m\u001b[0;34m\u001b[0m\u001b[0m\n\u001b[0m\u001b[1;32m      4\u001b[0m \u001b[0;34m\u001b[0m\u001b[0m\n",
      "\u001b[0;31mKeyboardInterrupt\u001b[0m: ",
      "\nDuring handling of the above exception, another exception occurred:\n",
      "\u001b[0;31mKeyboardInterrupt\u001b[0m                         Traceback (most recent call last)",
      "\u001b[0;31mKeyboardInterrupt\u001b[0m: "
     ]
    }
   ],
   "source": [
    "# What happens if \"evens\" used list comprehension instead of\n",
    "# a generator expression?\n",
    "evens = [x for x in count(1) if x%2 == 0]\n",
    "\n",
    "# It will calculate forever and never reach this statement\n",
    "evens[:10]"
   ]
  },
  {
   "cell_type": "markdown",
   "metadata": {
    "id": "-SmhW11mfe02"
   },
   "source": [
    "### Use: Keep state in between computed values"
   ]
  },
  {
   "cell_type": "code",
   "execution_count": null,
   "metadata": {
    "colab": {
     "base_uri": "https://localhost:8080/",
     "height": 151
    },
    "executionInfo": {
     "elapsed": 812,
     "status": "ok",
     "timestamp": 1591846550902,
     "user": {
      "displayName": "Adam Gatt",
      "photoUrl": "",
      "userId": "00057255254496518621"
     },
     "user_tz": -570
    },
    "id": "RvaFgevsfmV0",
    "outputId": "32b0976d-a46f-4b4b-d074-08a37936fa5d"
   },
   "outputs": [
    {
     "name": "stdout",
     "output_type": "stream",
     "text": [
      "1\n",
      "1\n",
      "2\n",
      "3\n",
      "5\n",
      "8\n",
      "13\n",
      "21\n"
     ]
    }
   ],
   "source": [
    "from itertools import islice\n",
    "\n",
    "def fibonacci_generator():\n",
    "  # Initialise first two fibonacci numbers\n",
    "  x_minus_2, x_minus_1 = 1, 1\n",
    "  # Return these first two numbers explicitly, later values will be calculated\n",
    "  yield x_minus_2\n",
    "  yield x_minus_1\n",
    "  while True:\n",
    "    # New number is sum of previous two numbers\n",
    "    x = x_minus_2 + x_minus_1\n",
    "    yield x\n",
    "    # Update our remembered previous numbers\n",
    "    x_minus_2, x_minus_1 = x_minus_1, x\n",
    "\n",
    "\n",
    "for number in islice(fibonacci_generator(), 8):\n",
    "  print(number)"
   ]
  },
  {
   "cell_type": "code",
   "execution_count": null,
   "metadata": {
    "colab": {
     "base_uri": "https://localhost:8080/",
     "height": 34
    },
    "executionInfo": {
     "elapsed": 654,
     "status": "ok",
     "timestamp": 1591846588558,
     "user": {
      "displayName": "Adam Gatt",
      "photoUrl": "",
      "userId": "00057255254496518621"
     },
     "user_tz": -570
    },
    "id": "NJ1EUzhhcdKd",
    "outputId": "215970f6-b0fa-4306-9fd3-b5f387e1d936"
   },
   "outputs": [
    {
     "data": {
      "text/plain": [
       "[1, 1, 2, 3, 5, 8, 13, 21]"
      ]
     },
     "execution_count": 2,
     "metadata": {
      "tags": []
     },
     "output_type": "execute_result"
    }
   ],
   "source": [
    "list(islice(fibonacci_generator(), 8))"
   ]
  },
  {
   "cell_type": "markdown",
   "metadata": {
    "id": "at2WzBxqhWi6"
   },
   "source": [
    "### Manual iteration with `next()`\n",
    "We can call `next()` with a generator to compute and fetch the next element manually."
   ]
  },
  {
   "cell_type": "code",
   "execution_count": null,
   "metadata": {
    "colab": {
     "base_uri": "https://localhost:8080/",
     "height": 102
    },
    "executionInfo": {
     "elapsed": 820,
     "status": "ok",
     "timestamp": 1584528996123,
     "user": {
      "displayName": "Adam Gatt",
      "photoUrl": "",
      "userId": "04763248023094175140"
     },
     "user_tz": -630
    },
    "id": "wH8-2li4SD5K",
    "outputId": "8e986200-2528-4036-95e7-9e3024c467d9"
   },
   "outputs": [
    {
     "name": "stdout",
     "output_type": "stream",
     "text": [
      "1\n",
      "1\n",
      "2\n",
      "3\n",
      "8\n"
     ]
    }
   ],
   "source": [
    "fibgen = fibonacci_generator()\n",
    "print(next(fibgen))\n",
    "print(next(fibgen))\n",
    "print(next(fibgen))\n",
    "print(next(fibgen))\n",
    "_ = next(fibgen) # This value won't be printed, just discarded\n",
    "print(next(fibgen))"
   ]
  },
  {
   "cell_type": "markdown",
   "metadata": {
    "id": "UbtQZoSihR01"
   },
   "source": [
    "### Exhaustion\n",
    "As mentioned earlier, a generator that runs out of items will become exhausted. This is indicated by throwing a `StopIteration` exception. Operations that process through iterables, such as list comprehensions and for-loops, will look for and handle this exception instead of displaying it to the console.\n",
    "\n",
    "However, once a generator is exhausted it does not reset to the start of the sequence. It will continue providing `StopIteration` when asked for another item. Using the generator in a loop again will result in zero iterations. Using it in a comprehension or list/set/tuple cast will result in an output of zero length."
   ]
  },
  {
   "cell_type": "code",
   "execution_count": null,
   "metadata": {
    "colab": {
     "base_uri": "https://localhost:8080/",
     "height": 101
    },
    "executionInfo": {
     "elapsed": 682,
     "status": "ok",
     "timestamp": 1591847199107,
     "user": {
      "displayName": "Adam Gatt",
      "photoUrl": "",
      "userId": "00057255254496518621"
     },
     "user_tz": -570
    },
    "id": "gl1Dxt3IM64p",
    "outputId": "658ea12e-01ab-4dc1-9781-65c917f8c799"
   },
   "outputs": [
    {
     "name": "stdout",
     "output_type": "stream",
     "text": [
      "<generator object <genexpr> at 0x7fc7f701f150>\n",
      "\n",
      "['Stop 1: San Diego', 'Stop 2: Los Angeles', 'Stop 3: San Francisco', 'Stop 4: Alameda']\n",
      "\n",
      "['Stop 1: San Diego', 'Stop 2: Los Angeles', 'Stop 3: San Francisco', 'Stop 4: Alameda']\n"
     ]
    }
   ],
   "source": [
    "# Create a generator that creates statements for each city in a list\n",
    "itinerary = (f\"Stop {idx+1}: {city}\" for idx, city in enumerate(['San Diego', 'Los Angeles', 'San Francisco', 'Alameda']))\n",
    "\n",
    "print(itinerary) # Print the generator\n",
    "\n",
    "# Let's evaluate the generator into a list with the list() function\n",
    "print()\n",
    "print(list(itinerary))\n",
    "\n",
    "# Attempting this again won't work because the generator has already been\n",
    "# processed once. We will need to re-create the generator if we want to iterate through it again\n",
    "print()\n",
    "print(list(itinerary))"
   ]
  },
  {
   "cell_type": "code",
   "execution_count": null,
   "metadata": {
    "colab": {
     "base_uri": "https://localhost:8080/",
     "height": 265
    },
    "executionInfo": {
     "elapsed": 620,
     "status": "error",
     "timestamp": 1584529384124,
     "user": {
      "displayName": "Adam Gatt",
      "photoUrl": "",
      "userId": "04763248023094175140"
     },
     "user_tz": -630
    },
    "id": "KdzBK6iTT0FT",
    "outputId": "9b3b36a4-21e5-4c60-fccd-2f6da0a13233"
   },
   "outputs": [
    {
     "name": "stdout",
     "output_type": "stream",
     "text": [
      "Stop 1: San Diego\n",
      "Stop 2: Los Angeles\n",
      "Stop 3: San Francisco\n",
      "Stop 4: Alameda\n"
     ]
    },
    {
     "ename": "StopIteration",
     "evalue": "ignored",
     "output_type": "error",
     "traceback": [
      "\u001b[0;31m---------------------------------------------------------------------------\u001b[0m",
      "\u001b[0;31mStopIteration\u001b[0m                             Traceback (most recent call last)",
      "\u001b[0;32m<ipython-input-7-9329e0db505b>\u001b[0m in \u001b[0;36m<module>\u001b[0;34m()\u001b[0m\n\u001b[1;32m      5\u001b[0m \u001b[0mprint\u001b[0m\u001b[0;34m(\u001b[0m\u001b[0mnext\u001b[0m\u001b[0;34m(\u001b[0m\u001b[0mitinerary\u001b[0m\u001b[0;34m)\u001b[0m\u001b[0;34m)\u001b[0m\u001b[0;34m\u001b[0m\u001b[0;34m\u001b[0m\u001b[0m\n\u001b[1;32m      6\u001b[0m \u001b[0mprint\u001b[0m\u001b[0;34m(\u001b[0m\u001b[0mnext\u001b[0m\u001b[0;34m(\u001b[0m\u001b[0mitinerary\u001b[0m\u001b[0;34m)\u001b[0m\u001b[0;34m)\u001b[0m\u001b[0;34m\u001b[0m\u001b[0;34m\u001b[0m\u001b[0m\n\u001b[0;32m----> 7\u001b[0;31m \u001b[0mprint\u001b[0m\u001b[0;34m(\u001b[0m\u001b[0mnext\u001b[0m\u001b[0;34m(\u001b[0m\u001b[0mitinerary\u001b[0m\u001b[0;34m)\u001b[0m\u001b[0;34m)\u001b[0m\u001b[0;34m\u001b[0m\u001b[0;34m\u001b[0m\u001b[0m\n\u001b[0m",
      "\u001b[0;31mStopIteration\u001b[0m: "
     ]
    }
   ],
   "source": [
    "# Let's create the generator again and step through it manually\n",
    "itinerary = (f\"Stop {idx+1}: {city}\" for idx, city in enumerate(['San Diego', 'Los Angeles', 'San Francisco', 'Alameda']))\n",
    "\n",
    "print(next(itinerary))\n",
    "print(next(itinerary))\n",
    "print(next(itinerary))\n",
    "print(next(itinerary))\n",
    "print(next(itinerary)) # We've run out of items and StopIteration will be thrown"
   ]
  },
  {
   "cell_type": "code",
   "execution_count": null,
   "metadata": {
    "colab": {
     "base_uri": "https://localhost:8080/",
     "height": 51
    },
    "executionInfo": {
     "elapsed": 655,
     "status": "ok",
     "timestamp": 1584529581240,
     "user": {
      "displayName": "Adam Gatt",
      "photoUrl": "",
      "userId": "04763248023094175140"
     },
     "user_tz": -630
    },
    "id": "gtw2vL65UAY0",
    "outputId": "d7d3a3fe-474f-42eb-df71-8dbaa2627e7a"
   },
   "outputs": [
    {
     "name": "stdout",
     "output_type": "stream",
     "text": [
      "Stop 1: San Diego\n",
      "['Stop 2: Los Angeles', 'Stop 3: San Francisco', 'Stop 4: Alameda']\n"
     ]
    }
   ],
   "source": [
    "# Let's step through the first element and then evaluate the generator\n",
    "itinerary = (f\"Stop {idx+1}: {city}\" for idx, city in enumerate(['San Diego', 'Los Angeles', 'San Francisco', 'Alameda']))\n",
    "\n",
    "print(next(itinerary))\n",
    "print(list(itinerary))\n",
    "\n",
    "# Not all values were provided to list() because the generator already provided\n",
    "# the first value when it was called with next(). Calling it with next() now\n",
    "# will throw a StopIteration, but using it in a comprehension or loop will\n",
    "# handle this gracefully\n",
    "for remaining_city in itinerary:\n",
    "  print('Did we forget to visit {}?'.format(remaining_city))"
   ]
  },
  {
   "cell_type": "markdown",
   "metadata": {
    "id": "J9TKGOUPshYw"
   },
   "source": [
    "### Usage Considerations\n",
    "* Because generators can only be iterated over once, it is best practice to use them as soon as possible after their creation. You might not even need to create them as a variable, but instead use the generator expression or generator function call in-line with the code that consumes it. A generator that is created and then sits unused for a long time has a greater chance of accidentally being iterated over twice as its disposable nature becomes forgotten by the coder.\n",
    "\n",
    "* If you are using a list comprehension for the sole purpose of immediately iterating over the resulting list (*and only once!*), then consider replacing it with a generator expression instead. This will serve the same purpose but will bring the incidental advantages of lazy evaluation."
   ]
  },
  {
   "cell_type": "markdown",
   "metadata": {
    "id": "rLKjGMF4hU9F"
   },
   "source": [
    "## Lazy evaluation\n",
    "In general programming, Lazy Evaluation is an approach that comes in useful when you need to process a sequence of elements, and that processing involves multiple expensive steps. Traditional imperative programming conventionally uses \"eager evaluation\", where each step will process the entire sequence, storing the intermediate results in new variables. This comes with some costs:\n",
    "\n",
    "*   Intermediate variables must be large enough to hold the results for the entire sequence.\n",
    "*   No results are available until the final step is processed, i.e. all operations have been performed on the entire sequence.\n",
    "\n",
    "\n",
    "In contrast, lazy evaluation is an approach where we define how the calculations should be performed, without performing them just yet. Instead we construct a model of these step processes, and at the end the entire model is evaluated on the input data all at once. When the input is a sequence, we can apply the entire model to each element in turn, similar to stream processing. This means that:\n",
    "\n",
    "* Intermediate variables only need enough memory to hold results for a single element at a time\n",
    "* The results from each element are made available as soon as they are computed (allowing for immediate display, writing to file, used for HTTP request, etc)\n",
    "* If there is no interaction or memory between elements in the sequence then this may make our processing easy to parallelise"
   ]
  },
  {
   "cell_type": "markdown",
   "metadata": {
    "id": "GsWsbAPMhuth"
   },
   "source": [
    "### Example 1: Processing despite blocking input\n",
    "The `input()` function is a blocking operation. It halts processing entirely until input is provided from \"system in\" (in this case, the keyboard). `name_stream` is a generator that will provide four names, but only provide each when requested. If it were a list comprehension, we would need to enter all four names before any further processing could proceed. By using generators we can perform later operations on provided values before requesting the next name and blocking again."
   ]
  },
  {
   "cell_type": "code",
   "execution_count": null,
   "metadata": {
    "id": "eit3hLlHii1a"
   },
   "outputs": [],
   "source": [
    "# This generator:\n",
    "# 1) reads a name from the keyboard\n",
    "name_stream = (input('\\nWhat is your name? ') for _ in range(4))\n",
    "\n",
    "# This generator reads names from an input, writes them to a database,\n",
    "# and then passes them on.\n",
    "def record_user(names_in):\n",
    "  for name in names_in:\n",
    "    print('Recording name to database')\n",
    "    yield name\n",
    "\n",
    "# This generator:\n",
    "# 1) reads a name from the keyboard\n",
    "# 2) records to database\n",
    "record_users_when_submitted = record_user(name_stream)\n",
    "\n",
    "# This generator:\n",
    "# 1) reads a name from the keyboard\n",
    "# 2) records to database\n",
    "# 3) transforms the name into a greeting\n",
    "greetings = (f\"Hello {name}\" for name in record_users_when_submitted)\n",
    "\n",
    "# We have set up a number of generators but absolutely nothing has been\n",
    "# processed or computed yet. Generators only perform computation when\n",
    "# an element is requested.\n",
    "\n",
    "# By iterating through the final generator (with the for-loop), we ask it\n",
    "# to emit elements and so actual computation finally begins.\n",
    "for greeting in greetings:\n",
    "  print(f\"Greeting message is: {greeting}\")"
   ]
  },
  {
   "cell_type": "markdown",
   "metadata": {
    "id": "lHVQCArDm8eQ"
   },
   "source": [
    "### Example 2: Processing despite infinite input\n",
    "This time we use count() to request an infinite number of keyboard inputs, and so waiting for them to complete means that we will wait forever and no further operations are possible. By using generators we hold off on evaluating anything until values are requested. This means we can  "
   ]
  },
  {
   "cell_type": "code",
   "execution_count": null,
   "metadata": {
    "colab": {
     "base_uri": "https://localhost:8080/",
     "height": 204
    },
    "executionInfo": {
     "elapsed": 9705,
     "status": "ok",
     "timestamp": 1584534651609,
     "user": {
      "displayName": "Adam Gatt",
      "photoUrl": "",
      "userId": "04763248023094175140"
     },
     "user_tz": -630
    },
    "id": "Wa9oAFhvm7jm",
    "outputId": "fe397b28-7686-4874-e2ef-fcf6586be626"
   },
   "outputs": [
    {
     "name": "stdout",
     "output_type": "stream",
     "text": [
      "\n",
      "What is your name? Adam\n",
      "Recording name to database\n",
      "Greeting message is: Hello Adam\n",
      "\n",
      "What is your name? Sebastien\n",
      "Recording name to database\n",
      "Greeting message is: Hello Sebastien\n",
      "\n",
      "What is your name? goodbye\n",
      "Recording name to database\n"
     ]
    }
   ],
   "source": [
    "from itertools import count\n",
    "\n",
    "# This generator will now provide infinite names. We definitely do\n",
    "# not want this to be an eager-evaluated list comprehension now!\n",
    "name_stream = (input('\\nWhat is your name? ') for _ in count())\n",
    "\n",
    "# Other generators chained together as previously. Again, nothing is\n",
    "# computed at all until an element is requested from a generator.\n",
    "record_users_when_submitted = record_user(name_stream)\n",
    "greetings = (f\"Hello {name}\" for name in record_users_when_submitted)\n",
    "\n",
    "# We are safe to iterate through the infinite generator if we have\n",
    "# some condition for breaking out of it, or at the least limit it\n",
    "# to a particular number of iterations with \"islice()\"\"\n",
    "for greeting in greetings:\n",
    "  if 'goodbye' in greeting:\n",
    "    break\n",
    "  else:\n",
    "    print(f\"Greeting message is: {greeting}\")"
   ]
  },
  {
   "cell_type": "markdown",
   "metadata": {
    "id": "4IIclUthhoOH"
   },
   "source": [
    "### Dummy example: Training an ML algorithm\n",
    "This is a longer example that uses second-level generators, generators that open and close multiple files in sequence, and generators that require multiple elements from another. This is a demonstrative example - the data is faked and no model is actually trained, but it exemplifies the order of execution as each data point is submitted through the processing stream. "
   ]
  },
  {
   "cell_type": "code",
   "execution_count": null,
   "metadata": {
    "id": "7UcnSwZysKdA"
   },
   "outputs": [],
   "source": [
    "### DUMMY OBJECTS FOR THE EXAMPLE ###\n",
    "\n",
    "# Context Manager that returns dummy data from pretend files\n",
    "class FakeFileReader(object):\n",
    "  fake_contents = {\n",
    "      'original_training_set.txt': ['A' + str(x) for x in range(30)],\n",
    "      'training_data_v1.0.txt': ['B' + str(x) for x in range(70)],\n",
    "      'auxillary_data.txt': ['C' + str(x) for x in range(40)],\n",
    "      'largest_data_set.txt': ['D' + str(x) for x in range(20)]\n",
    "  }\n",
    "\n",
    "  def __init__(self, file_name):\n",
    "    self.file_name = file_name\n",
    "\n",
    "  def __enter__(self):\n",
    "    return self\n",
    "  \n",
    "  def __exit__(self, type, value, traceback):\n",
    "    pass\n",
    "  \n",
    "  def read_lines(self):\n",
    "    return self.fake_contents[self.file_name]\n",
    "\n",
    "# Creates a FakeFileReader with the specified file name\n",
    "def fake_open(file_name, read_write_mode):\n",
    "  return FakeFileReader(file_name)\n",
    "\n",
    "# Dummy neural network model that exposes a dummy \"train\" method, and\n",
    "# dummy \"weights\" that increase every time it is trained\n",
    "class FakeNeuralNet(object):\n",
    "  def __init__(self):\n",
    "    self.weights = [0] * 5\n",
    "\n",
    "  def train(self, data_point, verbose=False):\n",
    "    self.weights = [weight + 0.1 for weight in self.weights]\n",
    "    if verbose:\n",
    "      print(f'I am being trained on data point {data_point}')\n",
    "\n",
    "  def get_weights(self):\n",
    "    return self.weights;\n",
    "\n",
    "# Create an instance of it ready to be used\n",
    "my_neural_net = FakeNeuralNet()"
   ]
  },
  {
   "cell_type": "code",
   "execution_count": null,
   "metadata": {
    "id": "-BqJ_NOdhXTP"
   },
   "outputs": [],
   "source": [
    "### SETTING UP OUR STREAM PROCESSING ###\n",
    "\n",
    "# We have a list of file paths for our training data\n",
    "training_data_files = ['original_training_set.txt', 'training_data_v1.0.txt', 'auxillary_data.txt', 'largest_data_set.txt']\n",
    "\n",
    "\n",
    "# We create a generator function that will create a generator that, when iterated,\n",
    "# will provide the datapoints from a file, one-by-one \n",
    "def file_contents(file_path):\n",
    "  # Context manager will safely close when the function ends (it will leave scope)\n",
    "  with fake_open(file_path, 'r') as f:\n",
    "    for data_point in f.read_lines():\n",
    "      yield data_point\n",
    "\n",
    "# A generator to provide each subsequent data point from each subsequent file. We\n",
    "# use a two-level structure to flatten all the data into a single sequence. Note\n",
    "# how file_contents will be called four times, once for each training data file.\n",
    "# As that function uses a context manager, each file will be elegantly opened\n",
    "# and closed in turn as its contents become exhausted.\n",
    "data_set = (data_point\n",
    "            for file_name in training_data_files\n",
    "            for data_point in file_contents(file_name))\n",
    "\n",
    "# A generator function that trains a model on data points and emits the model's\n",
    "# trained weights after a number of iterations\n",
    "def train_model(model, training_data):\n",
    "  for idx, data_point in enumerate(training_data):\n",
    "    model.train(data_point, verbose=True)\n",
    "\n",
    "    # Emit model weights every 50 iterations as a checkpoint\n",
    "    if idx % 50 == 0:\n",
    "      print('Saving checkpoint')\n",
    "      yield model.get_weights()\n",
    "\n",
    "  # Final report of model weights when we have run out of data\n",
    "  yield model.get_weights()\n",
    "\n",
    "# Calling the function is what creates our actual generator, ready to\n",
    "# be iterated over\n",
    "my_model_training_process = train_model(my_neural_net, data_set)"
   ]
  },
  {
   "cell_type": "markdown",
   "metadata": {
    "id": "ZO2G93efhcql"
   },
   "source": [
    "What would happen when we evaluate `next(my_model_training_process)` and kick off the whole process?\n",
    "1. The next() statement will run `my_model_training_process` until it emits its first value.\n",
    "2. We can see in the `train_model` function that this will happen after the first 50 datapoints have been evaluated.\n",
    "3. The datapoints are fetched from the submitted training data, which we specified as the `data_set` generator. This will undergo 50 iterations.\n",
    "4. data_set will return the first 50 elements, calling `file_contents(file)` for each file and iterating through the data points returned within.\n",
    "5. `file_contents()` is a generator for each file that will ensure the files are cleanly closed after they have been used. Only one file is ever open at a time."
   ]
  },
  {
   "cell_type": "code",
   "execution_count": null,
   "metadata": {
    "colab": {
     "base_uri": "https://localhost:8080/",
     "height": 1000
    },
    "executionInfo": {
     "elapsed": 1082,
     "status": "ok",
     "timestamp": 1587460254109,
     "user": {
      "displayName": "Adam Gatt",
      "photoUrl": "",
      "userId": "00057255254496518621"
     },
     "user_tz": -570
    },
    "id": "i7XEHwGP-kFg",
    "outputId": "e45fd394-0339-4f8c-f2ee-0353252fb88c"
   },
   "outputs": [
    {
     "name": "stdout",
     "output_type": "stream",
     "text": [
      "I am being trained on data point A0\n",
      "Saving checkpoint\n",
      "Weights at first checkpoint:\n",
      "[16.09999999999996, 16.09999999999996, 16.09999999999996, 16.09999999999996, 16.09999999999996]\n",
      "I am being trained on data point A1\n",
      "I am being trained on data point A2\n",
      "I am being trained on data point A3\n",
      "I am being trained on data point A4\n",
      "I am being trained on data point A5\n",
      "I am being trained on data point A6\n",
      "I am being trained on data point A7\n",
      "I am being trained on data point A8\n",
      "I am being trained on data point A9\n",
      "I am being trained on data point A10\n",
      "I am being trained on data point A11\n",
      "I am being trained on data point A12\n",
      "I am being trained on data point A13\n",
      "I am being trained on data point A14\n",
      "I am being trained on data point A15\n",
      "I am being trained on data point A16\n",
      "I am being trained on data point A17\n",
      "I am being trained on data point A18\n",
      "I am being trained on data point A19\n",
      "I am being trained on data point A20\n",
      "I am being trained on data point A21\n",
      "I am being trained on data point A22\n",
      "I am being trained on data point A23\n",
      "I am being trained on data point A24\n",
      "I am being trained on data point A25\n",
      "I am being trained on data point A26\n",
      "I am being trained on data point A27\n",
      "I am being trained on data point A28\n",
      "I am being trained on data point A29\n",
      "I am being trained on data point B0\n",
      "I am being trained on data point B1\n",
      "I am being trained on data point B2\n",
      "I am being trained on data point B3\n",
      "I am being trained on data point B4\n",
      "I am being trained on data point B5\n",
      "I am being trained on data point B6\n",
      "I am being trained on data point B7\n",
      "I am being trained on data point B8\n",
      "I am being trained on data point B9\n",
      "I am being trained on data point B10\n",
      "I am being trained on data point B11\n",
      "I am being trained on data point B12\n",
      "I am being trained on data point B13\n",
      "I am being trained on data point B14\n",
      "I am being trained on data point B15\n",
      "I am being trained on data point B16\n",
      "I am being trained on data point B17\n",
      "I am being trained on data point B18\n",
      "I am being trained on data point B19\n",
      "I am being trained on data point B20\n",
      "Saving checkpoint\n",
      "I am being trained on data point B21\n",
      "I am being trained on data point B22\n",
      "I am being trained on data point B23\n",
      "I am being trained on data point B24\n",
      "I am being trained on data point B25\n",
      "I am being trained on data point B26\n",
      "I am being trained on data point B27\n",
      "I am being trained on data point B28\n",
      "I am being trained on data point B29\n",
      "I am being trained on data point B30\n",
      "I am being trained on data point B31\n",
      "I am being trained on data point B32\n",
      "I am being trained on data point B33\n",
      "I am being trained on data point B34\n",
      "I am being trained on data point B35\n",
      "I am being trained on data point B36\n",
      "I am being trained on data point B37\n",
      "I am being trained on data point B38\n",
      "I am being trained on data point B39\n",
      "I am being trained on data point B40\n",
      "I am being trained on data point B41\n",
      "I am being trained on data point B42\n",
      "I am being trained on data point B43\n",
      "I am being trained on data point B44\n",
      "I am being trained on data point B45\n",
      "I am being trained on data point B46\n",
      "I am being trained on data point B47\n",
      "I am being trained on data point B48\n",
      "I am being trained on data point B49\n",
      "I am being trained on data point B50\n",
      "I am being trained on data point B51\n",
      "I am being trained on data point B52\n",
      "I am being trained on data point B53\n",
      "I am being trained on data point B54\n",
      "I am being trained on data point B55\n",
      "I am being trained on data point B56\n",
      "I am being trained on data point B57\n",
      "I am being trained on data point B58\n",
      "I am being trained on data point B59\n",
      "I am being trained on data point B60\n",
      "I am being trained on data point B61\n",
      "I am being trained on data point B62\n",
      "I am being trained on data point B63\n",
      "I am being trained on data point B64\n",
      "I am being trained on data point B65\n",
      "I am being trained on data point B66\n",
      "I am being trained on data point B67\n",
      "I am being trained on data point B68\n",
      "I am being trained on data point B69\n",
      "I am being trained on data point C0\n",
      "Saving checkpoint\n",
      "I am being trained on data point C1\n",
      "I am being trained on data point C2\n",
      "I am being trained on data point C3\n",
      "I am being trained on data point C4\n",
      "I am being trained on data point C5\n",
      "I am being trained on data point C6\n",
      "I am being trained on data point C7\n",
      "I am being trained on data point C8\n",
      "I am being trained on data point C9\n",
      "I am being trained on data point C10\n",
      "I am being trained on data point C11\n",
      "I am being trained on data point C12\n",
      "I am being trained on data point C13\n",
      "I am being trained on data point C14\n",
      "I am being trained on data point C15\n",
      "I am being trained on data point C16\n",
      "I am being trained on data point C17\n",
      "I am being trained on data point C18\n",
      "I am being trained on data point C19\n",
      "I am being trained on data point C20\n",
      "I am being trained on data point C21\n",
      "I am being trained on data point C22\n",
      "I am being trained on data point C23\n",
      "I am being trained on data point C24\n",
      "I am being trained on data point C25\n",
      "I am being trained on data point C26\n",
      "I am being trained on data point C27\n",
      "I am being trained on data point C28\n",
      "I am being trained on data point C29\n",
      "I am being trained on data point C30\n",
      "I am being trained on data point C31\n",
      "I am being trained on data point C32\n",
      "I am being trained on data point C33\n",
      "I am being trained on data point C34\n",
      "I am being trained on data point C35\n",
      "I am being trained on data point C36\n",
      "I am being trained on data point C37\n",
      "I am being trained on data point C38\n",
      "I am being trained on data point C39\n",
      "I am being trained on data point D0\n",
      "I am being trained on data point D1\n",
      "I am being trained on data point D2\n",
      "I am being trained on data point D3\n",
      "I am being trained on data point D4\n",
      "I am being trained on data point D5\n",
      "I am being trained on data point D6\n",
      "I am being trained on data point D7\n",
      "I am being trained on data point D8\n",
      "I am being trained on data point D9\n",
      "I am being trained on data point D10\n",
      "Saving checkpoint\n",
      "I am being trained on data point D11\n",
      "I am being trained on data point D12\n",
      "I am being trained on data point D13\n",
      "I am being trained on data point D14\n",
      "I am being trained on data point D15\n",
      "I am being trained on data point D16\n",
      "I am being trained on data point D17\n",
      "I am being trained on data point D18\n",
      "I am being trained on data point D19\n",
      "Weights at each checkpoint:\n",
      "[21.10000000000003, 21.10000000000003, 21.10000000000003, 21.10000000000003, 21.10000000000003]\n",
      "[26.1000000000001, 26.1000000000001, 26.1000000000001, 26.1000000000001, 26.1000000000001]\n",
      "[31.100000000000172, 31.100000000000172, 31.100000000000172, 31.100000000000172, 31.100000000000172]\n",
      "[32.000000000000185, 32.000000000000185, 32.000000000000185, 32.000000000000185, 32.000000000000185]\n"
     ]
    }
   ],
   "source": [
    "### EXECUTING THE LAZY EVALUATION STREAM ###\n",
    "\n",
    "# We have created a lot of generators but nothing has been computed until this\n",
    "# moment, when we take the outer-most generator (my_model_training_process) and\n",
    "# request an element from it. We will do this manually with next()\n",
    "weights_at_first_checkpoint = next(my_model_training_process)\n",
    "print('Weights at first checkpoint:')\n",
    "print(weights_at_first_checkpoint)\n",
    "\n",
    "# An alternative is to get all the weights by submitting the generator to list()\n",
    "weights_over_time = list(my_model_training_process)\n",
    "print('Weights at each checkpoint:')\n",
    "print('\\n'.join(str(weights) for weights in weights_over_time))"
   ]
  },
  {
   "cell_type": "code",
   "execution_count": null,
   "metadata": {
    "id": "8PRIQSb8-yVi"
   },
   "outputs": [],
   "source": []
  }
 ],
 "metadata": {
  "colab": {
   "collapsed_sections": [],
   "name": "6 Comprehensions, Generators and Lazy Evaluation.ipynb",
   "provenance": [
    {
     "file_id": "1wgRgBUJ736amEPAlUWQhyiY4uB73hc-H",
     "timestamp": 1583895572845
    }
   ]
  },
  "kernelspec": {
   "display_name": "Python 3",
   "language": "python",
   "name": "python3"
  },
  "language_info": {
   "codemirror_mode": {
    "name": "ipython",
    "version": 3
   },
   "file_extension": ".py",
   "mimetype": "text/x-python",
   "name": "python",
   "nbconvert_exporter": "python",
   "pygments_lexer": "ipython3",
   "version": "3.8.5"
  }
 },
 "nbformat": 4,
 "nbformat_minor": 1
}
