{
 "cells": [
  {
   "cell_type": "markdown",
   "metadata": {
    "colab_type": "text",
    "id": "jntAGIx1vfjk"
   },
   "source": [
    "# 1 Overview / Setup\n",
    "##### **Author: Adam Gatt**"
   ]
  },
  {
   "cell_type": "markdown",
   "metadata": {
    "colab_type": "text",
    "id": "cUT8dZ5Yvfjv"
   },
   "source": [
    "## Jupyter Notebooks\n",
    "Jupyter Notebooks is a useful tool for data scientists. You can present text and code snippets together in a structured way. You can run the code snippets ith a Python engine and show the results in the notebook. These results can persist between sessions. Notebooks can be distributed as a single file that has a description of your work and actual code with results, and that code can be run again to verify its output.\n",
    "* The traditional way to use them is to start a Notebooks server or have access to one already set up. You can easily run a notebook server locally on your own computer, or out of a dockerm container. If more processing power or features like CUDA are required then you could host a servers on Amazon Web Services, such as on an EC2 instance.\n",
    "* Another option is to use Colaboratory, a Google service that runs notebook files out of a Google Drive. You can then share the file with others (or generate a shareable link) in the same way as for other Google Drive files.\n",
    "* These sessions are published as a series of notebook files. Save a copy in your own Google Drive if you like. You can then practice with you copy at your own pace and make as many changes as you like."
   ]
  },
  {
   "cell_type": "code",
   "execution_count": 0,
   "metadata": {
    "colab": {
     "base_uri": "https://localhost:8080/",
     "height": 577
    },
    "colab_type": "code",
    "executionInfo": {
     "elapsed": 2399,
     "status": "ok",
     "timestamp": 1580354975413,
     "user": {
      "displayName": "Adam Gatt",
      "photoUrl": "",
      "userId": "00057255254496518621"
     },
     "user_tz": -630
    },
    "id": "wd1V1hRmvfj2",
    "outputId": "f963df38-e9c2-49b0-982f-fd30464a54f9"
   },
   "outputs": [
    {
     "name": "stdout",
     "output_type": "stream",
     "text": [
      "[[ 1  1  1  1  1  1  1  1  1  1  1  1  1  1  1  1]\n",
      " [ 1 -1  1 -1  1 -1  1 -1  1 -1  1 -1  1 -1  1 -1]\n",
      " [ 1  1 -1 -1  1  1 -1 -1  1  1 -1 -1  1  1 -1 -1]\n",
      " [ 1 -1 -1  1  1 -1 -1  1  1 -1 -1  1  1 -1 -1  1]\n",
      " [ 1  1  1  1 -1 -1 -1 -1  1  1  1  1 -1 -1 -1 -1]\n",
      " [ 1 -1  1 -1 -1  1 -1  1  1 -1  1 -1 -1  1 -1  1]\n",
      " [ 1  1 -1 -1 -1 -1  1  1  1  1 -1 -1 -1 -1  1  1]\n",
      " [ 1 -1 -1  1 -1  1  1 -1  1 -1 -1  1 -1  1  1 -1]\n",
      " [ 1  1  1  1  1  1  1  1 -1 -1 -1 -1 -1 -1 -1 -1]\n",
      " [ 1 -1  1 -1  1 -1  1 -1 -1  1 -1  1 -1  1 -1  1]\n",
      " [ 1  1 -1 -1  1  1 -1 -1 -1 -1  1  1 -1 -1  1  1]\n",
      " [ 1 -1 -1  1  1 -1 -1  1 -1  1  1 -1 -1  1  1 -1]\n",
      " [ 1  1  1  1 -1 -1 -1 -1 -1 -1 -1 -1  1  1  1  1]\n",
      " [ 1 -1  1 -1 -1  1 -1  1 -1  1 -1  1  1 -1  1 -1]\n",
      " [ 1  1 -1 -1 -1 -1  1  1 -1 -1  1  1  1  1 -1 -1]\n",
      " [ 1 -1 -1  1 -1  1  1 -1 -1  1  1 -1  1 -1 -1  1]]\n",
      "Average value is 0.0625\n"
     ]
    },
    {
     "data": {
      "text/plain": [
       "<matplotlib.image.AxesImage at 0x7f6f0184b320>"
      ]
     },
     "execution_count": 22,
     "metadata": {
      "tags": []
     },
     "output_type": "execute_result"
    },
    {
     "data": {
      "image/png": "[encoded data removed]",
      "text/plain": [
       "<Figure size 432x288 with 1 Axes>"
      ]
     },
     "metadata": {
      "tags": []
     },
     "output_type": "display_data"
    }
   ],
   "source": [
    "# Example code and results\n",
    "\n",
    "from matplotlib import pyplot as plt\n",
    "from scipy.linalg import hadamard\n",
    "\n",
    "my_image = hadamard(16)\n",
    "print(my_image)\n",
    "print('Average value is {}'.format(my_image.mean()))\n",
    "plt.imshow(my_image)"
   ]
  },
  {
   "cell_type": "markdown",
   "metadata": {
    "colab_type": "text",
    "id": "7mOfbix1vfkX"
   },
   "source": [
    "## Installing Python locally\n",
    "Setting Notebooks aside, the usual way to run Python code is to download and install the Python on your computer.\n",
    "* IDEs like PyCharm or Visual Studio Code will come with the runtime and make use of it from within the application. They also have other tools for helping clean/develop your code like linters, Intellisense, etc.\n",
    "* You can obtain the Python Interpreter from https://www.python.org/downloads/ and then run it from the command line.\n",
    "* The Anaconda software is a ready-made bundle that includes Python and a large collection of existing libraries, creating an environment that is ready-to-go for most tasks.\n",
    "\n",
    "### Python 2 vs Python 3\n",
    "The upgrade to version 3 included a number of changes that were backwards-incompatible but seen as critical enough to proceed with regardless. This made Python 2 and Python 3 not fully compatible with each other and many popular libraries needed to be updated to support Python 3. This meant that, for a while, development was split between Python 2 and Python 3, as the later version would be the future but didn't have a critical mass of library support just yet. As of a number of years ago the vast majority of libraries have been upgraded and so all Python developers should be using the latest version of Python 3. If ever you see code or libraries for Python 2, keep in mind that they might not work properly with Python 3."
   ]
  },
  {
   "cell_type": "markdown",
   "metadata": {
    "colab_type": "text",
    "id": "BiE3R79uvfki"
   },
   "source": [
    "### Interpreted language\n",
    "Python is written as code that is read and executed directly by the Python Interpreter. There is no intermediate compilation step where it is converted to bytecode (such as an .exe file).\n",
    "* This means that, by default, there is no \"static analysis\" of Python code or \"compile-time errors\". The Interpreter will execute your code line-by-line and any errors are thrown as \"runtime errors\" when they are encountered.\n",
    "* This is perhaps desirable behaviour for Notebook files, as you are running cells one-by-one and would like variables to be available between cells. Your workflow is often a MATLAB-style process of seeing some results, writing more code, executing it, seeing more results - which may be broken up by having to compile the entire notebook and run it all at once."
   ]
  },
  {
   "cell_type": "code",
   "execution_count": 0,
   "metadata": {
    "colab": {
     "base_uri": "https://localhost:8080/",
     "height": 252
    },
    "colab_type": "code",
    "executionInfo": {
     "elapsed": 1642,
     "status": "error",
     "timestamp": 1580350867005,
     "user": {
      "displayName": "Adam Gatt",
      "photoUrl": "",
      "userId": "00057255254496518621"
     },
     "user_tz": -630
    },
    "id": "u9BmKwxgvfkq",
    "outputId": "b9aaa1bb-d5c6-419e-c23d-8ea6331d5363"
   },
   "outputs": [
    {
     "name": "stdout",
     "output_type": "stream",
     "text": [
      "3 times 5 is 15\n"
     ]
    },
    {
     "ename": "ZeroDivisionError",
     "evalue": "ignored",
     "output_type": "error",
     "traceback": [
      "\u001b[0;31m---------------------------------------------------------------------------\u001b[0m",
      "\u001b[0;31mZeroDivisionError\u001b[0m                         Traceback (most recent call last)",
      "\u001b[0;32m<ipython-input-1-0756f2cba014>\u001b[0m in \u001b[0;36m<module>\u001b[0;34m()\u001b[0m\n\u001b[1;32m      3\u001b[0m \u001b[0mprint\u001b[0m\u001b[0;34m(\u001b[0m\u001b[0;34m'3 times 5 is {}'\u001b[0m\u001b[0;34m.\u001b[0m\u001b[0mformat\u001b[0m\u001b[0;34m(\u001b[0m\u001b[0ma\u001b[0m\u001b[0;34m)\u001b[0m\u001b[0;34m)\u001b[0m\u001b[0;34m\u001b[0m\u001b[0;34m\u001b[0m\u001b[0m\n\u001b[1;32m      4\u001b[0m \u001b[0;34m\u001b[0m\u001b[0m\n\u001b[0;32m----> 5\u001b[0;31m \u001b[0mb\u001b[0m \u001b[0;34m=\u001b[0m \u001b[0;36m6\u001b[0m\u001b[0;34m/\u001b[0m\u001b[0;36m0\u001b[0m\u001b[0;34m\u001b[0m\u001b[0;34m\u001b[0m\u001b[0m\n\u001b[0m\u001b[1;32m      6\u001b[0m \u001b[0mprint\u001b[0m\u001b[0;34m(\u001b[0m\u001b[0;34m'6 divided by 0 is {}'\u001b[0m\u001b[0;34m.\u001b[0m\u001b[0mformat\u001b[0m\u001b[0;34m(\u001b[0m\u001b[0mb\u001b[0m\u001b[0;34m)\u001b[0m\u001b[0;34m)\u001b[0m\u001b[0;34m\u001b[0m\u001b[0;34m\u001b[0m\u001b[0m\n\u001b[1;32m      7\u001b[0m \u001b[0;34m\u001b[0m\u001b[0m\n",
      "\u001b[0;31mZeroDivisionError\u001b[0m: division by zero"
     ]
    }
   ],
   "source": [
    "## Execution continues until we encounter an error, and then stops\n",
    "\n",
    "a = 3*5\n",
    "print('3 times 5 is {}'.format(a))\n",
    "\n",
    "b = 6/0\n",
    "print('6 divided by 0 is {}'.format(b))\n",
    "\n",
    "c = 4+6\n",
    "print('4 plus 6 is {}'.format(c))"
   ]
  },
  {
   "cell_type": "code",
   "execution_count": 0,
   "metadata": {
    "colab": {},
    "colab_type": "code",
    "id": "gNY7nrKzvflA",
    "outputId": "784f9036-d02a-4be4-ba66-8d84d9121f77"
   },
   "outputs": [
    {
     "name": "stdout",
     "output_type": "stream",
     "text": [
      "A is 15 and A squared is 225\n"
     ]
    }
   ],
   "source": [
    "## Variable 'a' is available even from another cell\n",
    "d = a**2\n",
    "print('A is {} and A squared is {}'.format(a, d))"
   ]
  },
  {
   "cell_type": "markdown",
   "metadata": {
    "colab_type": "text",
    "id": "Db-SEFvfx9lj"
   },
   "source": [
    "* A further issue with interpreted code is that Python code is not naturally as fast as \"close to the metal\" languages like C++. But there are performance optimised Python libraries and Python code can be made to compile to binary if required. Common advice is to write highly performance-critical code in C and wrap it with a Python library.*italicized text*"
   ]
  },
  {
   "cell_type": "markdown",
   "metadata": {
    "colab_type": "text",
    "id": "D2x7hEZnvflV"
   },
   "source": [
    "## Using external libraries\n",
    "Python has a very extensive \"standard library\" of useful utility code you can import into your project. You can browse the standard library here: https://docs.python.org/3/library/. To make use of a library you must add an appropriate \"import\" line to your code."
   ]
  },
  {
   "cell_type": "code",
   "execution_count": 0,
   "metadata": {
    "colab": {
     "base_uri": "https://localhost:8080/",
     "height": 351
    },
    "colab_type": "code",
    "executionInfo": {
     "elapsed": 1468,
     "status": "ok",
     "timestamp": 1580351081796,
     "user": {
      "displayName": "Adam Gatt",
      "photoUrl": "",
      "userId": "00057255254496518621"
     },
     "user_tz": -630
    },
    "id": "aTEI6aRYvfli",
    "outputId": "be365f39-73e4-4159-b186-d597bde422ed"
   },
   "outputs": [
    {
     "name": "stdout",
     "output_type": "stream",
     "text": [
      "Current date is 2020-01-30 02:24:38.799970\n",
      "[[0. 0. 0. 0. 0.]\n",
      " [0. 0. 0. 0. 0.]\n",
      " [0. 0. 0. 0. 0.]]\n"
     ]
    },
    {
     "data": {
      "text/plain": [
       "[<matplotlib.lines.Line2D at 0x7f6f05713ef0>]"
      ]
     },
     "execution_count": 3,
     "metadata": {
      "tags": []
     },
     "output_type": "execute_result"
    },
    {
     "data": {
      "image/png": "[encoded data removed]",
      "text/plain": [
       "<Figure size 432x288 with 1 Axes>"
      ]
     },
     "metadata": {
      "tags": []
     },
     "output_type": "display_data"
    }
   ],
   "source": [
    "# Import an entire module in one line \n",
    "import datetime\n",
    "\n",
    "print('Current date is {}'.format(datetime.datetime.now()))\n",
    "\n",
    "# We can import only the particular classes/functions we need by specifying \"from\"\n",
    "from numpy import zeros\n",
    "\n",
    "print(zeros([3, 5]))\n",
    "\n",
    "# We can also use an alias to use a shorter or more convenient name for what we import\n",
    "from matplotlib import pyplot as plt\n",
    "plt.plot([1, 4, 9, 16, 25, 36])"
   ]
  },
  {
   "cell_type": "markdown",
   "metadata": {
    "colab_type": "text",
    "id": "AdAPDFk5vfl9"
   },
   "source": [
    "## Install libraries with *pip*\n",
    "The Python package manager is called pip. To use a library that's not included in the standard library, you can use pip to install it and make it available.\n",
    "* If you have access to the command line you can run it with `pip <package-name>`\n",
    "* Anaconda has its own package manager software that you can run with `conda install <package-name>`\n",
    "* You can access pip from within a Jupyter Notebook by beginning with a `!` character. In fact, this escapes the line to the operating system, and so can be used with any console commands. *This seems to work in Colaboratory also.*"
   ]
  },
  {
   "cell_type": "code",
   "execution_count": 0,
   "metadata": {
    "colab": {
     "base_uri": "https://localhost:8080/",
     "height": 210
    },
    "colab_type": "code",
    "executionInfo": {
     "elapsed": 6724,
     "status": "ok",
     "timestamp": 1580351189993,
     "user": {
      "displayName": "Adam Gatt",
      "photoUrl": "",
      "userId": "00057255254496518621"
     },
     "user_tz": -630
    },
    "id": "z7aU38I5vfmF",
    "outputId": "400f24ad-69a8-4fb2-beb7-9c8eecad9f27"
   },
   "outputs": [
    {
     "name": "stdout",
     "output_type": "stream",
     "text": [
      "Requirement already satisfied: boto3 in /usr/local/lib/python3.6/dist-packages (1.10.47)\n",
      "Requirement already satisfied: botocore<1.14.0,>=1.13.47 in /usr/local/lib/python3.6/dist-packages (from boto3) (1.13.47)\n",
      "Requirement already satisfied: s3transfer<0.3.0,>=0.2.0 in /usr/local/lib/python3.6/dist-packages (from boto3) (0.2.1)\n",
      "Requirement already satisfied: jmespath<1.0.0,>=0.7.1 in /usr/local/lib/python3.6/dist-packages (from boto3) (0.9.4)\n",
      "Requirement already satisfied: python-dateutil<3.0.0,>=2.1; python_version >= \"2.7\" in /usr/local/lib/python3.6/dist-packages (from botocore<1.14.0,>=1.13.47->boto3) (2.6.1)\n",
      "Requirement already satisfied: docutils<0.16,>=0.10 in /usr/local/lib/python3.6/dist-packages (from botocore<1.14.0,>=1.13.47->boto3) (0.15.2)\n",
      "Requirement already satisfied: urllib3<1.26,>=1.20; python_version >= \"3.4\" in /usr/local/lib/python3.6/dist-packages (from botocore<1.14.0,>=1.13.47->boto3) (1.24.3)\n",
      "Requirement already satisfied: six>=1.5 in /usr/local/lib/python3.6/dist-packages (from python-dateutil<3.0.0,>=2.1; python_version >= \"2.7\"->botocore<1.14.0,>=1.13.47->boto3) (1.12.0)\n",
      "\n",
      "<module 'boto3' from '/usr/local/lib/python3.6/dist-packages/boto3/__init__.py'>\n"
     ]
    }
   ],
   "source": [
    "!pip install boto3 # External library for accessing AWS resources\n",
    "\n",
    "import boto3\n",
    "print()\n",
    "print(boto3)"
   ]
  },
  {
   "cell_type": "markdown",
   "metadata": {
    "colab_type": "text",
    "id": "O3VfgNpKvfmc"
   },
   "source": [
    "## \"Pythonic\" style and PEP 8\n",
    "Python comes with a coding philosophy that emphasis simple, explicit readable code. Code that meets these virtues is \"pythonic\". Being a flexible language that supports multiple paradigms, Python often offers many different ways to accomplish the same task. But a popular saying in Python is:\n",
    "\n",
    "_\"There should be one -- and preferably only one -- obvious way to do it.\"_\n",
    "\n",
    "**Pythonic style:**\n",
    "* Beautiful is better than ugly.\n",
    "* Explicit is better than implicit.\n",
    "* Simple is better than complex.\n",
    "* Complex is better than complicated.\n",
    "* Flat is better than nested.\n",
    "* Sparse is better than dense.\n",
    "* Readability counts.\n",
    "\n",
    "\n",
    "Python comes with an opinionated style guide covering variable names, whitespace, commenting, quotes, alignment. These can be found in **PEP 8** (Python Enhancement Proposal 8). I will try to follow it as much as possible but old coding habits (and preferences) can die hard so apologies for deviations that might appear in these notebooks.\n",
    "https://www.python.org/dev/peps/pep-0008/"
   ]
  },
  {
   "cell_type": "markdown",
   "metadata": {
    "colab_type": "text",
    "id": "Py8y1D7evfmm"
   },
   "source": [
    "## Example code"
   ]
  },
  {
   "cell_type": "code",
   "execution_count": 0,
   "metadata": {
    "colab": {
     "base_uri": "https://localhost:8080/",
     "height": 207
    },
    "colab_type": "code",
    "executionInfo": {
     "elapsed": 879,
     "status": "ok",
     "timestamp": 1580351604540,
     "user": {
      "displayName": "Adam Gatt",
      "photoUrl": "",
      "userId": "00057255254496518621"
     },
     "user_tz": -630
    },
    "id": "MLsEJE_Uvfmt",
    "outputId": "24b312f8-2a1a-49dd-d5bc-1dd7e0999609"
   },
   "outputs": [
    {
     "name": "stdout",
     "output_type": "stream",
     "text": [
      "Adam has a Red shirt\n",
      "Travis has a Blue shirt\n",
      "Meera has a Green shirt\n",
      "Anthony has a Green shirt\n",
      "Sebastien has a Blue shirt\n",
      "Barney has a Blue shirt\n",
      "Adam has a Blue shirt\n",
      "\n",
      "The teams are {'Red': ['Adam'], 'Blue': ['Travis', 'Sebastien', 'Barney', 'Adam'], 'Green': ['Meera', 'Anthony']}\n",
      "\n",
      "Player Adam is in multiple teams: Red, Blue\n"
     ]
    }
   ],
   "source": [
    "players = ['Adam', 'Travis', 'Meera', 'Anthony', 'Sebastien', 'Barney', 'Adam']\n",
    "shirts = ['Red', 'Blue', 'Green', 'Green', 'Blue', 'Blue', 'Blue']\n",
    "\n",
    "\n",
    "\n",
    "# Assign shirts to players and add to teams\n",
    "teams = dict()\n",
    "for player, shirt_colour in zip(players, shirts):\n",
    "    print(\"{} has a {} shirt\".format(player, shirt_colour))\n",
    "    \n",
    "    # If the team doesn't exist then create it\n",
    "    if shirt_colour not in teams:\n",
    "        teams[shirt_colour] = [] \n",
    "        \n",
    "    # Assign the player to the team of their shirt colour\n",
    "    teams[shirt_colour].append(player) # Or, teams[shirt_colour] += [player]\n",
    "\n",
    "print(\"\\nThe teams are {}\\n\".format(teams))\n",
    "\n",
    "# Create set to loop over unique names\n",
    "for player in set(players):\n",
    "    # Create list of teams the current player belongs to\n",
    "    teams_for_player = [team\n",
    "                        for (team, team_members) in teams.items()\n",
    "                        if player in team_members]\n",
    "    if len(teams_for_player) > 1:\n",
    "        print('Player {} is in multiple teams: {}'.format(player, ', '.join(teams_for_player)))"
   ]
  },
  {
   "cell_type": "code",
   "execution_count": 0,
   "metadata": {
    "colab": {
     "base_uri": "https://localhost:8080/",
     "height": 51
    },
    "colab_type": "code",
    "executionInfo": {
     "elapsed": 1071,
     "status": "ok",
     "timestamp": 1580352497888,
     "user": {
      "displayName": "Adam Gatt",
      "photoUrl": "",
      "userId": "00057255254496518621"
     },
     "user_tz": -630
    },
    "id": "Xm6JKtBHvfnA",
    "outputId": "f2bc73f9-8276-49df-c44a-7bed55248cc0"
   },
   "outputs": [
    {
     "name": "stdout",
     "output_type": "stream",
     "text": [
      "The factorials for the powers of 2 below 10 are:\n",
      "[1, 2, 24, 40320]\n"
     ]
    }
   ],
   "source": [
    "# Calculate the factorials for all numbers below 10 that are powers of 2\n",
    "import math\n",
    "\n",
    "def factorial(n):\n",
    "    if n == 1:\n",
    "        return 1\n",
    "    else:\n",
    "        return n * factorial(n-1)\n",
    "\n",
    "def isPowerOf(n, base):\n",
    "    return math.log(n, base) % 1 == 0\n",
    "    \n",
    "print('The factorials for the powers of 2 below 10 are:')\n",
    "print([factorial(x)\n",
    "        for x in range(1, 10)\n",
    "        if isPowerOf(x, 2)])"
   ]
  },
  {
   "cell_type": "markdown",
   "metadata": {},
   "source": [
    "You can also write Python in a more [functional programming](https://en.wikipedia.org/wiki/Functional_programming) style (if you are familiar with it) due to ready access to [lambda functions](https://en.wikipedia.org/wiki/Anonymous_function) and the usual set of high-level functions (map, filter, reduce, partial, etc)."
   ]
  },
  {
   "cell_type": "code",
   "execution_count": 0,
   "metadata": {
    "colab": {
     "base_uri": "https://localhost:8080/",
     "height": 51
    },
    "colab_type": "code",
    "executionInfo": {
     "elapsed": 739,
     "status": "ok",
     "timestamp": 1580293081171,
     "user": {
      "displayName": "Adam Gatt",
      "photoUrl": "",
      "userId": "00057255254496518621"
     },
     "user_tz": -630
    },
    "id": "H6hOzJlJvfnY",
    "outputId": "26e2aee7-838b-4c16-9b44-0a7ebaedc92c"
   },
   "outputs": [
    {
     "name": "stdout",
     "output_type": "stream",
     "text": [
      "The factorials for the powers of 2 below 10 are:\n",
      "[1, 2, 24, 40320]\n"
     ]
    }
   ],
   "source": [
    "import math\n",
    "\n",
    "factorial = lambda n: 1 if n == 1 else n * factorial(n-1)\n",
    "\n",
    "isPowerOf = lambda n, base: math.log(n, base) % 1 == 0\n",
    "\n",
    "isPowerOf2 = lambda n: isPowerOf(n, 2)\n",
    "\n",
    "results = map(factorial, filter(isPowerOf2, range(1, 10)))\n",
    "\n",
    "print('The factorials for the powers of 2 below 10 are:')\n",
    "print(list(results))"
   ]
  },
  {
   "cell_type": "code",
   "execution_count": 0,
   "metadata": {
    "colab": {},
    "colab_type": "code",
    "id": "XKmhvmwBXspV"
   },
   "outputs": [],
   "source": []
  }
 ],
 "metadata": {
  "colab": {
   "collapsed_sections": [],
   "name": "1 Overview - Setup.ipynb",
   "provenance": [
    {
     "file_id": "1zh39ijNp2koMKiJPvLgHKnRenbhkwnqT",
     "timestamp": 1583895144737
    }
   ]
  },
  "kernelspec": {
   "display_name": "Python 3",
   "language": "python",
   "name": "python3"
  },
  "language_info": {
   "codemirror_mode": {
    "name": "ipython",
    "version": 3
   },
   "file_extension": ".py",
   "mimetype": "text/x-python",
   "name": "python",
   "nbconvert_exporter": "python",
   "pygments_lexer": "ipython3",
   "version": "3.8.5"
  }
 },
 "nbformat": 4,
 "nbformat_minor": 1
}
